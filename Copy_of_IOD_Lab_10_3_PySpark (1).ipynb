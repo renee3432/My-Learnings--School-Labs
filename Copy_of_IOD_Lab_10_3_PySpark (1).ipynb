{
  "nbformat": 4,
  "nbformat_minor": 0,
  "metadata": {
    "colab": {
      "provenance": []
    },
    "kernelspec": {
      "name": "python3",
      "display_name": "Python 3"
    },
    "language_info": {
      "name": "python"
    }
  },
  "cells": [
    {
      "cell_type": "markdown",
      "source": [
        "<div>\n",
        "<img src=https://www.institutedata.com/wp-content/uploads/2019/10/iod_h_tp_primary_c.svg width=\"300\">\n",
        "</div>"
      ],
      "metadata": {
        "id": "x0wJ6ih0dGue"
      }
    },
    {
      "cell_type": "markdown",
      "source": [
        "# Lab 10.3 PySpark for Big Data"
      ],
      "metadata": {
        "id": "q9ROjAGE3Xwe"
      }
    },
    {
      "cell_type": "markdown",
      "source": [
        "## Introduction\n",
        "\n",
        "**Note**: this notebook is to be run in Google Colab on your Google Drive. It will not work locally on your computer.\n",
        "\n",
        "The purpose of this lab is to gain further exposure to cloud computing, often necessary when datasets become too large to manage on a local machine. You will learn how to work with a large dataset through the PySpark Python library with Google Colaboratory (Colab).\n",
        "\n",
        "In Google Colab, a virtual machine is automatically set up to execute your code. The maximum lifetime of such a machine is 12 hours. Note that notebooks will be disconnected from virtual machines if left idle. If this happens simple click on the Connect button to reconnect. If the kernel needs to be restarted (via the Runtime menu), variables may be lost but packages would not need to be reinstalled unless a new machine is assigned.\n",
        "\n",
        "https://research.google.com/colaboratory/faq.html"
      ],
      "metadata": {
        "id": "b1x0a8wS36Dg"
      }
    },
    {
      "cell_type": "markdown",
      "source": [
        "Sign into colab.research.google.com and choose the Upload tab and upload this notebook.  This will automatically create a folder called \"Colab Notebooks\" in your Google Drive (if it does not already exist)."
      ],
      "metadata": {
        "id": "9Aofk5PAOjiy"
      }
    },
    {
      "cell_type": "markdown",
      "source": [
        "Apache Spark is an open-source cluster-computing framework, able to work with large datasets quickly by performing in-memory caching and computation. Pyspark is a Python API for Spark commonly used to manipulate big data. For reference one useful cheat sheet is available at https://s3.amazonaws.com/assets.datacamp.com/blog_assets/PySpark_SQL_Cheat_Sheet_Python.pdf\n",
        "\n",
        "\n",
        "Fortunately Pyspark is straightforward to setup in Google Colab:"
      ],
      "metadata": {
        "id": "Q9D2nLzvpvXG"
      }
    },
    {
      "cell_type": "code",
      "execution_count": 16,
      "metadata": {
        "id": "0OjLwFBPiHjE",
        "colab": {
          "base_uri": "https://localhost:8080/"
        },
        "outputId": "aa2b0f95-ea0c-48f7-d5c7-110bff112677"
      },
      "outputs": [
        {
          "output_type": "stream",
          "name": "stdout",
          "text": [
            "Requirement already satisfied: pyspark in /usr/local/lib/python3.10/dist-packages (3.5.0)\n",
            "Requirement already satisfied: py4j in /usr/local/lib/python3.10/dist-packages (0.10.9.7)\n"
          ]
        }
      ],
      "source": [
        "!pip install pyspark py4j"
      ]
    },
    {
      "cell_type": "markdown",
      "source": [
        "To work with Spark DataFrames we firstly need to create a Spark DataFrame:"
      ],
      "metadata": {
        "id": "AqVKUUfaPAFk"
      }
    },
    {
      "cell_type": "code",
      "source": [
        "from pyspark.sql import SparkSession\n",
        "from pyspark.sql.functions import col, trim, avg, round, when\n",
        "from pyspark import SparkFiles\n",
        "\n",
        "import pandas as pd\n",
        "import matplotlib.pyplot as plt\n",
        "import seaborn as sns"
      ],
      "metadata": {
        "id": "EVkw1kauisG7"
      },
      "execution_count": 17,
      "outputs": []
    },
    {
      "cell_type": "code",
      "source": [
        "spark = SparkSession.builder.appName(\"populationdata\").getOrCreate()"
      ],
      "metadata": {
        "id": "0DhoqhUfjLLR"
      },
      "execution_count": 18,
      "outputs": []
    },
    {
      "cell_type": "code",
      "source": [
        "spark"
      ],
      "metadata": {
        "id": "VR8Wz35Srk2e",
        "colab": {
          "base_uri": "https://localhost:8080/",
          "height": 219
        },
        "outputId": "731488de-14aa-43f8-d255-47aeee0d1955"
      },
      "execution_count": 19,
      "outputs": [
        {
          "output_type": "execute_result",
          "data": {
            "text/plain": [
              "<pyspark.sql.session.SparkSession at 0x7863652bd060>"
            ],
            "text/html": [
              "\n",
              "            <div>\n",
              "                <p><b>SparkSession - in-memory</b></p>\n",
              "                \n",
              "        <div>\n",
              "            <p><b>SparkContext</b></p>\n",
              "\n",
              "            <p><a href=\"http://59639e2b27f0:4040\">Spark UI</a></p>\n",
              "\n",
              "            <dl>\n",
              "              <dt>Version</dt>\n",
              "                <dd><code>v3.5.0</code></dd>\n",
              "              <dt>Master</dt>\n",
              "                <dd><code>local[*]</code></dd>\n",
              "              <dt>AppName</dt>\n",
              "                <dd><code>populationdata</code></dd>\n",
              "            </dl>\n",
              "        </div>\n",
              "        \n",
              "            </div>\n",
              "        "
            ]
          },
          "metadata": {},
          "execution_count": 19
        }
      ]
    },
    {
      "cell_type": "markdown",
      "source": [
        "## Loading the dataset and EDA"
      ],
      "metadata": {
        "id": "fniWWP-mUHbj"
      }
    },
    {
      "cell_type": "markdown",
      "source": [
        "The dataset to be analyzed in this lab shows population estimates by age and gender:\n",
        "\n",
        "   - PopMale: Male population for the individual age (thousands)\n",
        "   - PopFemale: Female population for the individual age (thousands)\n",
        "   - PopTotal: Total population for the individual age (thousands)\n",
        "\n",
        "Further details can be found at https://population.un.org/wpp/."
      ],
      "metadata": {
        "id": "ARXXUB6T4YyX"
      }
    },
    {
      "cell_type": "code",
      "source": [
        "from google.colab import drive"
      ],
      "metadata": {
        "id": "SIwmSmYtJSce"
      },
      "execution_count": 20,
      "outputs": []
    },
    {
      "cell_type": "code",
      "source": [
        "drive.mount('/content/drive')"
      ],
      "metadata": {
        "id": "UAEvb3tCJP5X",
        "colab": {
          "base_uri": "https://localhost:8080/"
        },
        "outputId": "5aa714a9-d7f4-4954-8313-b55be299e21a"
      },
      "execution_count": 21,
      "outputs": [
        {
          "output_type": "stream",
          "name": "stdout",
          "text": [
            "Drive already mounted at /content/drive; to attempt to forcibly remount, call drive.mount(\"/content/drive\", force_remount=True).\n"
          ]
        }
      ]
    },
    {
      "cell_type": "code",
      "source": [
        "# run this cell after uploading the file into your Colab Notebooks folder\n",
        "df = spark.read.csv(r\"/content/drive/MyDrive/Colab Notebooks/WPP2019_PopulationBySingleAgeSex_1950-2019.csv\", header=True)"
      ],
      "metadata": {
        "id": "W9PIO6ccj11y"
      },
      "execution_count": 22,
      "outputs": []
    },
    {
      "cell_type": "code",
      "source": [
        "from google.colab import drive\n",
        "drive.mount('/content/drive')"
      ],
      "metadata": {
        "id": "sK7q5cLTiXNk",
        "outputId": "5d78af4a-d7d3-4dcf-e663-bdca4d53f558",
        "colab": {
          "base_uri": "https://localhost:8080/"
        }
      },
      "execution_count": 23,
      "outputs": [
        {
          "output_type": "stream",
          "name": "stdout",
          "text": [
            "Drive already mounted at /content/drive; to attempt to forcibly remount, call drive.mount(\"/content/drive\", force_remount=True).\n"
          ]
        }
      ]
    },
    {
      "cell_type": "code",
      "source": [
        "type(df)"
      ],
      "metadata": {
        "id": "0HBFMsS4S_0y",
        "outputId": "bf74c708-06ae-4ab3-8cca-b06b72750f0b",
        "colab": {
          "base_uri": "https://localhost:8080/",
          "height": 187
        }
      },
      "execution_count": 24,
      "outputs": [
        {
          "output_type": "execute_result",
          "data": {
            "text/plain": [
              "pyspark.sql.dataframe.DataFrame"
            ],
            "text/html": [
              "<div style=\"max-width:800px; border: 1px solid var(--colab-border-color);\"><style>\n",
              "      pre.function-repr-contents {\n",
              "        overflow-x: auto;\n",
              "        padding: 8px 12px;\n",
              "        max-height: 500px;\n",
              "      }\n",
              "\n",
              "      pre.function-repr-contents.function-repr-contents-collapsed {\n",
              "        cursor: pointer;\n",
              "        max-height: 100px;\n",
              "      }\n",
              "    </style>\n",
              "    <pre style=\"white-space: initial; background:\n",
              "         var(--colab-secondary-surface-color); padding: 8px 12px;\n",
              "         border-bottom: 1px solid var(--colab-border-color);\"><b>pyspark.sql.dataframe.DataFrame</b><br/>def __init__(jdf: JavaObject, sql_ctx: Union[&#x27;SQLContext&#x27;, &#x27;SparkSession&#x27;])</pre><pre class=\"function-repr-contents function-repr-contents-collapsed\" style=\"\"><a class=\"filepath\" style=\"display:none\" href=\"#\">/usr/local/lib/python3.10/dist-packages/pyspark/sql/dataframe.py</a>A distributed collection of data grouped into named columns.\n",
              "\n",
              ".. versionadded:: 1.3.0\n",
              "\n",
              ".. versionchanged:: 3.4.0\n",
              "    Supports Spark Connect.\n",
              "\n",
              "Examples\n",
              "--------\n",
              "A :class:`DataFrame` is equivalent to a relational table in Spark SQL,\n",
              "and can be created using various functions in :class:`SparkSession`:\n",
              "\n",
              "&gt;&gt;&gt; people = spark.createDataFrame([\n",
              "...     {&quot;deptId&quot;: 1, &quot;age&quot;: 40, &quot;name&quot;: &quot;Hyukjin Kwon&quot;, &quot;gender&quot;: &quot;M&quot;, &quot;salary&quot;: 50},\n",
              "...     {&quot;deptId&quot;: 1, &quot;age&quot;: 50, &quot;name&quot;: &quot;Takuya Ueshin&quot;, &quot;gender&quot;: &quot;M&quot;, &quot;salary&quot;: 100},\n",
              "...     {&quot;deptId&quot;: 2, &quot;age&quot;: 60, &quot;name&quot;: &quot;Xinrong Meng&quot;, &quot;gender&quot;: &quot;F&quot;, &quot;salary&quot;: 150},\n",
              "...     {&quot;deptId&quot;: 3, &quot;age&quot;: 20, &quot;name&quot;: &quot;Haejoon Lee&quot;, &quot;gender&quot;: &quot;M&quot;, &quot;salary&quot;: 200}\n",
              "... ])\n",
              "\n",
              "Once created, it can be manipulated using the various domain-specific-language\n",
              "(DSL) functions defined in: :class:`DataFrame`, :class:`Column`.\n",
              "\n",
              "To select a column from the :class:`DataFrame`, use the apply method:\n",
              "\n",
              "&gt;&gt;&gt; age_col = people.age\n",
              "\n",
              "A more concrete example:\n",
              "\n",
              "&gt;&gt;&gt; # To create DataFrame using SparkSession\n",
              "... department = spark.createDataFrame([\n",
              "...     {&quot;id&quot;: 1, &quot;name&quot;: &quot;PySpark&quot;},\n",
              "...     {&quot;id&quot;: 2, &quot;name&quot;: &quot;ML&quot;},\n",
              "...     {&quot;id&quot;: 3, &quot;name&quot;: &quot;Spark SQL&quot;}\n",
              "... ])\n",
              "\n",
              "&gt;&gt;&gt; people.filter(people.age &gt; 30).join(\n",
              "...     department, people.deptId == department.id).groupBy(\n",
              "...     department.name, &quot;gender&quot;).agg({&quot;salary&quot;: &quot;avg&quot;, &quot;age&quot;: &quot;max&quot;}).show()\n",
              "+-------+------+-----------+--------+\n",
              "|   name|gender|avg(salary)|max(age)|\n",
              "+-------+------+-----------+--------+\n",
              "|     ML|     F|      150.0|      60|\n",
              "|PySpark|     M|       75.0|      50|\n",
              "+-------+------+-----------+--------+\n",
              "\n",
              "Notes\n",
              "-----\n",
              "A DataFrame should only be created as described above. It should not be directly\n",
              "created via using the constructor.</pre>\n",
              "      <script>\n",
              "      if (google.colab.kernel.accessAllowed && google.colab.files && google.colab.files.view) {\n",
              "        for (const element of document.querySelectorAll('.filepath')) {\n",
              "          element.style.display = 'block'\n",
              "          element.onclick = (event) => {\n",
              "            event.preventDefault();\n",
              "            event.stopPropagation();\n",
              "            google.colab.files.view(element.textContent, 80);\n",
              "          };\n",
              "        }\n",
              "      }\n",
              "      for (const element of document.querySelectorAll('.function-repr-contents')) {\n",
              "        element.onclick = (event) => {\n",
              "          event.preventDefault();\n",
              "          event.stopPropagation();\n",
              "          element.classList.toggle('function-repr-contents-collapsed');\n",
              "        };\n",
              "      }\n",
              "      </script>\n",
              "      </div>"
            ]
          },
          "metadata": {},
          "execution_count": 24
        }
      ]
    },
    {
      "cell_type": "code",
      "source": [
        "df"
      ],
      "metadata": {
        "id": "gjGaJckiP5Wq",
        "outputId": "c8755120-8026-4d36-b322-7e87cde2ed60",
        "colab": {
          "base_uri": "https://localhost:8080/"
        }
      },
      "execution_count": 25,
      "outputs": [
        {
          "output_type": "execute_result",
          "data": {
            "text/plain": [
              "DataFrame[LocID: string, Location: string, VarID: string, Variant: string, Time: string, MidPeriod: string, AgeGrp: string, AgeGrpStart: string, AgeGrpSpan: string, PopMale: string, PopFemale: string, PopTotal: string]"
            ]
          },
          "metadata": {},
          "execution_count": 25
        }
      ]
    },
    {
      "cell_type": "markdown",
      "source": [
        "Note that unlike Pandas this does not display a preview of the dataset, only the schema. This is because Spark performs lazy evaluation, only displaying rows when needed."
      ],
      "metadata": {
        "id": "jx2B5DdBt-uv"
      }
    },
    {
      "cell_type": "code",
      "source": [
        "df.columns"
      ],
      "metadata": {
        "id": "x2oftXQoXLM5",
        "outputId": "16bbd601-003a-48c5-f679-e2aabeb46724",
        "colab": {
          "base_uri": "https://localhost:8080/"
        }
      },
      "execution_count": 26,
      "outputs": [
        {
          "output_type": "execute_result",
          "data": {
            "text/plain": [
              "['LocID',\n",
              " 'Location',\n",
              " 'VarID',\n",
              " 'Variant',\n",
              " 'Time',\n",
              " 'MidPeriod',\n",
              " 'AgeGrp',\n",
              " 'AgeGrpStart',\n",
              " 'AgeGrpSpan',\n",
              " 'PopMale',\n",
              " 'PopFemale',\n",
              " 'PopTotal']"
            ]
          },
          "metadata": {},
          "execution_count": 26
        }
      ]
    },
    {
      "cell_type": "code",
      "source": [],
      "metadata": {
        "id": "yUzIy3XxMEMu"
      },
      "execution_count": 26,
      "outputs": []
    },
    {
      "cell_type": "markdown",
      "source": [],
      "metadata": {
        "id": "sEJqR51YMH-a"
      }
    },
    {
      "cell_type": "markdown",
      "source": [],
      "metadata": {
        "id": "5sGp29RbMIUA"
      }
    },
    {
      "cell_type": "markdown",
      "source": [
        "**Exercise**: How many rows does df contain?"
      ],
      "metadata": {
        "id": "P0T1d7f8ucdV"
      }
    },
    {
      "cell_type": "markdown",
      "source": [],
      "metadata": {
        "id": "6yTL6Ob0ldef"
      }
    },
    {
      "cell_type": "code",
      "source": [
        "# ANSWER\n",
        "df.count()"
      ],
      "metadata": {
        "id": "Or9UO3KfkO2j",
        "outputId": "85674b69-7480-4468-dc0d-0b5c6dfd412d",
        "colab": {
          "base_uri": "https://localhost:8080/"
        }
      },
      "execution_count": 27,
      "outputs": [
        {
          "output_type": "execute_result",
          "data": {
            "text/plain": [
              "1594558"
            ]
          },
          "metadata": {},
          "execution_count": 27
        }
      ]
    },
    {
      "cell_type": "code",
      "source": [
        "df.rdd.getNumPartitions()"
      ],
      "metadata": {
        "id": "3OrPKvO1wwmF",
        "outputId": "bed365d6-9759-4186-ddca-357ed3dfd68a",
        "colab": {
          "base_uri": "https://localhost:8080/"
        }
      },
      "execution_count": 28,
      "outputs": [
        {
          "output_type": "execute_result",
          "data": {
            "text/plain": [
              "2"
            ]
          },
          "metadata": {},
          "execution_count": 28
        }
      ]
    },
    {
      "cell_type": "markdown",
      "source": [
        "This corresponds to the number of cores in a free Google Colab instance."
      ],
      "metadata": {
        "id": "laKXx1YuVHzJ"
      }
    },
    {
      "cell_type": "code",
      "source": [
        "df.printSchema()"
      ],
      "metadata": {
        "id": "U46UOmCm-JGW",
        "outputId": "c8f1bffb-bc7f-4ea2-cffb-ae3ef3d2df2c",
        "colab": {
          "base_uri": "https://localhost:8080/"
        }
      },
      "execution_count": 29,
      "outputs": [
        {
          "output_type": "stream",
          "name": "stdout",
          "text": [
            "root\n",
            " |-- LocID: string (nullable = true)\n",
            " |-- Location: string (nullable = true)\n",
            " |-- VarID: string (nullable = true)\n",
            " |-- Variant: string (nullable = true)\n",
            " |-- Time: string (nullable = true)\n",
            " |-- MidPeriod: string (nullable = true)\n",
            " |-- AgeGrp: string (nullable = true)\n",
            " |-- AgeGrpStart: string (nullable = true)\n",
            " |-- AgeGrpSpan: string (nullable = true)\n",
            " |-- PopMale: string (nullable = true)\n",
            " |-- PopFemale: string (nullable = true)\n",
            " |-- PopTotal: string (nullable = true)\n",
            "\n"
          ]
        }
      ]
    },
    {
      "cell_type": "markdown",
      "source": [
        "We use df.show() similarly to df.head() in Pandas."
      ],
      "metadata": {
        "id": "Wbu-qsbAurU_"
      }
    },
    {
      "cell_type": "code",
      "source": [
        "df.show()"
      ],
      "metadata": {
        "id": "2gErdsL3kcMu",
        "outputId": "7230a74c-f282-439b-a0db-7d5bb2fab9a9",
        "colab": {
          "base_uri": "https://localhost:8080/"
        }
      },
      "execution_count": 30,
      "outputs": [
        {
          "output_type": "stream",
          "name": "stdout",
          "text": [
            "+-----+-----------+-----+-------+----+---------+------+-----------+----------+-------+---------+--------+\n",
            "|LocID|   Location|VarID|Variant|Time|MidPeriod|AgeGrp|AgeGrpStart|AgeGrpSpan|PopMale|PopFemale|PopTotal|\n",
            "+-----+-----------+-----+-------+----+---------+------+-----------+----------+-------+---------+--------+\n",
            "|    4|Afghanistan|    2| Medium|1950|   1950.5|     0|          0|         1|139.669|  154.913| 294.582|\n",
            "|    4|Afghanistan|    2| Medium|1950|   1950.5|     1|          1|         1|131.916|  141.851| 273.767|\n",
            "|    4|Afghanistan|    2| Medium|1950|   1950.5|     2|          2|         1|125.127|  130.632| 255.759|\n",
            "|    4|Afghanistan|    2| Medium|1950|   1950.5|     3|          3|         1| 119.22|  121.097| 240.317|\n",
            "|    4|Afghanistan|    2| Medium|1950|   1950.5|     4|          4|         1|114.112|  113.085| 227.197|\n",
            "|    4|Afghanistan|    2| Medium|1950|   1950.5|     5|          5|         1|109.723|  106.436| 216.159|\n",
            "|    4|Afghanistan|    2| Medium|1950|   1950.5|     6|          6|         1|105.969|   100.99| 206.959|\n",
            "|    4|Afghanistan|    2| Medium|1950|   1950.5|     7|          7|         1|102.769|   96.585| 199.354|\n",
            "|    4|Afghanistan|    2| Medium|1950|   1950.5|     8|          8|         1|100.041|   93.063| 193.104|\n",
            "|    4|Afghanistan|    2| Medium|1950|   1950.5|     9|          9|         1| 97.704|   90.261| 187.965|\n",
            "|    4|Afghanistan|    2| Medium|1950|   1950.5|    10|         10|         1| 95.755|   88.171| 183.926|\n",
            "|    4|Afghanistan|    2| Medium|1950|   1950.5|    11|         11|         1| 94.192|   86.779| 180.971|\n",
            "|    4|Afghanistan|    2| Medium|1950|   1950.5|    12|         12|         1| 92.534|   85.181| 177.715|\n",
            "|    4|Afghanistan|    2| Medium|1950|   1950.5|    13|         13|         1| 90.537|   82.918| 173.455|\n",
            "|    4|Afghanistan|    2| Medium|1950|   1950.5|    14|         14|         1|  88.36|   80.277| 168.637|\n",
            "|    4|Afghanistan|    2| Medium|1950|   1950.5|    15|         15|         1| 86.374|   78.007| 164.381|\n",
            "|    4|Afghanistan|    2| Medium|1950|   1950.5|    16|         16|         1| 84.467|    75.96| 160.427|\n",
            "|    4|Afghanistan|    2| Medium|1950|   1950.5|    17|         17|         1| 82.703|   73.906| 156.609|\n",
            "|    4|Afghanistan|    2| Medium|1950|   1950.5|    18|         18|         1| 81.139|   71.804| 152.943|\n",
            "|    4|Afghanistan|    2| Medium|1950|   1950.5|    19|         19|         1| 79.686|   69.686| 149.372|\n",
            "+-----+-----------+-----+-------+----+---------+------+-----------+----------+-------+---------+--------+\n",
            "only showing top 20 rows\n",
            "\n"
          ]
        }
      ]
    },
    {
      "cell_type": "code",
      "source": [
        "df.describe()"
      ],
      "metadata": {
        "id": "yzxQaJivXU-d",
        "outputId": "26f4d9a7-baf7-4baf-8d0d-d662bd63ab5a",
        "colab": {
          "base_uri": "https://localhost:8080/"
        }
      },
      "execution_count": 31,
      "outputs": [
        {
          "output_type": "execute_result",
          "data": {
            "text/plain": [
              "DataFrame[summary: string, LocID: string, Location: string, VarID: string, Variant: string, Time: string, MidPeriod: string, AgeGrp: string, AgeGrpStart: string, AgeGrpSpan: string, PopMale: string, PopFemale: string, PopTotal: string]"
            ]
          },
          "metadata": {},
          "execution_count": 31
        }
      ]
    },
    {
      "cell_type": "markdown",
      "source": [
        "Once again evaluation of describe is lazy, we use show() to display results:"
      ],
      "metadata": {
        "id": "SRiwEStKu1Bj"
      }
    },
    {
      "cell_type": "markdown",
      "source": [],
      "metadata": {
        "id": "b086yRpkcFm1"
      }
    },
    {
      "cell_type": "code",
      "source": [
        "df.describe().show()"
      ],
      "metadata": {
        "id": "019DYlC1Xa4f",
        "outputId": "48499bcd-9ecf-43b6-af3e-31e44cd06ce6",
        "colab": {
          "base_uri": "https://localhost:8080/"
        }
      },
      "execution_count": null,
      "outputs": [
        {
          "output_type": "stream",
          "name": "stdout",
          "text": [
            "+-------+------------------+--------------------+-------+-------+------------------+------------------+------------------+------------------+------------------+-----------------+------------------+------------------+\n",
            "|summary|             LocID|            Location|  VarID|Variant|              Time|         MidPeriod|            AgeGrp|       AgeGrpStart|        AgeGrpSpan|          PopMale|         PopFemale|          PopTotal|\n",
            "+-------+------------------+--------------------+-------+-------+------------------+------------------+------------------+------------------+------------------+-----------------+------------------+------------------+\n",
            "|  count|           1594558|             1594558|1594557|1594557|           1594557|           1594557|           1594557|           1594557|           1594557|          1594557|           1594557|           1594557|\n",
            "|   mean|1033.3049070651552|                NULL|    2.0|   NULL|1984.4614403875182|1984.9614403875182|49.999319560228955|49.999319560228955| 0.980198889095843|1961.397772092911|1926.3630492733375|3887.7608213660415|\n",
            "| stddev| 822.1584139734433|                NULL|    0.0|   NULL|20.203454220920882|20.203454220920882|29.154616905014546|29.154616905014546|0.1980155610180145|5325.254389248176| 5052.834500971915|10375.332751681592|\n",
            "|    min|               100|         Afghanistan|      2| Medium|              1950|            1950.5|                 0|                 0|                -1|                0|                 0|                 0|\n",
            "|    max|               986|Latin American In...|      2| Medium|              2019|            2019.5|                99|                99|                 1|         9999.967|          9999.992|         99991.504|\n",
            "+-------+------------------+--------------------+-------+-------+------------------+------------------+------------------+------------------+------------------+-----------------+------------------+------------------+\n",
            "\n"
          ]
        }
      ]
    },
    {
      "cell_type": "markdown",
      "source": [
        "Let us remove rows we do not need."
      ],
      "metadata": {
        "id": "cUaRjQT1UKQA"
      }
    },
    {
      "cell_type": "code",
      "source": [
        "df.select('VarID', 'Variant').distinct().show()"
      ],
      "metadata": {
        "id": "NGE3jFrNnKPN",
        "outputId": "567f676e-ca6d-4af0-8125-3c2a707004dd",
        "colab": {
          "base_uri": "https://localhost:8080/"
        }
      },
      "execution_count": null,
      "outputs": [
        {
          "output_type": "stream",
          "name": "stdout",
          "text": [
            "+-----+-------+\n",
            "|VarID|Variant|\n",
            "+-----+-------+\n",
            "|    2| Medium|\n",
            "| NULL|   NULL|\n",
            "+-----+-------+\n",
            "\n"
          ]
        }
      ]
    },
    {
      "cell_type": "markdown",
      "source": [
        "As we will not work with other variant, we can safely drop these columns."
      ],
      "metadata": {
        "id": "ImP40Am2Ubyk"
      }
    },
    {
      "cell_type": "code",
      "source": [
        "df = df.drop('VarID', 'Variant')"
      ],
      "metadata": {
        "id": "FcUa1NXkUvuK"
      },
      "execution_count": null,
      "outputs": []
    },
    {
      "cell_type": "code",
      "source": [
        "df.show()"
      ],
      "metadata": {
        "id": "E9JqgSV8U0MO",
        "outputId": "33358b75-dd9b-4236-ecc1-e92ff455ae4b",
        "colab": {
          "base_uri": "https://localhost:8080/"
        }
      },
      "execution_count": 32,
      "outputs": [
        {
          "output_type": "stream",
          "name": "stdout",
          "text": [
            "+-----+-----------+-----+-------+----+---------+------+-----------+----------+-------+---------+--------+\n",
            "|LocID|   Location|VarID|Variant|Time|MidPeriod|AgeGrp|AgeGrpStart|AgeGrpSpan|PopMale|PopFemale|PopTotal|\n",
            "+-----+-----------+-----+-------+----+---------+------+-----------+----------+-------+---------+--------+\n",
            "|    4|Afghanistan|    2| Medium|1950|   1950.5|     0|          0|         1|139.669|  154.913| 294.582|\n",
            "|    4|Afghanistan|    2| Medium|1950|   1950.5|     1|          1|         1|131.916|  141.851| 273.767|\n",
            "|    4|Afghanistan|    2| Medium|1950|   1950.5|     2|          2|         1|125.127|  130.632| 255.759|\n",
            "|    4|Afghanistan|    2| Medium|1950|   1950.5|     3|          3|         1| 119.22|  121.097| 240.317|\n",
            "|    4|Afghanistan|    2| Medium|1950|   1950.5|     4|          4|         1|114.112|  113.085| 227.197|\n",
            "|    4|Afghanistan|    2| Medium|1950|   1950.5|     5|          5|         1|109.723|  106.436| 216.159|\n",
            "|    4|Afghanistan|    2| Medium|1950|   1950.5|     6|          6|         1|105.969|   100.99| 206.959|\n",
            "|    4|Afghanistan|    2| Medium|1950|   1950.5|     7|          7|         1|102.769|   96.585| 199.354|\n",
            "|    4|Afghanistan|    2| Medium|1950|   1950.5|     8|          8|         1|100.041|   93.063| 193.104|\n",
            "|    4|Afghanistan|    2| Medium|1950|   1950.5|     9|          9|         1| 97.704|   90.261| 187.965|\n",
            "|    4|Afghanistan|    2| Medium|1950|   1950.5|    10|         10|         1| 95.755|   88.171| 183.926|\n",
            "|    4|Afghanistan|    2| Medium|1950|   1950.5|    11|         11|         1| 94.192|   86.779| 180.971|\n",
            "|    4|Afghanistan|    2| Medium|1950|   1950.5|    12|         12|         1| 92.534|   85.181| 177.715|\n",
            "|    4|Afghanistan|    2| Medium|1950|   1950.5|    13|         13|         1| 90.537|   82.918| 173.455|\n",
            "|    4|Afghanistan|    2| Medium|1950|   1950.5|    14|         14|         1|  88.36|   80.277| 168.637|\n",
            "|    4|Afghanistan|    2| Medium|1950|   1950.5|    15|         15|         1| 86.374|   78.007| 164.381|\n",
            "|    4|Afghanistan|    2| Medium|1950|   1950.5|    16|         16|         1| 84.467|    75.96| 160.427|\n",
            "|    4|Afghanistan|    2| Medium|1950|   1950.5|    17|         17|         1| 82.703|   73.906| 156.609|\n",
            "|    4|Afghanistan|    2| Medium|1950|   1950.5|    18|         18|         1| 81.139|   71.804| 152.943|\n",
            "|    4|Afghanistan|    2| Medium|1950|   1950.5|    19|         19|         1| 79.686|   69.686| 149.372|\n",
            "+-----+-----------+-----+-------+----+---------+------+-----------+----------+-------+---------+--------+\n",
            "only showing top 20 rows\n",
            "\n"
          ]
        }
      ]
    },
    {
      "cell_type": "code",
      "source": [
        "df.select('Location').distinct().count()"
      ],
      "metadata": {
        "id": "FetISlkDkfte",
        "outputId": "b14225a4-791d-4248-e60d-bed0c3d87443",
        "colab": {
          "base_uri": "https://localhost:8080/"
        }
      },
      "execution_count": null,
      "outputs": [
        {
          "output_type": "execute_result",
          "data": {
            "text/plain": [
              "225"
            ]
          },
          "metadata": {},
          "execution_count": 24
        }
      ]
    },
    {
      "cell_type": "code",
      "source": [
        "df.select('Location').distinct().show()"
      ],
      "metadata": {
        "id": "RLp0s2DNm_9J",
        "outputId": "d7d15ec9-ea83-46d4-e70a-acf96f4abe8d",
        "colab": {
          "base_uri": "https://localhost:8080/"
        }
      },
      "execution_count": null,
      "outputs": [
        {
          "output_type": "stream",
          "name": "stdout",
          "text": [
            "+--------------------+\n",
            "|            Location|\n",
            "+--------------------+\n",
            "|       Côte d'Ivoire|\n",
            "|                Chad|\n",
            "|          Cabo Verde|\n",
            "|       ECE: UNECE-52|\n",
            "|ESCAP: ADB Develo...|\n",
            "|ECLAC: The Caribbean|\n",
            "|            Djibouti|\n",
            "|African, Caribbea...|\n",
            "|             Comoros|\n",
            "|         Afghanistan|\n",
            "|Belt-Road Initiat...|\n",
            "|            Cambodia|\n",
            "|Commonwealth of I...|\n",
            "|       African Group|\n",
            "|Countries with Ac...|\n",
            "|Countries with Ac...|\n",
            "|Central European ...|\n",
            "|              Africa|\n",
            "|African Union: We...|\n",
            "|Countries with Ac...|\n",
            "+--------------------+\n",
            "only showing top 20 rows\n",
            "\n"
          ]
        }
      ]
    },
    {
      "cell_type": "markdown",
      "source": [
        "**Exercise**: Repeat the above query, this time ordering the results by Location and using the truncate=False option to display results in full. Show all 440 results."
      ],
      "metadata": {
        "id": "wGId26gpvIhA"
      }
    },
    {
      "cell_type": "code",
      "source": [
        "from os import truncate\n",
        "# ANSWER\n",
        "df.select('Location').distinct().orderBy('Location').show(440,truncate=False)"
      ],
      "metadata": {
        "id": "6n-RKO9GQ9d7",
        "outputId": "bfe8a6f0-66e6-4fb0-8645-ccbfd4e1062a",
        "colab": {
          "base_uri": "https://localhost:8080/"
        }
      },
      "execution_count": 40,
      "outputs": [
        {
          "output_type": "stream",
          "name": "stdout",
          "text": [
            "+-----------------------------------------------------------------+\n",
            "|Location                                                         |\n",
            "+-----------------------------------------------------------------+\n",
            "|Afghanistan                                                      |\n",
            "|Africa                                                           |\n",
            "|African Group                                                    |\n",
            "|African Union                                                    |\n",
            "|African Union: Central Africa                                    |\n",
            "|African Union: Eastern Africa                                    |\n",
            "|African Union: Northern Africa                                   |\n",
            "|African Union: Southern Africa                                   |\n",
            "|African Union: Western Africa                                    |\n",
            "|African, Caribbean and Pacific (ACP) Group of States             |\n",
            "|Albania                                                          |\n",
            "|Algeria                                                          |\n",
            "|Andean Community                                                 |\n",
            "|Angola                                                           |\n",
            "|Antigua and Barbuda                                              |\n",
            "|Argentina                                                        |\n",
            "|Armenia                                                          |\n",
            "|Aruba                                                            |\n",
            "|Asia                                                             |\n",
            "|Asia-Pacific Economic Cooperation (APEC)                         |\n",
            "|Asia-Pacific Group                                               |\n",
            "|Association of Southeast Asian Nations (ASEAN)                   |\n",
            "|Australia                                                        |\n",
            "|Australia/New Zealand                                            |\n",
            "|Austria                                                          |\n",
            "|Azerbaijan                                                       |\n",
            "|BRIC                                                             |\n",
            "|BRICS                                                            |\n",
            "|Bahamas                                                          |\n",
            "|Bahrain                                                          |\n",
            "|Bangladesh                                                       |\n",
            "|Barbados                                                         |\n",
            "|Belarus                                                          |\n",
            "|Belgium                                                          |\n",
            "|Belize                                                           |\n",
            "|Belt-Road Initiative (BRI)                                       |\n",
            "|Belt-Road Initiative: Africa                                     |\n",
            "|Belt-Road Initiative: Asia                                       |\n",
            "|Belt-Road Initiative: Europe                                     |\n",
            "|Belt-Road Initiative: Latin America and the Caribbean            |\n",
            "|Belt-Road Initiative: Pacific                                    |\n",
            "|Benin                                                            |\n",
            "|Bhutan                                                           |\n",
            "|Black Sea Economic Cooperation (BSEC)                            |\n",
            "|Bolivarian Alliance for the Americas (ALBA)                      |\n",
            "|Bolivia (Plurinational State of)                                 |\n",
            "|Bosnia and Herzegovina                                           |\n",
            "|Botswana                                                         |\n",
            "|Brazil                                                           |\n",
            "|Brunei Darussalam                                                |\n",
            "|Bulgaria                                                         |\n",
            "|Burkina Faso                                                     |\n",
            "|Burundi                                                          |\n",
            "|Cabo Verde                                                       |\n",
            "|Cambodia                                                         |\n",
            "|Cameroon                                                         |\n",
            "|Canada                                                           |\n",
            "|Caribbean                                                        |\n",
            "|Caribbean Community and Common Market (CARICOM)                  |\n",
            "|Central African Republic                                         |\n",
            "|Central America                                                  |\n",
            "|Central Asia                                                     |\n",
            "|Central European Free Trade Agreement (CEFTA)                    |\n",
            "|Central and Southern Asia                                        |\n",
            "|Chad                                                             |\n",
            "|Channel Islands                                                  |\n",
            "|Chile                                                            |\n",
            "|China                                                            |\n",
            "|China (and dependencies)                                         |\n",
            "|China, Hong Kong SAR                                             |\n",
            "|China, Macao SAR                                                 |\n",
            "|China, Taiwan Province of China                                  |\n",
            "|Colombia                                                         |\n",
            "|Commonwealth of Independent States (CIS)                         |\n",
            "|Commonwealth of Nations                                          |\n",
            "|Commonwealth: Africa                                             |\n",
            "|Commonwealth: Asia                                               |\n",
            "|Commonwealth: Caribbean and Americas                             |\n",
            "|Commonwealth: Europe                                             |\n",
            "|Commonwealth: Pacific                                            |\n",
            "|Comoros                                                          |\n",
            "|Congo                                                            |\n",
            "|Costa Rica                                                       |\n",
            "|Countries with Access to the Sea                                 |\n",
            "|Countries with Access to the Sea: Africa                         |\n",
            "|Countries with Access to the Sea: Asia                           |\n",
            "|Countries with Access to the Sea: Europe                         |\n",
            "|Countries with Access to the Sea: Latin America and the Caribbean|\n",
            "|Countries with Access to the Sea: Northern America               |\n",
            "|Countries with Access to the Sea: Oceania                        |\n",
            "|Croatia                                                          |\n",
            "|Cuba                                                             |\n",
            "|Curaçao                                                          |\n",
            "|Cyprus                                                           |\n",
            "|Czechia                                                          |\n",
            "|Côte d'Ivoire                                                    |\n",
            "|Dem. People's Republic of Korea                                  |\n",
            "|Democratic Republic of the Congo                                 |\n",
            "|Denmark                                                          |\n",
            "|Denmark (and dependencies)                                       |\n",
            "|Djibouti                                                         |\n",
            "|Dominican Republic                                               |\n",
            "|ECE: North America-2                                             |\n",
            "|ECE: UNECE-52                                                    |\n",
            "|ECLAC: Latin America                                             |\n",
            "|ECLAC: The Caribbean                                             |\n",
            "|ESCAP region: East and North-East Asia                           |\n",
            "|ESCAP region: North and Central Asia                             |\n",
            "|ESCAP region: Pacific                                            |\n",
            "|ESCAP region: South and South-West Asia                          |\n",
            "|ESCAP region: South-East Asia                                    |\n",
            "|ESCAP: ADB Developing member countries (DMCs)                    |\n",
            "|ESCAP: ADB Group A (Concessional assistance only)                |\n",
            "|ESCAP: ADB Group B (OCR blend)                                   |\n",
            "|ESCAP: ADB Group C (Regular OCR only)                            |\n",
            "|ESCAP: ASEAN                                                     |\n",
            "|ESCAP: Central Asia                                              |\n",
            "|ESCAP: ECO                                                       |\n",
            "|ESCAP: HDI groups                                                |\n",
            "|ESCAP: Landlocked countries (LLDCs)                              |\n",
            "|ESCAP: Least Developed Countries (LDCs)                          |\n",
            "|ESCAP: Pacific island dev. econ.                                 |\n",
            "|ESCAP: SAARC                                                     |\n",
            "|ESCAP: WB High income econ.                                      |\n",
            "|ESCAP: WB Low income econ.                                       |\n",
            "|ESCAP: WB Lower middle income econ.                              |\n",
            "|ESCAP: WB Upper middle income econ.                              |\n",
            "|ESCAP: WB income groups                                          |\n",
            "|ESCAP: high HDI                                                  |\n",
            "|ESCAP: high income                                               |\n",
            "|ESCAP: income groups                                             |\n",
            "|ESCAP: low HDI                                                   |\n",
            "|ESCAP: low income                                                |\n",
            "|ESCAP: lower middle HDI                                          |\n",
            "|ESCAP: lower middle income                                       |\n",
            "|ESCAP: other Asia-Pacific countries/areas                        |\n",
            "|ESCAP: upper middle HDI                                          |\n",
            "|ESCAP: upper middle income                                       |\n",
            "|ESCWA: Arab countries                                            |\n",
            "|ESCWA: Arab least developed countries                            |\n",
            "|ESCWA: Gulf Cooperation Council countries                        |\n",
            "|ESCWA: Maghreb countries                                         |\n",
            "|ESCWA: Mashreq countries                                         |\n",
            "|ESCWA: member countries                                          |\n",
            "|East African Community (EAC)                                     |\n",
            "|Eastern Africa                                                   |\n",
            "|Eastern Asia                                                     |\n",
            "|Eastern Europe                                                   |\n",
            "|Eastern European Group                                           |\n",
            "|Eastern and South-Eastern Asia                                   |\n",
            "|Economic Community of Central African States (ECCAS)             |\n",
            "|Economic Community of West African States (ECOWAS)               |\n",
            "|Economic Cooperation Organization (ECO)                          |\n",
            "|Ecuador                                                          |\n",
            "|Egypt                                                            |\n",
            "|El Salvador                                                      |\n",
            "|Equatorial Guinea                                                |\n",
            "|Eritrea                                                          |\n",
            "|Estonia                                                          |\n",
            "|Eswatini                                                         |\n",
            "|Ethiopia                                                         |\n",
            "|Eurasian Economic Community (Eurasec)                            |\n",
            "|Europe                                                           |\n",
            "|Europe (48)                                                      |\n",
            "|Europe and Northern America                                      |\n",
            "|European Community (EC: 12)                                      |\n",
            "|European Free Trade Agreement (EFTA)                             |\n",
            "|European Union (EU: 15)                                          |\n",
            "|European Union (EU: 28)                                          |\n",
            "|Fiji                                                             |\n",
            "|Finland                                                          |\n",
            "|France                                                           |\n",
            "|France (and dependencies)                                        |\n",
            "|French Guiana                                                    |\n",
            "|French Polynesia                                                 |\n",
            "|Gabon                                                            |\n",
            "|Gambia                                                           |\n",
            "|Georgia                                                          |\n",
            "|Germany                                                          |\n",
            "|Ghana                                                            |\n",
            "|Greater Arab Free Trade Area (GAFTA)                             |\n",
            "|Greece                                                           |\n",
            "|Grenada                                                          |\n",
            "|Group of 77 (G77)                                                |\n",
            "|Group of Eight (G8)                                              |\n",
            "|Group of Seven (G7)                                              |\n",
            "|Group of Twenty (G20) - member states                            |\n",
            "|Guadeloupe                                                       |\n",
            "|Guam                                                             |\n",
            "|Guatemala                                                        |\n",
            "|Guinea                                                           |\n",
            "|Guinea-Bissau                                                    |\n",
            "|Gulf Cooperation Council (GCC)                                   |\n",
            "|Guyana                                                           |\n",
            "|Haiti                                                            |\n",
            "|High-income countries                                            |\n",
            "|Honduras                                                         |\n",
            "|Hungary                                                          |\n",
            "|Iceland                                                          |\n",
            "|India                                                            |\n",
            "|Indonesia                                                        |\n",
            "|Iran (Islamic Republic of)                                       |\n",
            "|Iraq                                                             |\n",
            "|Ireland                                                          |\n",
            "|Israel                                                           |\n",
            "|Italy                                                            |\n",
            "|Jamaica                                                          |\n",
            "|Japan                                                            |\n",
            "|Jordan                                                           |\n",
            "|Kazakhstan                                                       |\n",
            "|Kenya                                                            |\n",
            "|Kiribati                                                         |\n",
            "|Kuwait                                                           |\n",
            "|Kyrgyzstan                                                       |\n",
            "|LLDC: Africa                                                     |\n",
            "|LLDC: Asia                                                       |\n",
            "|LLDC: Europe                                                     |\n",
            "|LLDC: Latin America                                              |\n",
            "|Land-locked Countries                                            |\n",
            "|Land-locked Countries (Others)                                   |\n",
            "|Land-locked Developing Countries (LLDC)                          |\n",
            "|Lao People's Democratic Republic                                 |\n",
            "|Latin Americ                                                     |\n",
            "|Latin America and the Caribbean                                  |\n",
            "|Latin American Integration Association (ALADI)                   |\n",
            "+-----------------------------------------------------------------+\n",
            "\n"
          ]
        }
      ]
    },
    {
      "cell_type": "markdown",
      "source": [
        "Next run the following to confirm that there are no missing values in this dataset:"
      ],
      "metadata": {
        "id": "4yDHFBOxvoAu"
      }
    },
    {
      "cell_type": "code",
      "source": [
        "df.count() - df.na.drop().count()"
      ],
      "metadata": {
        "id": "ED5mlcDZWQ_y",
        "outputId": "beea5136-956e-4439-96cb-d5c9ccc728bf",
        "colab": {
          "base_uri": "https://localhost:8080/"
        }
      },
      "execution_count": 39,
      "outputs": [
        {
          "output_type": "execute_result",
          "data": {
            "text/plain": [
              "1"
            ]
          },
          "metadata": {},
          "execution_count": 39
        }
      ]
    },
    {
      "cell_type": "markdown",
      "source": [
        "## Convert types"
      ],
      "metadata": {
        "id": "vM0ibqHheNwi"
      }
    },
    {
      "cell_type": "markdown",
      "source": [
        "We saw above that all columns are in the form of strings. The following cell converts some of the columns to type float."
      ],
      "metadata": {
        "id": "tp9mGREhvt9b"
      }
    },
    {
      "cell_type": "code",
      "source": [
        "floatcols = ['MidPeriod', 'PopMale', 'PopFemale', 'PopTotal']\n",
        "\n",
        "for col_name in floatcols:\n",
        "    df = df.withColumn(col_name, trim(col(col_name)).cast('float'))"
      ],
      "metadata": {
        "id": "AhMt9KiAAQWm"
      },
      "execution_count": 38,
      "outputs": []
    },
    {
      "cell_type": "markdown",
      "source": [
        "**Exercise**: Similarly convert the four columns listed below into **integers**."
      ],
      "metadata": {
        "id": "K3rr3rErWiLZ"
      }
    },
    {
      "cell_type": "code",
      "source": [
        "intcols = ['Time', 'AgeGrp', 'AgeGrpStart', 'AgeGrpSpan']\n",
        "\n",
        "#ANSWER\n",
        "for col_name in intcols:\n",
        "    df = df.withColumn(col_name, trim(col(col_name)).cast('int'))"
      ],
      "metadata": {
        "id": "ccgnri3hJgk2"
      },
      "execution_count": 37,
      "outputs": []
    },
    {
      "cell_type": "code",
      "source": [
        "df.printSchema()"
      ],
      "metadata": {
        "id": "O6S0JbDWDJM1",
        "outputId": "aceffd35-0782-40f2-f94a-b42f2b1ac7e9",
        "colab": {
          "base_uri": "https://localhost:8080/"
        }
      },
      "execution_count": null,
      "outputs": [
        {
          "output_type": "stream",
          "name": "stdout",
          "text": [
            "root\n",
            " |-- LocID: string (nullable = true)\n",
            " |-- Location: string (nullable = true)\n",
            " |-- VarID: string (nullable = true)\n",
            " |-- Variant: string (nullable = true)\n",
            " |-- Time: integer (nullable = true)\n",
            " |-- MidPeriod: float (nullable = true)\n",
            " |-- AgeGrp: integer (nullable = true)\n",
            " |-- AgeGrpStart: integer (nullable = true)\n",
            " |-- AgeGrpSpan: integer (nullable = true)\n",
            " |-- PopMale: float (nullable = true)\n",
            " |-- PopFemale: float (nullable = true)\n",
            " |-- PopTotal: float (nullable = true)\n",
            "\n"
          ]
        }
      ]
    },
    {
      "cell_type": "markdown",
      "source": [
        "## Answering some queries about the data\n",
        "\n",
        "We use filter to select a subset of rows satisfying a True/False condition:"
      ],
      "metadata": {
        "id": "Y_A8nwmrlFQH"
      }
    },
    {
      "cell_type": "markdown",
      "source": [
        "Example: What was the population breakdown by age and gender in Australia in 1970?"
      ],
      "metadata": {
        "id": "NPrXmt9ZlPjH"
      }
    },
    {
      "cell_type": "code",
      "source": [
        "df.filter((df.Location == 'Australia') & (df.Time == 1970)).show(101)"
      ],
      "metadata": {
        "id": "JkwtyIjbeAR2",
        "outputId": "c7d02780-eea8-414d-f7f7-92e5804cc667",
        "colab": {
          "base_uri": "https://localhost:8080/"
        }
      },
      "execution_count": 36,
      "outputs": [
        {
          "output_type": "stream",
          "name": "stdout",
          "text": [
            "+-----+---------+-----+-------+----+---------+------+-----------+----------+-------+---------+--------+\n",
            "|LocID| Location|VarID|Variant|Time|MidPeriod|AgeGrp|AgeGrpStart|AgeGrpSpan|PopMale|PopFemale|PopTotal|\n",
            "+-----+---------+-----+-------+----+---------+------+-----------+----------+-------+---------+--------+\n",
            "|   36|Australia|    2| Medium|1970|   1970.5|     0|          0|         1|126.482|   121.47| 247.952|\n",
            "|   36|Australia|    2| Medium|1970|   1970.5|     1|          1|         1|126.326|  120.997| 247.323|\n",
            "|   36|Australia|    2| Medium|1970|   1970.5|     2|          2|         1|126.439|  120.829| 247.268|\n",
            "|   36|Australia|    2| Medium|1970|   1970.5|     3|          3|         1|126.751|  120.899|  247.65|\n",
            "|   36|Australia|    2| Medium|1970|   1970.5|     4|          4|         1|127.193|   121.14| 248.333|\n",
            "|   36|Australia|    2| Medium|1970|   1970.5|     5|          5|         1|127.698|  121.488| 249.186|\n",
            "|   36|Australia|    2| Medium|1970|   1970.5|     6|          6|         1|128.196|  121.877| 250.073|\n",
            "|   36|Australia|    2| Medium|1970|   1970.5|     7|          7|         1|128.619|  122.239| 250.858|\n",
            "|   36|Australia|    2| Medium|1970|   1970.5|     8|          8|         1|128.899|  122.509| 251.408|\n",
            "|   36|Australia|    2| Medium|1970|   1970.5|     9|          9|         1|128.966|  122.622| 251.588|\n",
            "|   36|Australia|    2| Medium|1970|   1970.5|    10|         10|         1|129.052|  122.767| 251.819|\n",
            "|   36|Australia|    2| Medium|1970|   1970.5|    11|         11|         1|129.387|  123.136| 252.523|\n",
            "|   36|Australia|    2| Medium|1970|   1970.5|    12|         12|         1|128.406|  122.379| 250.785|\n",
            "|   36|Australia|    2| Medium|1970|   1970.5|    13|         13|         1|125.443|  119.917|  245.36|\n",
            "|   36|Australia|    2| Medium|1970|   1970.5|    14|         14|         1|121.327|  116.454| 237.781|\n",
            "|   36|Australia|    2| Medium|1970|   1970.5|    15|         15|         1|117.222|  112.965| 230.187|\n",
            "|   36|Australia|    2| Medium|1970|   1970.5|    16|         16|         1|112.497|  108.889| 221.386|\n",
            "|   36|Australia|    2| Medium|1970|   1970.5|    17|         17|         1|109.894|  106.646|  216.54|\n",
            "|   36|Australia|    2| Medium|1970|   1970.5|    18|         18|         1|110.768|  107.424| 218.192|\n",
            "|   36|Australia|    2| Medium|1970|   1970.5|    19|         19|         1|113.664|  109.919| 223.583|\n",
            "|   36|Australia|    2| Medium|1970|   1970.5|    20|         20|         1|116.046|  111.945| 227.991|\n",
            "|   36|Australia|    2| Medium|1970|   1970.5|    21|         21|         1|118.751|  114.298| 233.049|\n",
            "|   36|Australia|    2| Medium|1970|   1970.5|    22|         22|         1|118.977|  114.131| 233.108|\n",
            "|   36|Australia|    2| Medium|1970|   1970.5|    23|         23|         1|115.181|   109.92| 225.101|\n",
            "|   36|Australia|    2| Medium|1970|   1970.5|    24|         24|         1|108.851|  103.183| 212.034|\n",
            "|   36|Australia|    2| Medium|1970|   1970.5|    25|         25|         1|102.991|   96.906| 199.897|\n",
            "|   36|Australia|    2| Medium|1970|   1970.5|    26|         26|         1| 96.971|   90.427| 187.398|\n",
            "|   36|Australia|    2| Medium|1970|   1970.5|    27|         27|         1| 91.963|   85.208| 177.171|\n",
            "|   36|Australia|    2| Medium|1970|   1970.5|    28|         28|         1| 88.842|   82.256| 171.098|\n",
            "|   36|Australia|    2| Medium|1970|   1970.5|    29|         29|         1| 86.981|   80.812| 167.793|\n",
            "|   36|Australia|    2| Medium|1970|   1970.5|    30|         30|         1|  84.94|   79.156| 164.096|\n",
            "|   36|Australia|    2| Medium|1970|   1970.5|    31|         31|         1|  83.08|   77.693| 160.773|\n",
            "|   36|Australia|    2| Medium|1970|   1970.5|    32|         32|         1| 81.239|   76.211|  157.45|\n",
            "|   36|Australia|    2| Medium|1970|   1970.5|    33|         33|         1| 79.216|   74.454|  153.67|\n",
            "|   36|Australia|    2| Medium|1970|   1970.5|    34|         34|         1| 77.248|   72.675| 149.923|\n",
            "|   36|Australia|    2| Medium|1970|   1970.5|    35|         35|         1| 75.568|    71.23| 146.798|\n",
            "|   36|Australia|    2| Medium|1970|   1970.5|    36|         36|         1| 73.886|   69.864|  143.75|\n",
            "|   36|Australia|    2| Medium|1970|   1970.5|    37|         37|         1| 73.504|   69.541| 143.045|\n",
            "|   36|Australia|    2| Medium|1970|   1970.5|    38|         38|         1| 75.015|   70.719| 145.734|\n",
            "|   36|Australia|    2| Medium|1970|   1970.5|    39|         39|         1| 77.685|   72.837| 150.522|\n",
            "|   36|Australia|    2| Medium|1970|   1970.5|    40|         40|         1| 80.182|   74.839| 155.021|\n",
            "|   36|Australia|    2| Medium|1970|   1970.5|    41|         41|         1| 82.768|   76.896| 159.664|\n",
            "|   36|Australia|    2| Medium|1970|   1970.5|    42|         42|         1|   84.5|   78.458| 162.958|\n",
            "|   36|Australia|    2| Medium|1970|   1970.5|    43|         43|         1| 84.772|   79.131| 163.903|\n",
            "|   36|Australia|    2| Medium|1970|   1970.5|    44|         44|         1| 83.983|    79.12| 163.103|\n",
            "|   36|Australia|    2| Medium|1970|   1970.5|    45|         45|         1| 83.316|   79.179| 162.495|\n",
            "|   36|Australia|    2| Medium|1970|   1970.5|    46|         46|         1| 82.748|   79.343| 162.091|\n",
            "|   36|Australia|    2| Medium|1970|   1970.5|    47|         47|         1| 81.175|   78.508| 159.683|\n",
            "|   36|Australia|    2| Medium|1970|   1970.5|    48|         48|         1| 78.236|   76.259| 154.495|\n",
            "|   36|Australia|    2| Medium|1970|   1970.5|    49|         49|         1| 74.466|   73.133| 147.599|\n",
            "|   36|Australia|    2| Medium|1970|   1970.5|    50|         50|         1| 70.618|   69.971| 140.589|\n",
            "|   36|Australia|    2| Medium|1970|   1970.5|    51|         51|         1| 66.365|   66.476| 132.841|\n",
            "|   36|Australia|    2| Medium|1970|   1970.5|    52|         52|         1| 63.326|   63.924|  127.25|\n",
            "|   36|Australia|    2| Medium|1970|   1970.5|    53|         53|         1| 62.328|   62.994| 125.322|\n",
            "|   36|Australia|    2| Medium|1970|   1970.5|    54|         54|         1| 62.574|   63.055| 125.629|\n",
            "|   36|Australia|    2| Medium|1970|   1970.5|    55|         55|         1| 62.511|   62.831| 125.342|\n",
            "|   36|Australia|    2| Medium|1970|   1970.5|    56|         56|         1| 62.535|   62.619| 125.154|\n",
            "|   36|Australia|    2| Medium|1970|   1970.5|    57|         57|         1| 61.738|   61.869| 123.607|\n",
            "|   36|Australia|    2| Medium|1970|   1970.5|    58|         58|         1| 59.542|   60.193| 119.735|\n",
            "|   36|Australia|    2| Medium|1970|   1970.5|    59|         59|         1| 56.449|   57.908| 114.357|\n",
            "|   36|Australia|    2| Medium|1970|   1970.5|    60|         60|         1| 53.531|   55.761| 109.292|\n",
            "|   36|Australia|    2| Medium|1970|   1970.5|    61|         61|         1| 50.563|    53.66| 104.223|\n",
            "|   36|Australia|    2| Medium|1970|   1970.5|    62|         62|         1| 47.792|   51.436|  99.228|\n",
            "|   36|Australia|    2| Medium|1970|   1970.5|    63|         63|         1| 45.445|   49.098|  94.543|\n",
            "|   36|Australia|    2| Medium|1970|   1970.5|    64|         64|         1| 43.355|   46.717|  90.072|\n",
            "|   36|Australia|    2| Medium|1970|   1970.5|    65|         65|         1| 41.155|   44.299|  85.454|\n",
            "|   36|Australia|    2| Medium|1970|   1970.5|    66|         66|         1| 38.953|   41.777|   80.73|\n",
            "|   36|Australia|    2| Medium|1970|   1970.5|    67|         67|         1| 36.628|    39.69|  76.318|\n",
            "|   36|Australia|    2| Medium|1970|   1970.5|    68|         68|         1| 34.094|   38.289|  72.383|\n",
            "|   36|Australia|    2| Medium|1970|   1970.5|    69|         69|         1| 31.455|   37.315|   68.77|\n",
            "|   36|Australia|    2| Medium|1970|   1970.5|    70|         70|         1| 28.897|   36.272|  65.169|\n",
            "|   36|Australia|    2| Medium|1970|   1970.5|    71|         71|         1| 26.373|   35.274|  61.647|\n",
            "|   36|Australia|    2| Medium|1970|   1970.5|    72|         72|         1|  24.05|   34.036|  58.086|\n",
            "|   36|Australia|    2| Medium|1970|   1970.5|    73|         73|         1| 22.023|   32.371|  54.394|\n",
            "|   36|Australia|    2| Medium|1970|   1970.5|    74|         74|         1| 20.218|   30.423|  50.641|\n",
            "|   36|Australia|    2| Medium|1970|   1970.5|    75|         75|         1| 18.454|   28.547|  47.001|\n",
            "|   36|Australia|    2| Medium|1970|   1970.5|    76|         76|         1| 16.759|   26.705|  43.464|\n",
            "|   36|Australia|    2| Medium|1970|   1970.5|    77|         77|         1| 15.165|   24.763|  39.928|\n",
            "|   36|Australia|    2| Medium|1970|   1970.5|    78|         78|         1| 13.668|     22.7|  36.368|\n",
            "|   36|Australia|    2| Medium|1970|   1970.5|    79|         79|         1| 12.258|   20.575|  32.833|\n",
            "|   36|Australia|    2| Medium|1970|   1970.5|    80|         80|         1| 10.944|   18.471|  29.415|\n",
            "|   36|Australia|    2| Medium|1970|   1970.5|    81|         81|         1|  9.738|   16.379|  26.117|\n",
            "|   36|Australia|    2| Medium|1970|   1970.5|    82|         82|         1|  8.539|   14.413|  22.952|\n",
            "|   36|Australia|    2| Medium|1970|   1970.5|    83|         83|         1|  7.304|   12.641|  19.945|\n",
            "|   36|Australia|    2| Medium|1970|   1970.5|    84|         84|         1|  6.081|   11.026|  17.107|\n",
            "|   36|Australia|    2| Medium|1970|   1970.5|    85|         85|         1|  4.955|    9.468|  14.423|\n",
            "|   36|Australia|    2| Medium|1970|   1970.5|    86|         86|         1|  3.899|    7.989|  11.888|\n",
            "|   36|Australia|    2| Medium|1970|   1970.5|    87|         87|         1|  3.008|    6.637|   9.645|\n",
            "|   36|Australia|    2| Medium|1970|   1970.5|    88|         88|         1|  2.335|    5.428|   7.763|\n",
            "|   36|Australia|    2| Medium|1970|   1970.5|    89|         89|         1|  1.829|    4.354|   6.183|\n",
            "|   36|Australia|    2| Medium|1970|   1970.5|    90|         90|         1|  1.306|    3.227|   4.533|\n",
            "|   36|Australia|    2| Medium|1970|   1970.5|    91|         91|         1|  0.938|     2.38|   3.318|\n",
            "|   36|Australia|    2| Medium|1970|   1970.5|    92|         92|         1|  0.752|    1.943|   2.695|\n",
            "|   36|Australia|    2| Medium|1970|   1970.5|    93|         93|         1|  0.541|    1.432|   1.973|\n",
            "|   36|Australia|    2| Medium|1970|   1970.5|    94|         94|         1|  0.307|    0.845|   1.152|\n",
            "|   36|Australia|    2| Medium|1970|   1970.5|    95|         95|         1|  0.177|    0.514|   0.691|\n",
            "|   36|Australia|    2| Medium|1970|   1970.5|    96|         96|         1|  0.146|    0.427|   0.573|\n",
            "|   36|Australia|    2| Medium|1970|   1970.5|    97|         97|         1|  0.112|    0.332|   0.444|\n",
            "|   36|Australia|    2| Medium|1970|   1970.5|    98|         98|         1|  0.076|    0.227|   0.303|\n",
            "|   36|Australia|    2| Medium|1970|   1970.5|    99|         99|         1|  0.036|    0.112|   0.148|\n",
            "|   36|Australia|    2| Medium|1970|   1970.5|   100|        100|        -1|  0.042|    0.142|   0.184|\n",
            "+-----+---------+-----+-------+----+---------+------+-----------+----------+-------+---------+--------+\n",
            "\n"
          ]
        }
      ]
    },
    {
      "cell_type": "markdown",
      "source": [
        "The select function can select a subset of columns.\n",
        "\n",
        "**Exercise**: What was the population of 45-year-old females in India in 1960?"
      ],
      "metadata": {
        "id": "utx53EQwjUSY"
      }
    },
    {
      "cell_type": "code",
      "source": [
        "\n",
        "df.filter((df.Location == 'India') & (df.Time == 1960) & (df.AgeGrp == 45)).select('PopFemale').show()"
      ],
      "metadata": {
        "id": "zwxYNG2qjpft",
        "outputId": "d66fa031-d985-4622-ea7e-ea1b540c5311",
        "colab": {
          "base_uri": "https://localhost:8080/"
        }
      },
      "execution_count": 35,
      "outputs": [
        {
          "output_type": "stream",
          "name": "stdout",
          "text": [
            "+---------+\n",
            "|PopFemale|\n",
            "+---------+\n",
            "| 1987.196|\n",
            "+---------+\n",
            "\n"
          ]
        }
      ]
    },
    {
      "cell_type": "markdown",
      "source": [
        "**Exercise**: Write a filter query to show the distinct locations starting with 'UN'."
      ],
      "metadata": {
        "id": "13IpzCh23AdD"
      }
    },
    {
      "cell_type": "code",
      "source": [
        "# ANSWER\n"
      ],
      "metadata": {
        "id": "dmgSw_z7s_-S",
        "outputId": "ccbfbf1a-c2b8-4a6b-d4a7-4af4bfd99426",
        "colab": {
          "base_uri": "https://localhost:8080/"
        }
      },
      "execution_count": 13,
      "outputs": [
        {
          "output_type": "stream",
          "name": "stdout",
          "text": [
            "+--------+\n",
            "|location|\n",
            "+--------+\n",
            "+--------+\n",
            "\n"
          ]
        }
      ]
    },
    {
      "cell_type": "markdown",
      "source": [
        "Another example: what is the population of each location in 1950 and 2019?"
      ],
      "metadata": {
        "id": "Ucwk6vQ0qu63"
      }
    },
    {
      "cell_type": "code",
      "source": [
        "populations_in_1950 = df.filter(df.Time == 1950)\\\n",
        "                    .groupBy('Location')\\\n",
        "                    .sum('PopTotal')\\\n",
        "                    .withColumnRenamed('sum(PopTotal)', 'Population_1950')\\\n",
        "                    .withColumn('Population_1950', round('Population_1950', 3))\\\n",
        "                    .orderBy(col('Population_1950').desc())\n",
        "populations_in_1950.show()"
      ],
      "metadata": {
        "id": "C_L9r2lLq1ix",
        "outputId": "aba1494b-3fc7-42b3-edf9-dccc2109dba3",
        "colab": {
          "base_uri": "https://localhost:8080/"
        }
      },
      "execution_count": 41,
      "outputs": [
        {
          "output_type": "stream",
          "name": "stdout",
          "text": [
            "+--------------------+---------------+\n",
            "|            Location|Population_1950|\n",
            "+--------------------+---------------+\n",
            "|Countries with Ac...|    2384540.117|\n",
            "|Group of Twenty (...|    1731945.275|\n",
            "|   Group of 77 (G77)|    1618241.347|\n",
            "|ESCAP: income groups|    1490837.911|\n",
            "|   ESCAP: HDI groups|    1490837.911|\n",
            "|ESCAP: WB income ...|    1490818.181|\n",
            "|                Asia|    1404908.989|\n",
            "|  Asia-Pacific Group|    1397562.214|\n",
            "|Countries with Ac...|     1364302.65|\n",
            "|ESCAP: ADB Develo...|    1223407.377|\n",
            "|Asia-Pacific Econ...|    1136577.758|\n",
            "|               BRICS|    1101146.274|\n",
            "|              Europe|    1098657.721|\n",
            "|                BRIC|    1087517.847|\n",
            "|Belt-Road Initiat...|     934148.834|\n",
            "|Eastern and South...|     842669.337|\n",
            "|       ECE: UNECE-52|     770020.389|\n",
            "|ESCAP: WB Upper m...|     737341.529|\n",
            "|Europe and Northe...|      721931.47|\n",
            "|ESCAP: ADB Group ...|     718170.833|\n",
            "+--------------------+---------------+\n",
            "only showing top 20 rows\n",
            "\n"
          ]
        }
      ]
    },
    {
      "cell_type": "code",
      "source": [
        "populations_in_2019 = df.filter(df.Time == 2019)\\\n",
        "                    .groupBy('Location')\\\n",
        "                    .sum('PopTotal')\\\n",
        "                    .withColumnRenamed('sum(PopTotal)', 'Population_2019')\\\n",
        "                    .withColumn('Population_2019', round('Population_2019', 3))\\\n",
        "                    .orderBy(col('Population_2019').desc())\n"
      ],
      "metadata": {
        "id": "DT125gNwiBn-"
      },
      "execution_count": 43,
      "outputs": []
    },
    {
      "cell_type": "code",
      "source": [
        "populations_in_1950.join(populations_in_2019, 'Location').orderBy('Location').show()"
      ],
      "metadata": {
        "id": "TGQ3PPvDiWu3",
        "outputId": "389a9438-241e-4bff-bd9e-50e9c479352f",
        "colab": {
          "base_uri": "https://localhost:8080/"
        }
      },
      "execution_count": 44,
      "outputs": [
        {
          "output_type": "stream",
          "name": "stdout",
          "text": [
            "+--------------------+---------------+---------------+\n",
            "|            Location|Population_1950|Population_2019|\n",
            "+--------------------+---------------+---------------+\n",
            "|         Afghanistan|       7752.117|      38041.757|\n",
            "|              Africa|     227794.137|    1308064.174|\n",
            "|       African Group|     227511.873|    1306320.571|\n",
            "|       African Union|     227525.637|    1306903.022|\n",
            "|African Union: Ce...|      24214.661|     154013.705|\n",
            "|African Union: Ea...|      55336.034|     382531.218|\n",
            "|African Union: No...|      43705.252|     203493.227|\n",
            "|African Union: So...|      34051.198|     179956.492|\n",
            "|African Union: We...|       70218.49|     386908.388|\n",
            "|African, Caribbea...|     199979.667|    1150190.577|\n",
            "|             Albania|       1263.164|       2880.913|\n",
            "|             Algeria|        8872.25|      43053.054|\n",
            "|    Andean Community|      26311.024|     111736.664|\n",
            "|              Angola|       4548.021|      31825.299|\n",
            "| Antigua and Barbuda|         45.515|         97.115|\n",
            "|           Argentina|       17037.91|      44780.675|\n",
            "|             Armenia|       1353.502|       2957.728|\n",
            "|               Aruba|         38.052|         106.31|\n",
            "|                Asia|    1404908.989|    4601371.264|\n",
            "|Asia-Pacific Econ...|    1136577.758|    2956245.284|\n",
            "+--------------------+---------------+---------------+\n",
            "only showing top 20 rows\n",
            "\n"
          ]
        }
      ]
    },
    {
      "cell_type": "markdown",
      "source": [
        "**Exercise**: Which locations had the largest percentage change in population from 1950 to 2019?"
      ],
      "metadata": {
        "id": "XUmwRcHuXxVo"
      }
    },
    {
      "cell_type": "code",
      "source": [
        "# ANSWER\n",
        "df.filter(populations_in_1950.join & populations_in_2019), ('Location').orderBy('Location').show()"
      ],
      "metadata": {
        "id": "gZWfatPCl4vu",
        "colab": {
          "base_uri": "https://localhost:8080/",
          "height": 159
        },
        "outputId": "e668fa69-768e-4d35-a1e8-1ce8ba42d8ca"
      },
      "execution_count": 46,
      "outputs": [
        {
          "output_type": "error",
          "ename": "TypeError",
          "evalue": "unsupported operand type(s) for &: 'method' and 'DataFrame'",
          "traceback": [
            "\u001b[0;31m---------------------------------------------------------------------------\u001b[0m",
            "\u001b[0;31mTypeError\u001b[0m                                 Traceback (most recent call last)",
            "\u001b[0;32m<ipython-input-46-5e1d3662836c>\u001b[0m in \u001b[0;36m<cell line: 2>\u001b[0;34m()\u001b[0m\n\u001b[1;32m      1\u001b[0m \u001b[0;31m# ANSWER\u001b[0m\u001b[0;34m\u001b[0m\u001b[0;34m\u001b[0m\u001b[0m\n\u001b[0;32m----> 2\u001b[0;31m \u001b[0mdf\u001b[0m\u001b[0;34m.\u001b[0m\u001b[0mfilter\u001b[0m\u001b[0;34m(\u001b[0m\u001b[0mpopulations_in_1950\u001b[0m\u001b[0;34m.\u001b[0m\u001b[0mjoin\u001b[0m \u001b[0;34m&\u001b[0m \u001b[0mpopulations_in_2019\u001b[0m\u001b[0;34m)\u001b[0m\u001b[0;34m,\u001b[0m \u001b[0;34m(\u001b[0m\u001b[0;34m'Location'\u001b[0m\u001b[0;34m)\u001b[0m\u001b[0;34m.\u001b[0m\u001b[0morderBy\u001b[0m\u001b[0;34m(\u001b[0m\u001b[0;34m'Location'\u001b[0m\u001b[0;34m)\u001b[0m\u001b[0;34m.\u001b[0m\u001b[0mshow\u001b[0m\u001b[0;34m(\u001b[0m\u001b[0;34m)\u001b[0m\u001b[0;34m\u001b[0m\u001b[0;34m\u001b[0m\u001b[0m\n\u001b[0m",
            "\u001b[0;31mTypeError\u001b[0m: unsupported operand type(s) for &: 'method' and 'DataFrame'"
          ]
        }
      ]
    },
    {
      "cell_type": "markdown",
      "source": [
        "**Bonus Exercise**: In 2019 which locations have the highest percentage of seniors (age 80+) relative to their total population?\n",
        "\n",
        "(Hint: if you find Japan, Greece and Italy you are right!)"
      ],
      "metadata": {
        "id": "Amz7aJ8TpWju"
      }
    },
    {
      "cell_type": "code",
      "source": [
        "# ANSWER\n"
      ],
      "metadata": {
        "id": "j9aqlueYo2x1"
      },
      "execution_count": null,
      "outputs": []
    },
    {
      "cell_type": "markdown",
      "source": [
        "## Population line plot\n",
        "\n",
        "In this section, we use a query to perform a data visualization with matplotlib. We shall plot population vs year for three countries."
      ],
      "metadata": {
        "id": "JF2elDeHXRpY"
      }
    },
    {
      "cell_type": "code",
      "source": [
        "df_3countries = df[df.Location.isin(\"Australia\", \"New Zealand\", \"Singapore\")]\\\n",
        "                  .select('Location', 'MidPeriod', 'PopTotal') \\\n",
        "                  .groupBy('Location', 'MidPeriod')\\\n",
        "                  .sum('PopTotal')\\\n",
        "                  .withColumnRenamed('sum(PopTotal)', 'Population')\\\n",
        "                  .withColumn('Population', round('Population', 3))\n",
        "df_3countries.show()"
      ],
      "metadata": {
        "id": "on49bDYynXuS",
        "outputId": "cf86a2fc-086a-4be4-e12b-e742b2941f13",
        "colab": {
          "base_uri": "https://localhost:8080/"
        }
      },
      "execution_count": null,
      "outputs": [
        {
          "output_type": "stream",
          "name": "stdout",
          "text": [
            "+---------+---------+----------+\n",
            "| Location|MidPeriod|Population|\n",
            "+---------+---------+----------+\n",
            "|Australia|   1970.5|  12793.03|\n",
            "|Australia|   2001.5| 19194.676|\n",
            "|Australia|   2013.5| 23254.912|\n",
            "|Australia|   2007.5| 20916.339|\n",
            "|Australia|   2014.5| 23596.426|\n",
            "|Australia|   1971.5|  13033.13|\n",
            "|Australia|   1974.5| 13605.574|\n",
            "|Australia|   1991.5| 17189.235|\n",
            "|Australia|   1968.5| 12215.704|\n",
            "|Australia|   2009.5| 21750.852|\n",
            "|Australia|   2011.5| 22538.002|\n",
            "|Australia|   1958.5|  9808.595|\n",
            "|Australia|   1990.5|   16960.6|\n",
            "|Australia|   1962.5|  10643.42|\n",
            "|Australia|   2008.5| 21332.293|\n",
            "|Australia|   1955.5|    9165.7|\n",
            "|Australia|   2003.5| 19624.163|\n",
            "|Australia|   1969.5| 12518.931|\n",
            "|Australia|   1996.5| 18189.274|\n",
            "|Australia|   2005.5| 20178.543|\n",
            "+---------+---------+----------+\n",
            "only showing top 20 rows\n",
            "\n"
          ]
        }
      ]
    },
    {
      "cell_type": "code",
      "source": [
        "dataforplotting = df_3countries.toPandas()"
      ],
      "metadata": {
        "id": "94YAOx4DggYX"
      },
      "execution_count": null,
      "outputs": []
    },
    {
      "cell_type": "markdown",
      "source": [
        "Now that this dataset is of a manageable size, we convert it to a Pandas dataframe for plotting."
      ],
      "metadata": {
        "id": "HizTgSBkYP80"
      }
    },
    {
      "cell_type": "code",
      "source": [
        "dataforplotting.info()"
      ],
      "metadata": {
        "id": "MTcUn1rWZw3H",
        "outputId": "683dd240-ec13-4330-ce3c-6ae6b29302e6",
        "colab": {
          "base_uri": "https://localhost:8080/"
        }
      },
      "execution_count": null,
      "outputs": [
        {
          "output_type": "stream",
          "name": "stdout",
          "text": [
            "<class 'pandas.core.frame.DataFrame'>\n",
            "RangeIndex: 70 entries, 0 to 69\n",
            "Data columns (total 3 columns):\n",
            " #   Column      Non-Null Count  Dtype  \n",
            "---  ------      --------------  -----  \n",
            " 0   Location    70 non-null     object \n",
            " 1   MidPeriod   70 non-null     float32\n",
            " 2   Population  70 non-null     float64\n",
            "dtypes: float32(1), float64(1), object(1)\n",
            "memory usage: 1.5+ KB\n"
          ]
        }
      ]
    },
    {
      "cell_type": "code",
      "source": [
        "dataforplotting.pivot_table(index=['MidPeriod'], columns='Location', values='Population')"
      ],
      "metadata": {
        "id": "QkkQaikca5ic",
        "outputId": "2003c5de-cdc2-4ff5-b123-2ba5842cc9be",
        "colab": {
          "base_uri": "https://localhost:8080/",
          "height": 455
        }
      },
      "execution_count": null,
      "outputs": [
        {
          "output_type": "execute_result",
          "data": {
            "text/plain": [
              "Location   Australia\n",
              "MidPeriod           \n",
              "1950.5      8177.348\n",
              "1951.5      8398.224\n",
              "1952.5      8595.064\n",
              "1953.5      8782.177\n",
              "1954.5      8970.121\n",
              "...              ...\n",
              "2015.5     23932.499\n",
              "2016.5     24262.710\n",
              "2017.5     24584.619\n",
              "2018.5     24898.153\n",
              "2019.5     25203.200\n",
              "\n",
              "[70 rows x 1 columns]"
            ],
            "text/html": [
              "\n",
              "  <div id=\"df-9fc161bf-4284-47be-88f2-753070aba2d0\" class=\"colab-df-container\">\n",
              "    <div>\n",
              "<style scoped>\n",
              "    .dataframe tbody tr th:only-of-type {\n",
              "        vertical-align: middle;\n",
              "    }\n",
              "\n",
              "    .dataframe tbody tr th {\n",
              "        vertical-align: top;\n",
              "    }\n",
              "\n",
              "    .dataframe thead th {\n",
              "        text-align: right;\n",
              "    }\n",
              "</style>\n",
              "<table border=\"1\" class=\"dataframe\">\n",
              "  <thead>\n",
              "    <tr style=\"text-align: right;\">\n",
              "      <th>Location</th>\n",
              "      <th>Australia</th>\n",
              "    </tr>\n",
              "    <tr>\n",
              "      <th>MidPeriod</th>\n",
              "      <th></th>\n",
              "    </tr>\n",
              "  </thead>\n",
              "  <tbody>\n",
              "    <tr>\n",
              "      <th>1950.5</th>\n",
              "      <td>8177.348</td>\n",
              "    </tr>\n",
              "    <tr>\n",
              "      <th>1951.5</th>\n",
              "      <td>8398.224</td>\n",
              "    </tr>\n",
              "    <tr>\n",
              "      <th>1952.5</th>\n",
              "      <td>8595.064</td>\n",
              "    </tr>\n",
              "    <tr>\n",
              "      <th>1953.5</th>\n",
              "      <td>8782.177</td>\n",
              "    </tr>\n",
              "    <tr>\n",
              "      <th>1954.5</th>\n",
              "      <td>8970.121</td>\n",
              "    </tr>\n",
              "    <tr>\n",
              "      <th>...</th>\n",
              "      <td>...</td>\n",
              "    </tr>\n",
              "    <tr>\n",
              "      <th>2015.5</th>\n",
              "      <td>23932.499</td>\n",
              "    </tr>\n",
              "    <tr>\n",
              "      <th>2016.5</th>\n",
              "      <td>24262.710</td>\n",
              "    </tr>\n",
              "    <tr>\n",
              "      <th>2017.5</th>\n",
              "      <td>24584.619</td>\n",
              "    </tr>\n",
              "    <tr>\n",
              "      <th>2018.5</th>\n",
              "      <td>24898.153</td>\n",
              "    </tr>\n",
              "    <tr>\n",
              "      <th>2019.5</th>\n",
              "      <td>25203.200</td>\n",
              "    </tr>\n",
              "  </tbody>\n",
              "</table>\n",
              "<p>70 rows × 1 columns</p>\n",
              "</div>\n",
              "    <div class=\"colab-df-buttons\">\n",
              "\n",
              "  <div class=\"colab-df-container\">\n",
              "    <button class=\"colab-df-convert\" onclick=\"convertToInteractive('df-9fc161bf-4284-47be-88f2-753070aba2d0')\"\n",
              "            title=\"Convert this dataframe to an interactive table.\"\n",
              "            style=\"display:none;\">\n",
              "\n",
              "  <svg xmlns=\"http://www.w3.org/2000/svg\" height=\"24px\" viewBox=\"0 -960 960 960\">\n",
              "    <path d=\"M120-120v-720h720v720H120Zm60-500h600v-160H180v160Zm220 220h160v-160H400v160Zm0 220h160v-160H400v160ZM180-400h160v-160H180v160Zm440 0h160v-160H620v160ZM180-180h160v-160H180v160Zm440 0h160v-160H620v160Z\"/>\n",
              "  </svg>\n",
              "    </button>\n",
              "\n",
              "  <style>\n",
              "    .colab-df-container {\n",
              "      display:flex;\n",
              "      gap: 12px;\n",
              "    }\n",
              "\n",
              "    .colab-df-convert {\n",
              "      background-color: #E8F0FE;\n",
              "      border: none;\n",
              "      border-radius: 50%;\n",
              "      cursor: pointer;\n",
              "      display: none;\n",
              "      fill: #1967D2;\n",
              "      height: 32px;\n",
              "      padding: 0 0 0 0;\n",
              "      width: 32px;\n",
              "    }\n",
              "\n",
              "    .colab-df-convert:hover {\n",
              "      background-color: #E2EBFA;\n",
              "      box-shadow: 0px 1px 2px rgba(60, 64, 67, 0.3), 0px 1px 3px 1px rgba(60, 64, 67, 0.15);\n",
              "      fill: #174EA6;\n",
              "    }\n",
              "\n",
              "    .colab-df-buttons div {\n",
              "      margin-bottom: 4px;\n",
              "    }\n",
              "\n",
              "    [theme=dark] .colab-df-convert {\n",
              "      background-color: #3B4455;\n",
              "      fill: #D2E3FC;\n",
              "    }\n",
              "\n",
              "    [theme=dark] .colab-df-convert:hover {\n",
              "      background-color: #434B5C;\n",
              "      box-shadow: 0px 1px 3px 1px rgba(0, 0, 0, 0.15);\n",
              "      filter: drop-shadow(0px 1px 2px rgba(0, 0, 0, 0.3));\n",
              "      fill: #FFFFFF;\n",
              "    }\n",
              "  </style>\n",
              "\n",
              "    <script>\n",
              "      const buttonEl =\n",
              "        document.querySelector('#df-9fc161bf-4284-47be-88f2-753070aba2d0 button.colab-df-convert');\n",
              "      buttonEl.style.display =\n",
              "        google.colab.kernel.accessAllowed ? 'block' : 'none';\n",
              "\n",
              "      async function convertToInteractive(key) {\n",
              "        const element = document.querySelector('#df-9fc161bf-4284-47be-88f2-753070aba2d0');\n",
              "        const dataTable =\n",
              "          await google.colab.kernel.invokeFunction('convertToInteractive',\n",
              "                                                    [key], {});\n",
              "        if (!dataTable) return;\n",
              "\n",
              "        const docLinkHtml = 'Like what you see? Visit the ' +\n",
              "          '<a target=\"_blank\" href=https://colab.research.google.com/notebooks/data_table.ipynb>data table notebook</a>'\n",
              "          + ' to learn more about interactive tables.';\n",
              "        element.innerHTML = '';\n",
              "        dataTable['output_type'] = 'display_data';\n",
              "        await google.colab.output.renderOutput(dataTable, element);\n",
              "        const docLink = document.createElement('div');\n",
              "        docLink.innerHTML = docLinkHtml;\n",
              "        element.appendChild(docLink);\n",
              "      }\n",
              "    </script>\n",
              "  </div>\n",
              "\n",
              "\n",
              "<div id=\"df-bebd82ef-ad55-433a-92d3-4ae792c5f0cd\">\n",
              "  <button class=\"colab-df-quickchart\" onclick=\"quickchart('df-bebd82ef-ad55-433a-92d3-4ae792c5f0cd')\"\n",
              "            title=\"Suggest charts\"\n",
              "            style=\"display:none;\">\n",
              "\n",
              "<svg xmlns=\"http://www.w3.org/2000/svg\" height=\"24px\"viewBox=\"0 0 24 24\"\n",
              "     width=\"24px\">\n",
              "    <g>\n",
              "        <path d=\"M19 3H5c-1.1 0-2 .9-2 2v14c0 1.1.9 2 2 2h14c1.1 0 2-.9 2-2V5c0-1.1-.9-2-2-2zM9 17H7v-7h2v7zm4 0h-2V7h2v10zm4 0h-2v-4h2v4z\"/>\n",
              "    </g>\n",
              "</svg>\n",
              "  </button>\n",
              "\n",
              "<style>\n",
              "  .colab-df-quickchart {\n",
              "      --bg-color: #E8F0FE;\n",
              "      --fill-color: #1967D2;\n",
              "      --hover-bg-color: #E2EBFA;\n",
              "      --hover-fill-color: #174EA6;\n",
              "      --disabled-fill-color: #AAA;\n",
              "      --disabled-bg-color: #DDD;\n",
              "  }\n",
              "\n",
              "  [theme=dark] .colab-df-quickchart {\n",
              "      --bg-color: #3B4455;\n",
              "      --fill-color: #D2E3FC;\n",
              "      --hover-bg-color: #434B5C;\n",
              "      --hover-fill-color: #FFFFFF;\n",
              "      --disabled-bg-color: #3B4455;\n",
              "      --disabled-fill-color: #666;\n",
              "  }\n",
              "\n",
              "  .colab-df-quickchart {\n",
              "    background-color: var(--bg-color);\n",
              "    border: none;\n",
              "    border-radius: 50%;\n",
              "    cursor: pointer;\n",
              "    display: none;\n",
              "    fill: var(--fill-color);\n",
              "    height: 32px;\n",
              "    padding: 0;\n",
              "    width: 32px;\n",
              "  }\n",
              "\n",
              "  .colab-df-quickchart:hover {\n",
              "    background-color: var(--hover-bg-color);\n",
              "    box-shadow: 0 1px 2px rgba(60, 64, 67, 0.3), 0 1px 3px 1px rgba(60, 64, 67, 0.15);\n",
              "    fill: var(--button-hover-fill-color);\n",
              "  }\n",
              "\n",
              "  .colab-df-quickchart-complete:disabled,\n",
              "  .colab-df-quickchart-complete:disabled:hover {\n",
              "    background-color: var(--disabled-bg-color);\n",
              "    fill: var(--disabled-fill-color);\n",
              "    box-shadow: none;\n",
              "  }\n",
              "\n",
              "  .colab-df-spinner {\n",
              "    border: 2px solid var(--fill-color);\n",
              "    border-color: transparent;\n",
              "    border-bottom-color: var(--fill-color);\n",
              "    animation:\n",
              "      spin 1s steps(1) infinite;\n",
              "  }\n",
              "\n",
              "  @keyframes spin {\n",
              "    0% {\n",
              "      border-color: transparent;\n",
              "      border-bottom-color: var(--fill-color);\n",
              "      border-left-color: var(--fill-color);\n",
              "    }\n",
              "    20% {\n",
              "      border-color: transparent;\n",
              "      border-left-color: var(--fill-color);\n",
              "      border-top-color: var(--fill-color);\n",
              "    }\n",
              "    30% {\n",
              "      border-color: transparent;\n",
              "      border-left-color: var(--fill-color);\n",
              "      border-top-color: var(--fill-color);\n",
              "      border-right-color: var(--fill-color);\n",
              "    }\n",
              "    40% {\n",
              "      border-color: transparent;\n",
              "      border-right-color: var(--fill-color);\n",
              "      border-top-color: var(--fill-color);\n",
              "    }\n",
              "    60% {\n",
              "      border-color: transparent;\n",
              "      border-right-color: var(--fill-color);\n",
              "    }\n",
              "    80% {\n",
              "      border-color: transparent;\n",
              "      border-right-color: var(--fill-color);\n",
              "      border-bottom-color: var(--fill-color);\n",
              "    }\n",
              "    90% {\n",
              "      border-color: transparent;\n",
              "      border-bottom-color: var(--fill-color);\n",
              "    }\n",
              "  }\n",
              "</style>\n",
              "\n",
              "  <script>\n",
              "    async function quickchart(key) {\n",
              "      const quickchartButtonEl =\n",
              "        document.querySelector('#' + key + ' button');\n",
              "      quickchartButtonEl.disabled = true;  // To prevent multiple clicks.\n",
              "      quickchartButtonEl.classList.add('colab-df-spinner');\n",
              "      try {\n",
              "        const charts = await google.colab.kernel.invokeFunction(\n",
              "            'suggestCharts', [key], {});\n",
              "      } catch (error) {\n",
              "        console.error('Error during call to suggestCharts:', error);\n",
              "      }\n",
              "      quickchartButtonEl.classList.remove('colab-df-spinner');\n",
              "      quickchartButtonEl.classList.add('colab-df-quickchart-complete');\n",
              "    }\n",
              "    (() => {\n",
              "      let quickchartButtonEl =\n",
              "        document.querySelector('#df-bebd82ef-ad55-433a-92d3-4ae792c5f0cd button');\n",
              "      quickchartButtonEl.style.display =\n",
              "        google.colab.kernel.accessAllowed ? 'block' : 'none';\n",
              "    })();\n",
              "  </script>\n",
              "</div>\n",
              "\n",
              "    </div>\n",
              "  </div>\n"
            ]
          },
          "metadata": {},
          "execution_count": 71
        }
      ]
    },
    {
      "cell_type": "code",
      "source": [
        "ax = dataforplotting.pivot_table(index=['MidPeriod'], columns='Location', values='Population').plot()\n",
        "ax.set_xlabel('Year');\n",
        "ax.set_ylabel('Population in thousands');"
      ],
      "metadata": {
        "id": "4Su9Q_zRYafh",
        "outputId": "308d7684-db1d-474d-83f2-f58473e7a59a",
        "colab": {
          "base_uri": "https://localhost:8080/",
          "height": 449
        }
      },
      "execution_count": null,
      "outputs": [
        {
          "output_type": "display_data",
          "data": {
            "text/plain": [
              "<Figure size 640x480 with 1 Axes>"
            ],
            "image/png": "[encoded data removed]"
          },
          "metadata": {}
        }
      ]
    },
    {
      "cell_type": "markdown",
      "source": [
        "**Bonus Exercise**: Plot the world population of children (age 0-17) along with those of the age groups 18-39 and 40+ from 1950 to 2019. You should display three lines (one for the population of each age group vs year) on the same plot. Note that 'World' is one of the locations.\n",
        "\n",
        "Hint: one approach is to create a new column 'AgeCategory' based on AgeGrpStart using the 'when' function."
      ],
      "metadata": {
        "id": "lk7vpgzhoyyu"
      }
    },
    {
      "cell_type": "code",
      "source": [
        "# ANSWER\n"
      ],
      "metadata": {
        "id": "3seZfEDKztf1"
      },
      "execution_count": null,
      "outputs": []
    },
    {
      "cell_type": "code",
      "source": [
        "agegrp_df = world_data.toPandas()"
      ],
      "metadata": {
        "id": "r4TBvqSxNB0X"
      },
      "execution_count": null,
      "outputs": []
    },
    {
      "cell_type": "code",
      "source": [
        "ax = agegrp_df.pivot_table(index=['MidPeriod'], columns='AgeCategory', values='Population').plot()\n",
        "ax.set_xlabel('Year');\n",
        "ax.set_ylabel('Population in thousands');"
      ],
      "metadata": {
        "id": "zvn4652v0LBB"
      },
      "execution_count": null,
      "outputs": []
    },
    {
      "cell_type": "markdown",
      "source": [
        "## Population Pyramid\n",
        "\n",
        "In this section we show how a population pyramid may be created. We look at China in the year 1980."
      ],
      "metadata": {
        "id": "CjanSfzLshCY"
      }
    },
    {
      "cell_type": "code",
      "source": [
        "china_1980 = df.filter((df.Location == 'China (and dependencies)') & (df.Time == 1980)).toPandas()"
      ],
      "metadata": {
        "id": "y-kPKZoSpvu1"
      },
      "execution_count": null,
      "outputs": []
    },
    {
      "cell_type": "code",
      "source": [
        "china_1980"
      ],
      "metadata": {
        "id": "7QO-QPj5-BFa",
        "outputId": "f2c0fbf9-09f0-4147-b95b-519fe208fa12",
        "colab": {
          "base_uri": "https://localhost:8080/",
          "height": 617
        }
      },
      "execution_count": null,
      "outputs": [
        {
          "output_type": "execute_result",
          "data": {
            "text/plain": [
              "    LocID                  Location VarID Variant  Time  MidPeriod  AgeGrp  \\\n",
              "0    1105  China (and dependencies)     2  Medium  1980     1980.5       0   \n",
              "1    1105  China (and dependencies)     2  Medium  1980     1980.5       1   \n",
              "2    1105  China (and dependencies)     2  Medium  1980     1980.5       2   \n",
              "3    1105  China (and dependencies)     2  Medium  1980     1980.5       3   \n",
              "4    1105  China (and dependencies)     2  Medium  1980     1980.5       4   \n",
              "..    ...                       ...   ...     ...   ...        ...     ...   \n",
              "96   1105  China (and dependencies)     2  Medium  1980     1980.5      96   \n",
              "97   1105  China (and dependencies)     2  Medium  1980     1980.5      97   \n",
              "98   1105  China (and dependencies)     2  Medium  1980     1980.5      98   \n",
              "99   1105  China (and dependencies)     2  Medium  1980     1980.5      99   \n",
              "100  1105  China (and dependencies)     2  Medium  1980     1980.5     100   \n",
              "\n",
              "     AgeGrpStart  AgeGrpSpan       PopMale     PopFemale      PopTotal  \n",
              "0              0           1   9345.832031   8896.928711  18242.761719  \n",
              "1              1           1  10080.731445   9500.591797  19581.322266  \n",
              "2              2           1  10769.024414  10093.152344  20862.175781  \n",
              "3              3           1  11404.811523  10664.711914  22069.523438  \n",
              "4              4           1  11982.184570  11205.377930  23187.562500  \n",
              "..           ...         ...           ...           ...           ...  \n",
              "96            96           1      1.198000      3.994000      5.192000  \n",
              "97            97           1      0.894000      3.042000      3.936000  \n",
              "98            98           1      0.576000      2.022000      2.598000  \n",
              "99            99           1      0.240000      0.933000      1.173000  \n",
              "100          100          -1      0.169000      0.975000      1.144000  \n",
              "\n",
              "[101 rows x 12 columns]"
            ],
            "text/html": [
              "\n",
              "  <div id=\"df-69134f71-32c9-4b4a-b33c-61d493eb55ee\" class=\"colab-df-container\">\n",
              "    <div>\n",
              "<style scoped>\n",
              "    .dataframe tbody tr th:only-of-type {\n",
              "        vertical-align: middle;\n",
              "    }\n",
              "\n",
              "    .dataframe tbody tr th {\n",
              "        vertical-align: top;\n",
              "    }\n",
              "\n",
              "    .dataframe thead th {\n",
              "        text-align: right;\n",
              "    }\n",
              "</style>\n",
              "<table border=\"1\" class=\"dataframe\">\n",
              "  <thead>\n",
              "    <tr style=\"text-align: right;\">\n",
              "      <th></th>\n",
              "      <th>LocID</th>\n",
              "      <th>Location</th>\n",
              "      <th>VarID</th>\n",
              "      <th>Variant</th>\n",
              "      <th>Time</th>\n",
              "      <th>MidPeriod</th>\n",
              "      <th>AgeGrp</th>\n",
              "      <th>AgeGrpStart</th>\n",
              "      <th>AgeGrpSpan</th>\n",
              "      <th>PopMale</th>\n",
              "      <th>PopFemale</th>\n",
              "      <th>PopTotal</th>\n",
              "    </tr>\n",
              "  </thead>\n",
              "  <tbody>\n",
              "    <tr>\n",
              "      <th>0</th>\n",
              "      <td>1105</td>\n",
              "      <td>China (and dependencies)</td>\n",
              "      <td>2</td>\n",
              "      <td>Medium</td>\n",
              "      <td>1980</td>\n",
              "      <td>1980.5</td>\n",
              "      <td>0</td>\n",
              "      <td>0</td>\n",
              "      <td>1</td>\n",
              "      <td>9345.832031</td>\n",
              "      <td>8896.928711</td>\n",
              "      <td>18242.761719</td>\n",
              "    </tr>\n",
              "    <tr>\n",
              "      <th>1</th>\n",
              "      <td>1105</td>\n",
              "      <td>China (and dependencies)</td>\n",
              "      <td>2</td>\n",
              "      <td>Medium</td>\n",
              "      <td>1980</td>\n",
              "      <td>1980.5</td>\n",
              "      <td>1</td>\n",
              "      <td>1</td>\n",
              "      <td>1</td>\n",
              "      <td>10080.731445</td>\n",
              "      <td>9500.591797</td>\n",
              "      <td>19581.322266</td>\n",
              "    </tr>\n",
              "    <tr>\n",
              "      <th>2</th>\n",
              "      <td>1105</td>\n",
              "      <td>China (and dependencies)</td>\n",
              "      <td>2</td>\n",
              "      <td>Medium</td>\n",
              "      <td>1980</td>\n",
              "      <td>1980.5</td>\n",
              "      <td>2</td>\n",
              "      <td>2</td>\n",
              "      <td>1</td>\n",
              "      <td>10769.024414</td>\n",
              "      <td>10093.152344</td>\n",
              "      <td>20862.175781</td>\n",
              "    </tr>\n",
              "    <tr>\n",
              "      <th>3</th>\n",
              "      <td>1105</td>\n",
              "      <td>China (and dependencies)</td>\n",
              "      <td>2</td>\n",
              "      <td>Medium</td>\n",
              "      <td>1980</td>\n",
              "      <td>1980.5</td>\n",
              "      <td>3</td>\n",
              "      <td>3</td>\n",
              "      <td>1</td>\n",
              "      <td>11404.811523</td>\n",
              "      <td>10664.711914</td>\n",
              "      <td>22069.523438</td>\n",
              "    </tr>\n",
              "    <tr>\n",
              "      <th>4</th>\n",
              "      <td>1105</td>\n",
              "      <td>China (and dependencies)</td>\n",
              "      <td>2</td>\n",
              "      <td>Medium</td>\n",
              "      <td>1980</td>\n",
              "      <td>1980.5</td>\n",
              "      <td>4</td>\n",
              "      <td>4</td>\n",
              "      <td>1</td>\n",
              "      <td>11982.184570</td>\n",
              "      <td>11205.377930</td>\n",
              "      <td>23187.562500</td>\n",
              "    </tr>\n",
              "    <tr>\n",
              "      <th>...</th>\n",
              "      <td>...</td>\n",
              "      <td>...</td>\n",
              "      <td>...</td>\n",
              "      <td>...</td>\n",
              "      <td>...</td>\n",
              "      <td>...</td>\n",
              "      <td>...</td>\n",
              "      <td>...</td>\n",
              "      <td>...</td>\n",
              "      <td>...</td>\n",
              "      <td>...</td>\n",
              "      <td>...</td>\n",
              "    </tr>\n",
              "    <tr>\n",
              "      <th>96</th>\n",
              "      <td>1105</td>\n",
              "      <td>China (and dependencies)</td>\n",
              "      <td>2</td>\n",
              "      <td>Medium</td>\n",
              "      <td>1980</td>\n",
              "      <td>1980.5</td>\n",
              "      <td>96</td>\n",
              "      <td>96</td>\n",
              "      <td>1</td>\n",
              "      <td>1.198000</td>\n",
              "      <td>3.994000</td>\n",
              "      <td>5.192000</td>\n",
              "    </tr>\n",
              "    <tr>\n",
              "      <th>97</th>\n",
              "      <td>1105</td>\n",
              "      <td>China (and dependencies)</td>\n",
              "      <td>2</td>\n",
              "      <td>Medium</td>\n",
              "      <td>1980</td>\n",
              "      <td>1980.5</td>\n",
              "      <td>97</td>\n",
              "      <td>97</td>\n",
              "      <td>1</td>\n",
              "      <td>0.894000</td>\n",
              "      <td>3.042000</td>\n",
              "      <td>3.936000</td>\n",
              "    </tr>\n",
              "    <tr>\n",
              "      <th>98</th>\n",
              "      <td>1105</td>\n",
              "      <td>China (and dependencies)</td>\n",
              "      <td>2</td>\n",
              "      <td>Medium</td>\n",
              "      <td>1980</td>\n",
              "      <td>1980.5</td>\n",
              "      <td>98</td>\n",
              "      <td>98</td>\n",
              "      <td>1</td>\n",
              "      <td>0.576000</td>\n",
              "      <td>2.022000</td>\n",
              "      <td>2.598000</td>\n",
              "    </tr>\n",
              "    <tr>\n",
              "      <th>99</th>\n",
              "      <td>1105</td>\n",
              "      <td>China (and dependencies)</td>\n",
              "      <td>2</td>\n",
              "      <td>Medium</td>\n",
              "      <td>1980</td>\n",
              "      <td>1980.5</td>\n",
              "      <td>99</td>\n",
              "      <td>99</td>\n",
              "      <td>1</td>\n",
              "      <td>0.240000</td>\n",
              "      <td>0.933000</td>\n",
              "      <td>1.173000</td>\n",
              "    </tr>\n",
              "    <tr>\n",
              "      <th>100</th>\n",
              "      <td>1105</td>\n",
              "      <td>China (and dependencies)</td>\n",
              "      <td>2</td>\n",
              "      <td>Medium</td>\n",
              "      <td>1980</td>\n",
              "      <td>1980.5</td>\n",
              "      <td>100</td>\n",
              "      <td>100</td>\n",
              "      <td>-1</td>\n",
              "      <td>0.169000</td>\n",
              "      <td>0.975000</td>\n",
              "      <td>1.144000</td>\n",
              "    </tr>\n",
              "  </tbody>\n",
              "</table>\n",
              "<p>101 rows × 12 columns</p>\n",
              "</div>\n",
              "    <div class=\"colab-df-buttons\">\n",
              "\n",
              "  <div class=\"colab-df-container\">\n",
              "    <button class=\"colab-df-convert\" onclick=\"convertToInteractive('df-69134f71-32c9-4b4a-b33c-61d493eb55ee')\"\n",
              "            title=\"Convert this dataframe to an interactive table.\"\n",
              "            style=\"display:none;\">\n",
              "\n",
              "  <svg xmlns=\"http://www.w3.org/2000/svg\" height=\"24px\" viewBox=\"0 -960 960 960\">\n",
              "    <path d=\"M120-120v-720h720v720H120Zm60-500h600v-160H180v160Zm220 220h160v-160H400v160Zm0 220h160v-160H400v160ZM180-400h160v-160H180v160Zm440 0h160v-160H620v160ZM180-180h160v-160H180v160Zm440 0h160v-160H620v160Z\"/>\n",
              "  </svg>\n",
              "    </button>\n",
              "\n",
              "  <style>\n",
              "    .colab-df-container {\n",
              "      display:flex;\n",
              "      gap: 12px;\n",
              "    }\n",
              "\n",
              "    .colab-df-convert {\n",
              "      background-color: #E8F0FE;\n",
              "      border: none;\n",
              "      border-radius: 50%;\n",
              "      cursor: pointer;\n",
              "      display: none;\n",
              "      fill: #1967D2;\n",
              "      height: 32px;\n",
              "      padding: 0 0 0 0;\n",
              "      width: 32px;\n",
              "    }\n",
              "\n",
              "    .colab-df-convert:hover {\n",
              "      background-color: #E2EBFA;\n",
              "      box-shadow: 0px 1px 2px rgba(60, 64, 67, 0.3), 0px 1px 3px 1px rgba(60, 64, 67, 0.15);\n",
              "      fill: #174EA6;\n",
              "    }\n",
              "\n",
              "    .colab-df-buttons div {\n",
              "      margin-bottom: 4px;\n",
              "    }\n",
              "\n",
              "    [theme=dark] .colab-df-convert {\n",
              "      background-color: #3B4455;\n",
              "      fill: #D2E3FC;\n",
              "    }\n",
              "\n",
              "    [theme=dark] .colab-df-convert:hover {\n",
              "      background-color: #434B5C;\n",
              "      box-shadow: 0px 1px 3px 1px rgba(0, 0, 0, 0.15);\n",
              "      filter: drop-shadow(0px 1px 2px rgba(0, 0, 0, 0.3));\n",
              "      fill: #FFFFFF;\n",
              "    }\n",
              "  </style>\n",
              "\n",
              "    <script>\n",
              "      const buttonEl =\n",
              "        document.querySelector('#df-69134f71-32c9-4b4a-b33c-61d493eb55ee button.colab-df-convert');\n",
              "      buttonEl.style.display =\n",
              "        google.colab.kernel.accessAllowed ? 'block' : 'none';\n",
              "\n",
              "      async function convertToInteractive(key) {\n",
              "        const element = document.querySelector('#df-69134f71-32c9-4b4a-b33c-61d493eb55ee');\n",
              "        const dataTable =\n",
              "          await google.colab.kernel.invokeFunction('convertToInteractive',\n",
              "                                                    [key], {});\n",
              "        if (!dataTable) return;\n",
              "\n",
              "        const docLinkHtml = 'Like what you see? Visit the ' +\n",
              "          '<a target=\"_blank\" href=https://colab.research.google.com/notebooks/data_table.ipynb>data table notebook</a>'\n",
              "          + ' to learn more about interactive tables.';\n",
              "        element.innerHTML = '';\n",
              "        dataTable['output_type'] = 'display_data';\n",
              "        await google.colab.output.renderOutput(dataTable, element);\n",
              "        const docLink = document.createElement('div');\n",
              "        docLink.innerHTML = docLinkHtml;\n",
              "        element.appendChild(docLink);\n",
              "      }\n",
              "    </script>\n",
              "  </div>\n",
              "\n",
              "\n",
              "<div id=\"df-c98f44c0-da66-4c59-9a7e-2e3c14ab8081\">\n",
              "  <button class=\"colab-df-quickchart\" onclick=\"quickchart('df-c98f44c0-da66-4c59-9a7e-2e3c14ab8081')\"\n",
              "            title=\"Suggest charts\"\n",
              "            style=\"display:none;\">\n",
              "\n",
              "<svg xmlns=\"http://www.w3.org/2000/svg\" height=\"24px\"viewBox=\"0 0 24 24\"\n",
              "     width=\"24px\">\n",
              "    <g>\n",
              "        <path d=\"M19 3H5c-1.1 0-2 .9-2 2v14c0 1.1.9 2 2 2h14c1.1 0 2-.9 2-2V5c0-1.1-.9-2-2-2zM9 17H7v-7h2v7zm4 0h-2V7h2v10zm4 0h-2v-4h2v4z\"/>\n",
              "    </g>\n",
              "</svg>\n",
              "  </button>\n",
              "\n",
              "<style>\n",
              "  .colab-df-quickchart {\n",
              "      --bg-color: #E8F0FE;\n",
              "      --fill-color: #1967D2;\n",
              "      --hover-bg-color: #E2EBFA;\n",
              "      --hover-fill-color: #174EA6;\n",
              "      --disabled-fill-color: #AAA;\n",
              "      --disabled-bg-color: #DDD;\n",
              "  }\n",
              "\n",
              "  [theme=dark] .colab-df-quickchart {\n",
              "      --bg-color: #3B4455;\n",
              "      --fill-color: #D2E3FC;\n",
              "      --hover-bg-color: #434B5C;\n",
              "      --hover-fill-color: #FFFFFF;\n",
              "      --disabled-bg-color: #3B4455;\n",
              "      --disabled-fill-color: #666;\n",
              "  }\n",
              "\n",
              "  .colab-df-quickchart {\n",
              "    background-color: var(--bg-color);\n",
              "    border: none;\n",
              "    border-radius: 50%;\n",
              "    cursor: pointer;\n",
              "    display: none;\n",
              "    fill: var(--fill-color);\n",
              "    height: 32px;\n",
              "    padding: 0;\n",
              "    width: 32px;\n",
              "  }\n",
              "\n",
              "  .colab-df-quickchart:hover {\n",
              "    background-color: var(--hover-bg-color);\n",
              "    box-shadow: 0 1px 2px rgba(60, 64, 67, 0.3), 0 1px 3px 1px rgba(60, 64, 67, 0.15);\n",
              "    fill: var(--button-hover-fill-color);\n",
              "  }\n",
              "\n",
              "  .colab-df-quickchart-complete:disabled,\n",
              "  .colab-df-quickchart-complete:disabled:hover {\n",
              "    background-color: var(--disabled-bg-color);\n",
              "    fill: var(--disabled-fill-color);\n",
              "    box-shadow: none;\n",
              "  }\n",
              "\n",
              "  .colab-df-spinner {\n",
              "    border: 2px solid var(--fill-color);\n",
              "    border-color: transparent;\n",
              "    border-bottom-color: var(--fill-color);\n",
              "    animation:\n",
              "      spin 1s steps(1) infinite;\n",
              "  }\n",
              "\n",
              "  @keyframes spin {\n",
              "    0% {\n",
              "      border-color: transparent;\n",
              "      border-bottom-color: var(--fill-color);\n",
              "      border-left-color: var(--fill-color);\n",
              "    }\n",
              "    20% {\n",
              "      border-color: transparent;\n",
              "      border-left-color: var(--fill-color);\n",
              "      border-top-color: var(--fill-color);\n",
              "    }\n",
              "    30% {\n",
              "      border-color: transparent;\n",
              "      border-left-color: var(--fill-color);\n",
              "      border-top-color: var(--fill-color);\n",
              "      border-right-color: var(--fill-color);\n",
              "    }\n",
              "    40% {\n",
              "      border-color: transparent;\n",
              "      border-right-color: var(--fill-color);\n",
              "      border-top-color: var(--fill-color);\n",
              "    }\n",
              "    60% {\n",
              "      border-color: transparent;\n",
              "      border-right-color: var(--fill-color);\n",
              "    }\n",
              "    80% {\n",
              "      border-color: transparent;\n",
              "      border-right-color: var(--fill-color);\n",
              "      border-bottom-color: var(--fill-color);\n",
              "    }\n",
              "    90% {\n",
              "      border-color: transparent;\n",
              "      border-bottom-color: var(--fill-color);\n",
              "    }\n",
              "  }\n",
              "</style>\n",
              "\n",
              "  <script>\n",
              "    async function quickchart(key) {\n",
              "      const quickchartButtonEl =\n",
              "        document.querySelector('#' + key + ' button');\n",
              "      quickchartButtonEl.disabled = true;  // To prevent multiple clicks.\n",
              "      quickchartButtonEl.classList.add('colab-df-spinner');\n",
              "      try {\n",
              "        const charts = await google.colab.kernel.invokeFunction(\n",
              "            'suggestCharts', [key], {});\n",
              "      } catch (error) {\n",
              "        console.error('Error during call to suggestCharts:', error);\n",
              "      }\n",
              "      quickchartButtonEl.classList.remove('colab-df-spinner');\n",
              "      quickchartButtonEl.classList.add('colab-df-quickchart-complete');\n",
              "    }\n",
              "    (() => {\n",
              "      let quickchartButtonEl =\n",
              "        document.querySelector('#df-c98f44c0-da66-4c59-9a7e-2e3c14ab8081 button');\n",
              "      quickchartButtonEl.style.display =\n",
              "        google.colab.kernel.accessAllowed ? 'block' : 'none';\n",
              "    })();\n",
              "  </script>\n",
              "</div>\n",
              "\n",
              "  <div id=\"id_1c888045-0c6c-4ee3-88ec-730d1e633b15\">\n",
              "    <style>\n",
              "      .colab-df-generate {\n",
              "        background-color: #E8F0FE;\n",
              "        border: none;\n",
              "        border-radius: 50%;\n",
              "        cursor: pointer;\n",
              "        display: none;\n",
              "        fill: #1967D2;\n",
              "        height: 32px;\n",
              "        padding: 0 0 0 0;\n",
              "        width: 32px;\n",
              "      }\n",
              "\n",
              "      .colab-df-generate:hover {\n",
              "        background-color: #E2EBFA;\n",
              "        box-shadow: 0px 1px 2px rgba(60, 64, 67, 0.3), 0px 1px 3px 1px rgba(60, 64, 67, 0.15);\n",
              "        fill: #174EA6;\n",
              "      }\n",
              "\n",
              "      [theme=dark] .colab-df-generate {\n",
              "        background-color: #3B4455;\n",
              "        fill: #D2E3FC;\n",
              "      }\n",
              "\n",
              "      [theme=dark] .colab-df-generate:hover {\n",
              "        background-color: #434B5C;\n",
              "        box-shadow: 0px 1px 3px 1px rgba(0, 0, 0, 0.15);\n",
              "        filter: drop-shadow(0px 1px 2px rgba(0, 0, 0, 0.3));\n",
              "        fill: #FFFFFF;\n",
              "      }\n",
              "    </style>\n",
              "    <button class=\"colab-df-generate\" onclick=\"generateWithVariable('china_1980')\"\n",
              "            title=\"Generate code using this dataframe.\"\n",
              "            style=\"display:none;\">\n",
              "\n",
              "  <svg xmlns=\"http://www.w3.org/2000/svg\" height=\"24px\"viewBox=\"0 0 24 24\"\n",
              "       width=\"24px\">\n",
              "    <path d=\"M7,19H8.4L18.45,9,17,7.55,7,17.6ZM5,21V16.75L18.45,3.32a2,2,0,0,1,2.83,0l1.4,1.43a1.91,1.91,0,0,1,.58,1.4,1.91,1.91,0,0,1-.58,1.4L9.25,21ZM18.45,9,17,7.55Zm-12,3A5.31,5.31,0,0,0,4.9,8.1,5.31,5.31,0,0,0,1,6.5,5.31,5.31,0,0,0,4.9,4.9,5.31,5.31,0,0,0,6.5,1,5.31,5.31,0,0,0,8.1,4.9,5.31,5.31,0,0,0,12,6.5,5.46,5.46,0,0,0,6.5,12Z\"/>\n",
              "  </svg>\n",
              "    </button>\n",
              "    <script>\n",
              "      (() => {\n",
              "      const buttonEl =\n",
              "        document.querySelector('#id_1c888045-0c6c-4ee3-88ec-730d1e633b15 button.colab-df-generate');\n",
              "      buttonEl.style.display =\n",
              "        google.colab.kernel.accessAllowed ? 'block' : 'none';\n",
              "\n",
              "      buttonEl.onclick = () => {\n",
              "        google.colab.notebook.generateWithVariable('china_1980');\n",
              "      }\n",
              "      })();\n",
              "    </script>\n",
              "  </div>\n",
              "\n",
              "    </div>\n",
              "  </div>\n"
            ]
          },
          "metadata": {},
          "execution_count": 74
        }
      ]
    },
    {
      "cell_type": "code",
      "source": [
        "china_1980.describe()"
      ],
      "metadata": {
        "id": "nDnOzJv590KU",
        "outputId": "b8fe947e-e888-411d-de3e-1dbc795ee206",
        "colab": {
          "base_uri": "https://localhost:8080/",
          "height": 320
        }
      },
      "execution_count": null,
      "outputs": [
        {
          "output_type": "execute_result",
          "data": {
            "text/plain": [
              "         Time  MidPeriod      AgeGrp  AgeGrpStart  AgeGrpSpan       PopMale  \\\n",
              "count   101.0      101.0  101.000000   101.000000  101.000000    101.000000   \n",
              "mean   1980.0     1980.5   50.000000    50.000000    0.980198   5200.050293   \n",
              "std       0.0        0.0   29.300171    29.300171    0.199007   4547.521484   \n",
              "min    1980.0     1980.5    0.000000     0.000000   -1.000000      0.169000   \n",
              "25%    1980.0     1980.5   25.000000    25.000000    1.000000    843.093994   \n",
              "50%    1980.0     1980.5   50.000000    50.000000    1.000000   4447.303223   \n",
              "75%    1980.0     1980.5   75.000000    75.000000    1.000000   9345.832031   \n",
              "max    1980.0     1980.5  100.000000   100.000000    1.000000  14015.841797   \n",
              "\n",
              "          PopFemale      PopTotal  \n",
              "count    101.000000    101.000000  \n",
              "mean    4929.667969  10129.718750  \n",
              "std     4259.914062   8804.997070  \n",
              "min        0.933000      1.144000  \n",
              "25%     1183.671997   2026.765991  \n",
              "50%     3898.085938   8345.388672  \n",
              "75%     8896.928711  18242.761719  \n",
              "max    13443.602539  27459.445312  "
            ],
            "text/html": [
              "\n",
              "  <div id=\"df-839b113c-deab-4223-a4f1-d7217150bb96\" class=\"colab-df-container\">\n",
              "    <div>\n",
              "<style scoped>\n",
              "    .dataframe tbody tr th:only-of-type {\n",
              "        vertical-align: middle;\n",
              "    }\n",
              "\n",
              "    .dataframe tbody tr th {\n",
              "        vertical-align: top;\n",
              "    }\n",
              "\n",
              "    .dataframe thead th {\n",
              "        text-align: right;\n",
              "    }\n",
              "</style>\n",
              "<table border=\"1\" class=\"dataframe\">\n",
              "  <thead>\n",
              "    <tr style=\"text-align: right;\">\n",
              "      <th></th>\n",
              "      <th>Time</th>\n",
              "      <th>MidPeriod</th>\n",
              "      <th>AgeGrp</th>\n",
              "      <th>AgeGrpStart</th>\n",
              "      <th>AgeGrpSpan</th>\n",
              "      <th>PopMale</th>\n",
              "      <th>PopFemale</th>\n",
              "      <th>PopTotal</th>\n",
              "    </tr>\n",
              "  </thead>\n",
              "  <tbody>\n",
              "    <tr>\n",
              "      <th>count</th>\n",
              "      <td>101.0</td>\n",
              "      <td>101.0</td>\n",
              "      <td>101.000000</td>\n",
              "      <td>101.000000</td>\n",
              "      <td>101.000000</td>\n",
              "      <td>101.000000</td>\n",
              "      <td>101.000000</td>\n",
              "      <td>101.000000</td>\n",
              "    </tr>\n",
              "    <tr>\n",
              "      <th>mean</th>\n",
              "      <td>1980.0</td>\n",
              "      <td>1980.5</td>\n",
              "      <td>50.000000</td>\n",
              "      <td>50.000000</td>\n",
              "      <td>0.980198</td>\n",
              "      <td>5200.050293</td>\n",
              "      <td>4929.667969</td>\n",
              "      <td>10129.718750</td>\n",
              "    </tr>\n",
              "    <tr>\n",
              "      <th>std</th>\n",
              "      <td>0.0</td>\n",
              "      <td>0.0</td>\n",
              "      <td>29.300171</td>\n",
              "      <td>29.300171</td>\n",
              "      <td>0.199007</td>\n",
              "      <td>4547.521484</td>\n",
              "      <td>4259.914062</td>\n",
              "      <td>8804.997070</td>\n",
              "    </tr>\n",
              "    <tr>\n",
              "      <th>min</th>\n",
              "      <td>1980.0</td>\n",
              "      <td>1980.5</td>\n",
              "      <td>0.000000</td>\n",
              "      <td>0.000000</td>\n",
              "      <td>-1.000000</td>\n",
              "      <td>0.169000</td>\n",
              "      <td>0.933000</td>\n",
              "      <td>1.144000</td>\n",
              "    </tr>\n",
              "    <tr>\n",
              "      <th>25%</th>\n",
              "      <td>1980.0</td>\n",
              "      <td>1980.5</td>\n",
              "      <td>25.000000</td>\n",
              "      <td>25.000000</td>\n",
              "      <td>1.000000</td>\n",
              "      <td>843.093994</td>\n",
              "      <td>1183.671997</td>\n",
              "      <td>2026.765991</td>\n",
              "    </tr>\n",
              "    <tr>\n",
              "      <th>50%</th>\n",
              "      <td>1980.0</td>\n",
              "      <td>1980.5</td>\n",
              "      <td>50.000000</td>\n",
              "      <td>50.000000</td>\n",
              "      <td>1.000000</td>\n",
              "      <td>4447.303223</td>\n",
              "      <td>3898.085938</td>\n",
              "      <td>8345.388672</td>\n",
              "    </tr>\n",
              "    <tr>\n",
              "      <th>75%</th>\n",
              "      <td>1980.0</td>\n",
              "      <td>1980.5</td>\n",
              "      <td>75.000000</td>\n",
              "      <td>75.000000</td>\n",
              "      <td>1.000000</td>\n",
              "      <td>9345.832031</td>\n",
              "      <td>8896.928711</td>\n",
              "      <td>18242.761719</td>\n",
              "    </tr>\n",
              "    <tr>\n",
              "      <th>max</th>\n",
              "      <td>1980.0</td>\n",
              "      <td>1980.5</td>\n",
              "      <td>100.000000</td>\n",
              "      <td>100.000000</td>\n",
              "      <td>1.000000</td>\n",
              "      <td>14015.841797</td>\n",
              "      <td>13443.602539</td>\n",
              "      <td>27459.445312</td>\n",
              "    </tr>\n",
              "  </tbody>\n",
              "</table>\n",
              "</div>\n",
              "    <div class=\"colab-df-buttons\">\n",
              "\n",
              "  <div class=\"colab-df-container\">\n",
              "    <button class=\"colab-df-convert\" onclick=\"convertToInteractive('df-839b113c-deab-4223-a4f1-d7217150bb96')\"\n",
              "            title=\"Convert this dataframe to an interactive table.\"\n",
              "            style=\"display:none;\">\n",
              "\n",
              "  <svg xmlns=\"http://www.w3.org/2000/svg\" height=\"24px\" viewBox=\"0 -960 960 960\">\n",
              "    <path d=\"M120-120v-720h720v720H120Zm60-500h600v-160H180v160Zm220 220h160v-160H400v160Zm0 220h160v-160H400v160ZM180-400h160v-160H180v160Zm440 0h160v-160H620v160ZM180-180h160v-160H180v160Zm440 0h160v-160H620v160Z\"/>\n",
              "  </svg>\n",
              "    </button>\n",
              "\n",
              "  <style>\n",
              "    .colab-df-container {\n",
              "      display:flex;\n",
              "      gap: 12px;\n",
              "    }\n",
              "\n",
              "    .colab-df-convert {\n",
              "      background-color: #E8F0FE;\n",
              "      border: none;\n",
              "      border-radius: 50%;\n",
              "      cursor: pointer;\n",
              "      display: none;\n",
              "      fill: #1967D2;\n",
              "      height: 32px;\n",
              "      padding: 0 0 0 0;\n",
              "      width: 32px;\n",
              "    }\n",
              "\n",
              "    .colab-df-convert:hover {\n",
              "      background-color: #E2EBFA;\n",
              "      box-shadow: 0px 1px 2px rgba(60, 64, 67, 0.3), 0px 1px 3px 1px rgba(60, 64, 67, 0.15);\n",
              "      fill: #174EA6;\n",
              "    }\n",
              "\n",
              "    .colab-df-buttons div {\n",
              "      margin-bottom: 4px;\n",
              "    }\n",
              "\n",
              "    [theme=dark] .colab-df-convert {\n",
              "      background-color: #3B4455;\n",
              "      fill: #D2E3FC;\n",
              "    }\n",
              "\n",
              "    [theme=dark] .colab-df-convert:hover {\n",
              "      background-color: #434B5C;\n",
              "      box-shadow: 0px 1px 3px 1px rgba(0, 0, 0, 0.15);\n",
              "      filter: drop-shadow(0px 1px 2px rgba(0, 0, 0, 0.3));\n",
              "      fill: #FFFFFF;\n",
              "    }\n",
              "  </style>\n",
              "\n",
              "    <script>\n",
              "      const buttonEl =\n",
              "        document.querySelector('#df-839b113c-deab-4223-a4f1-d7217150bb96 button.colab-df-convert');\n",
              "      buttonEl.style.display =\n",
              "        google.colab.kernel.accessAllowed ? 'block' : 'none';\n",
              "\n",
              "      async function convertToInteractive(key) {\n",
              "        const element = document.querySelector('#df-839b113c-deab-4223-a4f1-d7217150bb96');\n",
              "        const dataTable =\n",
              "          await google.colab.kernel.invokeFunction('convertToInteractive',\n",
              "                                                    [key], {});\n",
              "        if (!dataTable) return;\n",
              "\n",
              "        const docLinkHtml = 'Like what you see? Visit the ' +\n",
              "          '<a target=\"_blank\" href=https://colab.research.google.com/notebooks/data_table.ipynb>data table notebook</a>'\n",
              "          + ' to learn more about interactive tables.';\n",
              "        element.innerHTML = '';\n",
              "        dataTable['output_type'] = 'display_data';\n",
              "        await google.colab.output.renderOutput(dataTable, element);\n",
              "        const docLink = document.createElement('div');\n",
              "        docLink.innerHTML = docLinkHtml;\n",
              "        element.appendChild(docLink);\n",
              "      }\n",
              "    </script>\n",
              "  </div>\n",
              "\n",
              "\n",
              "<div id=\"df-4c5d6bee-d626-44ff-a4b0-9ce3bc00c861\">\n",
              "  <button class=\"colab-df-quickchart\" onclick=\"quickchart('df-4c5d6bee-d626-44ff-a4b0-9ce3bc00c861')\"\n",
              "            title=\"Suggest charts\"\n",
              "            style=\"display:none;\">\n",
              "\n",
              "<svg xmlns=\"http://www.w3.org/2000/svg\" height=\"24px\"viewBox=\"0 0 24 24\"\n",
              "     width=\"24px\">\n",
              "    <g>\n",
              "        <path d=\"M19 3H5c-1.1 0-2 .9-2 2v14c0 1.1.9 2 2 2h14c1.1 0 2-.9 2-2V5c0-1.1-.9-2-2-2zM9 17H7v-7h2v7zm4 0h-2V7h2v10zm4 0h-2v-4h2v4z\"/>\n",
              "    </g>\n",
              "</svg>\n",
              "  </button>\n",
              "\n",
              "<style>\n",
              "  .colab-df-quickchart {\n",
              "      --bg-color: #E8F0FE;\n",
              "      --fill-color: #1967D2;\n",
              "      --hover-bg-color: #E2EBFA;\n",
              "      --hover-fill-color: #174EA6;\n",
              "      --disabled-fill-color: #AAA;\n",
              "      --disabled-bg-color: #DDD;\n",
              "  }\n",
              "\n",
              "  [theme=dark] .colab-df-quickchart {\n",
              "      --bg-color: #3B4455;\n",
              "      --fill-color: #D2E3FC;\n",
              "      --hover-bg-color: #434B5C;\n",
              "      --hover-fill-color: #FFFFFF;\n",
              "      --disabled-bg-color: #3B4455;\n",
              "      --disabled-fill-color: #666;\n",
              "  }\n",
              "\n",
              "  .colab-df-quickchart {\n",
              "    background-color: var(--bg-color);\n",
              "    border: none;\n",
              "    border-radius: 50%;\n",
              "    cursor: pointer;\n",
              "    display: none;\n",
              "    fill: var(--fill-color);\n",
              "    height: 32px;\n",
              "    padding: 0;\n",
              "    width: 32px;\n",
              "  }\n",
              "\n",
              "  .colab-df-quickchart:hover {\n",
              "    background-color: var(--hover-bg-color);\n",
              "    box-shadow: 0 1px 2px rgba(60, 64, 67, 0.3), 0 1px 3px 1px rgba(60, 64, 67, 0.15);\n",
              "    fill: var(--button-hover-fill-color);\n",
              "  }\n",
              "\n",
              "  .colab-df-quickchart-complete:disabled,\n",
              "  .colab-df-quickchart-complete:disabled:hover {\n",
              "    background-color: var(--disabled-bg-color);\n",
              "    fill: var(--disabled-fill-color);\n",
              "    box-shadow: none;\n",
              "  }\n",
              "\n",
              "  .colab-df-spinner {\n",
              "    border: 2px solid var(--fill-color);\n",
              "    border-color: transparent;\n",
              "    border-bottom-color: var(--fill-color);\n",
              "    animation:\n",
              "      spin 1s steps(1) infinite;\n",
              "  }\n",
              "\n",
              "  @keyframes spin {\n",
              "    0% {\n",
              "      border-color: transparent;\n",
              "      border-bottom-color: var(--fill-color);\n",
              "      border-left-color: var(--fill-color);\n",
              "    }\n",
              "    20% {\n",
              "      border-color: transparent;\n",
              "      border-left-color: var(--fill-color);\n",
              "      border-top-color: var(--fill-color);\n",
              "    }\n",
              "    30% {\n",
              "      border-color: transparent;\n",
              "      border-left-color: var(--fill-color);\n",
              "      border-top-color: var(--fill-color);\n",
              "      border-right-color: var(--fill-color);\n",
              "    }\n",
              "    40% {\n",
              "      border-color: transparent;\n",
              "      border-right-color: var(--fill-color);\n",
              "      border-top-color: var(--fill-color);\n",
              "    }\n",
              "    60% {\n",
              "      border-color: transparent;\n",
              "      border-right-color: var(--fill-color);\n",
              "    }\n",
              "    80% {\n",
              "      border-color: transparent;\n",
              "      border-right-color: var(--fill-color);\n",
              "      border-bottom-color: var(--fill-color);\n",
              "    }\n",
              "    90% {\n",
              "      border-color: transparent;\n",
              "      border-bottom-color: var(--fill-color);\n",
              "    }\n",
              "  }\n",
              "</style>\n",
              "\n",
              "  <script>\n",
              "    async function quickchart(key) {\n",
              "      const quickchartButtonEl =\n",
              "        document.querySelector('#' + key + ' button');\n",
              "      quickchartButtonEl.disabled = true;  // To prevent multiple clicks.\n",
              "      quickchartButtonEl.classList.add('colab-df-spinner');\n",
              "      try {\n",
              "        const charts = await google.colab.kernel.invokeFunction(\n",
              "            'suggestCharts', [key], {});\n",
              "      } catch (error) {\n",
              "        console.error('Error during call to suggestCharts:', error);\n",
              "      }\n",
              "      quickchartButtonEl.classList.remove('colab-df-spinner');\n",
              "      quickchartButtonEl.classList.add('colab-df-quickchart-complete');\n",
              "    }\n",
              "    (() => {\n",
              "      let quickchartButtonEl =\n",
              "        document.querySelector('#df-4c5d6bee-d626-44ff-a4b0-9ce3bc00c861 button');\n",
              "      quickchartButtonEl.style.display =\n",
              "        google.colab.kernel.accessAllowed ? 'block' : 'none';\n",
              "    })();\n",
              "  </script>\n",
              "</div>\n",
              "\n",
              "    </div>\n",
              "  </div>\n"
            ]
          },
          "metadata": {},
          "execution_count": 75
        }
      ]
    },
    {
      "cell_type": "markdown",
      "source": [
        "Create age brackets in multiples of 5 - such as 0-4, 5-9, ..."
      ],
      "metadata": {
        "id": "sxwmLmbpT-MU"
      }
    },
    {
      "cell_type": "code",
      "source": [
        "lower = china_1980['AgeGrpStart'] - (china_1980['AgeGrpStart'] % 5)"
      ],
      "metadata": {
        "id": "EDNkxHWPtIBv"
      },
      "execution_count": null,
      "outputs": []
    },
    {
      "cell_type": "code",
      "source": [
        "agebrackets = [f'{x:02d}-{(x+4):02d}' for x in lower.values]\n",
        "agebrackets[-1] = '100+'"
      ],
      "metadata": {
        "id": "qDdobQzVvS6O"
      },
      "execution_count": null,
      "outputs": []
    },
    {
      "cell_type": "code",
      "source": [
        "agebrackets[:10]"
      ],
      "metadata": {
        "id": "aXkHlTwrUJgp",
        "outputId": "ad5fa397-dee1-4e48-b6cf-8b7fb92cb67b",
        "colab": {
          "base_uri": "https://localhost:8080/"
        }
      },
      "execution_count": null,
      "outputs": [
        {
          "output_type": "execute_result",
          "data": {
            "text/plain": [
              "['00-04',\n",
              " '00-04',\n",
              " '00-04',\n",
              " '00-04',\n",
              " '00-04',\n",
              " '05-09',\n",
              " '05-09',\n",
              " '05-09',\n",
              " '05-09',\n",
              " '05-09']"
            ]
          },
          "metadata": {},
          "execution_count": 78
        }
      ]
    },
    {
      "cell_type": "code",
      "source": [
        "china_1980['AgeRange'] = agebrackets"
      ],
      "metadata": {
        "id": "zLRoES0Lv-DV"
      },
      "execution_count": null,
      "outputs": []
    },
    {
      "cell_type": "markdown",
      "source": [
        "Next find the populations by age range."
      ],
      "metadata": {
        "id": "wFh9qf_QUYmA"
      }
    },
    {
      "cell_type": "code",
      "source": [
        "agg_china_1980 = (china_1980.groupby(['AgeRange']).sum()[['PopMale', 'PopFemale']]/1000).reset_index()"
      ],
      "metadata": {
        "id": "HzwkqTnfvIbA",
        "outputId": "d7124a8e-d056-4fe3-f2bf-271c5286f417",
        "colab": {
          "base_uri": "https://localhost:8080/"
        }
      },
      "execution_count": null,
      "outputs": [
        {
          "output_type": "stream",
          "name": "stderr",
          "text": [
            "<ipython-input-80-5eebe1db66f8>:1: FutureWarning: The default value of numeric_only in DataFrameGroupBy.sum is deprecated. In a future version, numeric_only will default to False. Either specify numeric_only or select only columns which should be valid for the function.\n",
            "  agg_china_1980 = (china_1980.groupby(['AgeRange']).sum()[['PopMale', 'PopFemale']]/1000).reset_index()\n"
          ]
        }
      ]
    },
    {
      "cell_type": "code",
      "source": [
        "rev_age = list(dict.fromkeys(agebrackets[::-1])) #reversed list of ages"
      ],
      "metadata": {
        "id": "LZ56Ouu0xshz"
      },
      "execution_count": null,
      "outputs": []
    },
    {
      "cell_type": "code",
      "source": [
        "agg_china_1980['NegPopMale'] = -agg_china_1980['PopMale']"
      ],
      "metadata": {
        "id": "Rr81_Qa03L49"
      },
      "execution_count": null,
      "outputs": []
    },
    {
      "cell_type": "markdown",
      "source": [
        "We are now ready to plot the population pyramid:"
      ],
      "metadata": {
        "id": "BO-L2tVTUzMv"
      }
    },
    {
      "cell_type": "code",
      "source": [
        "sns.set(rc={'figure.figsize':(12,8)})\n",
        "bar_plot = sns.barplot(x='NegPopMale', y='AgeRange', data=agg_china_1980, order = rev_age, color='red')\n",
        "bar_plot = sns.barplot(x='PopFemale', y='AgeRange', data=agg_china_1980, order = rev_age, color='green')\n",
        "\n",
        "labels = [\"80\", \"60\", \"40\", \"20\", \"0\", \"20\", \"40\", \"60\", \"80\"]\n",
        "bar_plot.set_xticklabels(labels)\n",
        "\n",
        "h = [bar_plot.bar(x=.1, height=.1, color = c) for c in ['red', 'green']] #used to set colour of bar in legend\n",
        "bar_plot.legend(handles = h, labels=['Male', 'Female'], fontsize=20)\n",
        "\n",
        "bar_plot.axes.set_title(\"Population Pyramid for China (1980)\", fontsize=20);\n",
        "bar_plot.set_xlabel(\"Population (millions)\", fontsize=20);\n",
        "bar_plot.set_ylabel(\"Age Group\", fontsize=20);\n",
        "bar_plot.set_xticklabels(bar_plot.get_xticklabels(), size = 15);\n",
        "bar_plot.set_yticklabels(bar_plot.get_yticklabels(), size = 15);"
      ],
      "metadata": {
        "id": "PH5G2AS2GM5P",
        "colab": {
          "base_uri": "https://localhost:8080/",
          "height": 690
        },
        "outputId": "5ee73b51-74bb-4a57-e163-757591e10865"
      },
      "execution_count": null,
      "outputs": [
        {
          "output_type": "stream",
          "name": "stderr",
          "text": [
            "<ipython-input-83-d4fb341c2b66>:6: UserWarning: FixedFormatter should only be used together with FixedLocator\n",
            "  bar_plot.set_xticklabels(labels)\n",
            "<ipython-input-83-d4fb341c2b66>:14: UserWarning: FixedFormatter should only be used together with FixedLocator\n",
            "  bar_plot.set_xticklabels(bar_plot.get_xticklabels(), size = 15);\n",
            "<ipython-input-83-d4fb341c2b66>:15: UserWarning: FixedFormatter should only be used together with FixedLocator\n",
            "  bar_plot.set_yticklabels(bar_plot.get_yticklabels(), size = 15);\n"
          ]
        },
        {
          "output_type": "display_data",
          "data": {
            "text/plain": [
              "<Figure size 1200x800 with 1 Axes>"
            ],
            "image/png": "[encoded data removed]"
          },
          "metadata": {}
        }
      ]
    },
    {
      "cell_type": "markdown",
      "source": [
        "## Prediction\n",
        "Finally we use Spark's MLlib library in a linear regression problem. We shall predict the proportion of population to be of a particular age, given year.\n",
        "\n",
        "Inputs:\n",
        "- year\n",
        "- age\n",
        "\n",
        "Target variable:\n",
        "- proportion of a country's population to be of that age, in that year\n"
      ],
      "metadata": {
        "id": "pco3DxAAAo_b"
      }
    },
    {
      "cell_type": "code",
      "source": [
        "pop_by_loc_and_year = df.groupBy('Location', 'Time')\\\n",
        "                        .sum('PopTotal')\\\n",
        "                        .withColumnRenamed('sum(PopTotal)', 'Location_year_pop')"
      ],
      "metadata": {
        "id": "3mB-EMYcA98W"
      },
      "execution_count": null,
      "outputs": []
    },
    {
      "cell_type": "code",
      "source": [
        "pop_by_loc_and_year.show()"
      ],
      "metadata": {
        "id": "SxNyiVNEPxsu",
        "outputId": "a064d1ef-8ad6-4484-85c4-45b02e530a38",
        "colab": {
          "base_uri": "https://localhost:8080/"
        }
      },
      "execution_count": null,
      "outputs": [
        {
          "output_type": "stream",
          "name": "stdout",
          "text": [
            "+--------------------+----+------------------+\n",
            "|            Location|Time| Location_year_pop|\n",
            "+--------------------+----+------------------+\n",
            "|       African Union|1999| 790628.6244071722|\n",
            "|African Union: Ea...|1964| 78209.82484335266|\n",
            "|             Albania|1960|1636.0909999981523|\n",
            "|              Angola|1979| 8058.111999897286|\n",
            "|              Angola|1987|10689.246978582349|\n",
            "| Antigua and Barbuda|1995| 68.67199999373406|\n",
            "| Antigua and Barbuda|2017|  95.4249999569729|\n",
            "|           Argentina|2010| 40895.75102710724|\n",
            "|          Azerbaijan|2012| 9264.683963924646|\n",
            "|                BRIC|1981| 1991971.387032032|\n",
            "|               BRICS|1994| 2523968.064731598|\n",
            "|             Bahamas|1968|158.64800055802334|\n",
            "|             Bahrain|2014|1336.0730002257042|\n",
            "|          Bangladesh|1987| 95671.15840621479|\n",
            "|            Barbados|2019| 287.0210008621216|\n",
            "|Belt-Road Initiat...|1991| 579859.1757936478|\n",
            "|Belt-Road Initiat...|1963| 497522.4002505541|\n",
            "|Belt-Road Initiat...|2018| 1532885.483291626|\n",
            "|Belt-Road Initiat...|2017| 415587.5224170685|\n",
            "|Belt-Road Initiat...|1969| 91886.84786528349|\n",
            "+--------------------+----+------------------+\n",
            "only showing top 20 rows\n",
            "\n"
          ]
        }
      ]
    },
    {
      "cell_type": "code",
      "source": [
        "trainingset = df.join(pop_by_loc_and_year, ['Location', 'Time'])\\\n",
        "  .withColumn('Proportion',\n",
        "              df.PopTotal/pop_by_loc_and_year.Location_year_pop)\\\n",
        "  .select('Time', 'AgeGrpStart', 'Proportion')"
      ],
      "metadata": {
        "id": "B_77KVAtFLeL"
      },
      "execution_count": null,
      "outputs": []
    },
    {
      "cell_type": "markdown",
      "source": [
        "**Exercise**: Use the stat.corr function to find the correlation between AgeGrpStart and Proportion."
      ],
      "metadata": {
        "id": "UHP4f5U0VtVX"
      }
    },
    {
      "cell_type": "code",
      "source": [
        "# ANSWER\n",
        "trainingset.stat.corr('AgeGrpStart' , 'Proportion')\n"
      ],
      "metadata": {
        "id": "rIB8svOhRJo7",
        "outputId": "b274dec6-a9d1-4b39-b33d-87cd791ce885",
        "colab": {
          "base_uri": "https://localhost:8080/"
        }
      },
      "execution_count": null,
      "outputs": [
        {
          "output_type": "execute_result",
          "data": {
            "text/plain": [
              "-0.9037593727579873"
            ]
          },
          "metadata": {},
          "execution_count": 88
        }
      ]
    },
    {
      "cell_type": "markdown",
      "source": [
        "Next we create a simple linear regression model predict Ratio from Time and AgeGrpStart."
      ],
      "metadata": {
        "id": "FGzfs8RvRvta"
      }
    },
    {
      "cell_type": "code",
      "source": [
        "from pyspark.ml.regression import LinearRegression"
      ],
      "metadata": {
        "id": "wLtarw5JRuSX"
      },
      "execution_count": null,
      "outputs": []
    },
    {
      "cell_type": "markdown",
      "source": [
        "MLlib takes input in vector form. Hence we need to create vectors from features."
      ],
      "metadata": {
        "id": "S23U0wGtS4jg"
      }
    },
    {
      "cell_type": "code",
      "source": [
        "from pyspark.ml.feature import VectorAssembler\n",
        "featureassembler=VectorAssembler(inputCols=['Time', 'AgeGrpStart'],\n",
        "                                 outputCol='Features')"
      ],
      "metadata": {
        "id": "IJH5U9jXSFvO"
      },
      "execution_count": null,
      "outputs": []
    },
    {
      "cell_type": "code",
      "source": [
        "final_data_for_regression = featureassembler.transform(trainingset).select('Features', 'Proportion')\n",
        "final_data_for_regression.show()"
      ],
      "metadata": {
        "id": "LVFE_bD2TjQD",
        "outputId": "a87ea801-2697-4678-dc3d-dc33d9d8be38",
        "colab": {
          "base_uri": "https://localhost:8080/"
        }
      },
      "execution_count": null,
      "outputs": [
        {
          "output_type": "stream",
          "name": "stdout",
          "text": [
            "+-------------+--------------------+\n",
            "|     Features|          Proportion|\n",
            "+-------------+--------------------+\n",
            "| [1999.0,0.0]|0.034861880698940154|\n",
            "| [1999.0,1.0]|0.033504117654464094|\n",
            "| [1999.0,2.0]| 0.03229754709870501|\n",
            "| [1999.0,3.0]|0.031226978883906742|\n",
            "| [1999.0,4.0]| 0.03036231881608717|\n",
            "| [1999.0,5.0]|0.029540022684496337|\n",
            "| [1999.0,6.0]| 0.02879784229235586|\n",
            "| [1999.0,7.0]|0.028121706557925764|\n",
            "| [1999.0,8.0]| 0.02749754439946607|\n",
            "| [1999.0,9.0]|0.026922376581622418|\n",
            "|[1999.0,10.0]|0.026393226339384863|\n",
            "|[1999.0,11.0]| 0.02584056829977413|\n",
            "|[1999.0,12.0]|0.025228194624822717|\n",
            "|[1999.0,13.0]|0.024575277657470227|\n",
            "|[1999.0,14.0]| 0.02394366246993583|\n",
            "|[1999.0,15.0]|0.023328689992668676|\n",
            "|[1999.0,16.0]|0.022669283430560058|\n",
            "|[1999.0,17.0]|0.021943661756977005|\n",
            "|[1999.0,18.0]| 0.02117703730693325|\n",
            "|[1999.0,19.0]|0.020418749034089554|\n",
            "+-------------+--------------------+\n",
            "only showing top 20 rows\n",
            "\n"
          ]
        }
      ]
    },
    {
      "cell_type": "code",
      "source": [
        "train, test = final_data_for_regression.randomSplit([0.9,0.1])"
      ],
      "metadata": {
        "id": "JdJMPuEaUsU7"
      },
      "execution_count": null,
      "outputs": []
    },
    {
      "cell_type": "code",
      "source": [
        "train"
      ],
      "metadata": {
        "id": "j0g2C3q7WJcn",
        "outputId": "4c12de1a-29e5-48f9-f51f-333428a6c234",
        "colab": {
          "base_uri": "https://localhost:8080/"
        }
      },
      "execution_count": null,
      "outputs": [
        {
          "output_type": "execute_result",
          "data": {
            "text/plain": [
              "DataFrame[Features: vector, Proportion: double]"
            ]
          },
          "metadata": {},
          "execution_count": 93
        }
      ]
    },
    {
      "cell_type": "markdown",
      "source": [
        "Next we cache these dataframes into memory:"
      ],
      "metadata": {
        "id": "MDQKO1uSWbRk"
      }
    },
    {
      "cell_type": "code",
      "source": [
        "train = train.cache()"
      ],
      "metadata": {
        "id": "RMlSH4bSawox"
      },
      "execution_count": null,
      "outputs": []
    },
    {
      "cell_type": "code",
      "source": [
        "test = test.cache()"
      ],
      "metadata": {
        "id": "DQA6_pKbcRil"
      },
      "execution_count": null,
      "outputs": []
    },
    {
      "cell_type": "markdown",
      "source": [
        "We are ready to train the model. This may take a minute or so due to the size of training set."
      ],
      "metadata": {
        "id": "5tCkn1JRWkp_"
      }
    },
    {
      "cell_type": "code",
      "source": [
        "regressor = LinearRegression(featuresCol='Features', labelCol='Proportion')\n",
        "regressor = regressor.fit(train)"
      ],
      "metadata": {
        "id": "HENx9aRyT6ye"
      },
      "execution_count": null,
      "outputs": []
    },
    {
      "cell_type": "code",
      "source": [
        "regressor.coefficients"
      ],
      "metadata": {
        "id": "cB1xBOeBUtq0",
        "outputId": "16045120-a4e5-4f12-ed05-31c1e7572db0",
        "colab": {
          "base_uri": "https://localhost:8080/"
        }
      },
      "execution_count": null,
      "outputs": [
        {
          "output_type": "execute_result",
          "data": {
            "text/plain": [
              "DenseVector([-0.0, -0.0003])"
            ]
          },
          "metadata": {},
          "execution_count": 97
        }
      ]
    },
    {
      "cell_type": "code",
      "source": [
        "regressor.intercept"
      ],
      "metadata": {
        "id": "cuq7d9GRUzjN",
        "outputId": "495064af-4969-466a-9a89-29bccffdf19f",
        "colab": {
          "base_uri": "https://localhost:8080/"
        }
      },
      "execution_count": null,
      "outputs": [
        {
          "output_type": "execute_result",
          "data": {
            "text/plain": [
              "0.02280457471568164"
            ]
          },
          "metadata": {},
          "execution_count": 98
        }
      ]
    },
    {
      "cell_type": "code",
      "source": [
        "predicted_results = regressor.evaluate(test)"
      ],
      "metadata": {
        "id": "r1hn6SdxU0rR"
      },
      "execution_count": null,
      "outputs": []
    },
    {
      "cell_type": "markdown",
      "source": [
        "Here we can compare some predicted proportions with actual proportions:"
      ],
      "metadata": {
        "id": "LOoUldddbOCu"
      }
    },
    {
      "cell_type": "code",
      "source": [
        "predicted_results.predictions.show()"
      ],
      "metadata": {
        "id": "B5oY-pWtVI0t",
        "outputId": "c7549657-18f3-4732-9fbe-72b2cbdb467a",
        "colab": {
          "base_uri": "https://localhost:8080/"
        }
      },
      "execution_count": null,
      "outputs": [
        {
          "output_type": "stream",
          "name": "stdout",
          "text": [
            "+------------+--------------------+--------------------+\n",
            "|    Features|          Proportion|          prediction|\n",
            "+------------+--------------------+--------------------+\n",
            "|[1950.0,0.0]|0.031261955267252985|0.022758714436476712|\n",
            "|[1950.0,0.0]|0.032749185658808216|0.022758714436476712|\n",
            "|[1950.0,0.0]|  0.0327610717705694|0.022758714436476712|\n",
            "|[1950.0,0.0]| 0.03279190572551684|0.022758714436476712|\n",
            "|[1950.0,0.0]| 0.03315980958325287|0.022758714436476712|\n",
            "|[1950.0,0.0]| 0.03446022101390343|0.022758714436476712|\n",
            "|[1950.0,0.0]|0.035289197666370675|0.022758714436476712|\n",
            "|[1950.0,0.0]| 0.03859816014221689|0.022758714436476712|\n",
            "|[1950.0,0.0]| 0.03884664278805715|0.022758714436476712|\n",
            "|[1950.0,1.0]| 0.01732395228191049|0.022499808233667516|\n",
            "|[1950.0,1.0]| 0.02055889166419327|0.022499808233667516|\n",
            "|[1950.0,1.0]|0.029604554386521455|0.022499808233667516|\n",
            "|[1950.0,1.0]|0.030999564378914806|0.022499808233667516|\n",
            "|[1950.0,1.0]|0.031026403708459323|0.022499808233667516|\n",
            "|[1950.0,1.0]|0.034570200421613205|0.022499808233667516|\n",
            "|[1950.0,1.0]| 0.03539966335715799|0.022499808233667516|\n",
            "|[1950.0,1.0]| 0.03552838170852337|0.022499808233667516|\n",
            "|[1950.0,1.0]|0.035539246752240454|0.022499808233667516|\n",
            "|[1950.0,1.0]|0.036272439677346856|0.022499808233667516|\n",
            "|[1950.0,1.0]| 0.03671764091186424|0.022499808233667516|\n",
            "+------------+--------------------+--------------------+\n",
            "only showing top 20 rows\n",
            "\n"
          ]
        }
      ]
    },
    {
      "cell_type": "markdown",
      "source": [
        "**Exercise**: Find R-squared and the mean squared error using the 'r2' and 'meanSquaredError' attributes."
      ],
      "metadata": {
        "id": "qnFtxazpW65a"
      }
    },
    {
      "cell_type": "code",
      "source": [
        "# ANSWER\n",
        "predicted_results.meanSquaredError,predicted_results.r2"
      ],
      "metadata": {
        "id": "CiExfxhOcwmx",
        "outputId": "eb6321ab-6f83-4329-e9e0-93ee5ddae79f",
        "colab": {
          "base_uri": "https://localhost:8080/"
        }
      },
      "execution_count": null,
      "outputs": [
        {
          "output_type": "execute_result",
          "data": {
            "text/plain": [
              "(1.2740930971083962e-05, 0.8174679813832463)"
            ]
          },
          "metadata": {},
          "execution_count": 104
        }
      ]
    },
    {
      "cell_type": "markdown",
      "source": [
        "## Conclusion\n",
        "\n",
        "We have seen how to use Pyspark to make queries on a large dataset, save smaller datasets into Pandas dataframe for plotting and how to use MLlib for machine learning on a large dataset."
      ],
      "metadata": {
        "id": "WLEy2Q5R0sUP"
      }
    },
    {
      "cell_type": "markdown",
      "source": [
        "\n",
        "\n",
        "---\n",
        "\n",
        "\n",
        "\n",
        "---\n",
        "\n",
        "\n",
        "\n",
        "> > > > > > > > > © 2023 Institute of Data\n",
        "\n",
        "\n",
        "---\n",
        "\n",
        "\n",
        "\n",
        "---\n",
        "\n",
        "\n",
        "\n"
      ],
      "metadata": {
        "id": "-Rws5UYfXrSZ"
      }
    }
  ]
}