{
 "cells": [
  {
   "cell_type": "markdown",
   "metadata": {
    "id": "gn3SG1yo1KdV"
   },
   "source": [
    "<div>\n",
    "<img src=https://www.institutedata.com/wp-content/uploads/2019/10/iod_h_tp_primary_c.svg width=\"300\">\n",
    "</div>"
   ]
  },
  {
   "cell_type": "markdown",
   "metadata": {
    "id": "g-SD7a9X1KdY"
   },
   "source": [
    "# Lab 9.1: NN with Keras\n",
    "INSTRUCTIONS:\n",
    "- Read the guides and hints, then create the necessary analysis and code to find an answer and conclusion for the task below.\n",
    "- **NOTE**: This is a Regression problem. Consider the appropriate:\n",
    "    - Activation function\n",
    "    - Loss/Cost Function\n",
    "    - Metrics"
   ]
  },
  {
   "cell_type": "markdown",
   "metadata": {
    "id": "ENgfRnvL1Kdc"
   },
   "source": [
    "### Import libraries"
   ]
  },
  {
   "cell_type": "code",
   "execution_count": 8,
   "metadata": {},
   "outputs": [
    {
     "name": "stdout",
     "output_type": "stream",
     "text": [
      "Requirement already satisfied: tensorflow in c:\\users\\renee garrett\\anaconda3\\lib\\site-packages (2.15.0)\n",
      "Requirement already satisfied: tensorflow-intel==2.15.0 in c:\\users\\renee garrett\\anaconda3\\lib\\site-packages (from tensorflow) (2.15.0)\n",
      "Requirement already satisfied: absl-py>=1.0.0 in c:\\users\\renee garrett\\anaconda3\\lib\\site-packages (from tensorflow-intel==2.15.0->tensorflow) (2.0.0)\n",
      "Requirement already satisfied: astunparse>=1.6.0 in c:\\users\\renee garrett\\anaconda3\\lib\\site-packages (from tensorflow-intel==2.15.0->tensorflow) (1.6.3)\n",
      "Requirement already satisfied: flatbuffers>=23.5.26 in c:\\users\\renee garrett\\anaconda3\\lib\\site-packages (from tensorflow-intel==2.15.0->tensorflow) (23.5.26)\n",
      "Requirement already satisfied: gast!=0.5.0,!=0.5.1,!=0.5.2,>=0.2.1 in c:\\users\\renee garrett\\anaconda3\\lib\\site-packages (from tensorflow-intel==2.15.0->tensorflow) (0.5.4)\n",
      "Requirement already satisfied: google-pasta>=0.1.1 in c:\\users\\renee garrett\\anaconda3\\lib\\site-packages (from tensorflow-intel==2.15.0->tensorflow) (0.2.0)\n",
      "Requirement already satisfied: h5py>=2.9.0 in c:\\users\\renee garrett\\anaconda3\\lib\\site-packages (from tensorflow-intel==2.15.0->tensorflow) (3.7.0)\n",
      "Requirement already satisfied: libclang>=13.0.0 in c:\\users\\renee garrett\\anaconda3\\lib\\site-packages (from tensorflow-intel==2.15.0->tensorflow) (16.0.6)\n",
      "Requirement already satisfied: ml-dtypes~=0.2.0 in c:\\users\\renee garrett\\anaconda3\\lib\\site-packages (from tensorflow-intel==2.15.0->tensorflow) (0.2.0)\n",
      "Requirement already satisfied: numpy<2.0.0,>=1.23.5 in c:\\users\\renee garrett\\anaconda3\\lib\\site-packages (from tensorflow-intel==2.15.0->tensorflow) (1.24.3)\n",
      "Requirement already satisfied: opt-einsum>=2.3.2 in c:\\users\\renee garrett\\anaconda3\\lib\\site-packages (from tensorflow-intel==2.15.0->tensorflow) (3.3.0)\n",
      "Requirement already satisfied: packaging in c:\\users\\renee garrett\\anaconda3\\lib\\site-packages (from tensorflow-intel==2.15.0->tensorflow) (23.0)\n",
      "Requirement already satisfied: protobuf!=4.21.0,!=4.21.1,!=4.21.2,!=4.21.3,!=4.21.4,!=4.21.5,<5.0.0dev,>=3.20.3 in c:\\users\\renee garrett\\anaconda3\\lib\\site-packages (from tensorflow-intel==2.15.0->tensorflow) (4.23.4)\n",
      "Requirement already satisfied: setuptools in c:\\users\\renee garrett\\anaconda3\\lib\\site-packages (from tensorflow-intel==2.15.0->tensorflow) (68.0.0)\n",
      "Requirement already satisfied: six>=1.12.0 in c:\\users\\renee garrett\\anaconda3\\lib\\site-packages (from tensorflow-intel==2.15.0->tensorflow) (1.16.0)\n",
      "Requirement already satisfied: termcolor>=1.1.0 in c:\\users\\renee garrett\\anaconda3\\lib\\site-packages (from tensorflow-intel==2.15.0->tensorflow) (2.4.0)\n",
      "Requirement already satisfied: typing-extensions>=3.6.6 in c:\\users\\renee garrett\\anaconda3\\lib\\site-packages (from tensorflow-intel==2.15.0->tensorflow) (4.7.1)\n",
      "Requirement already satisfied: wrapt<1.15,>=1.11.0 in c:\\users\\renee garrett\\anaconda3\\lib\\site-packages (from tensorflow-intel==2.15.0->tensorflow) (1.14.1)\n",
      "Requirement already satisfied: tensorflow-io-gcs-filesystem>=0.23.1 in c:\\users\\renee garrett\\anaconda3\\lib\\site-packages (from tensorflow-intel==2.15.0->tensorflow) (0.31.0)\n",
      "Requirement already satisfied: grpcio<2.0,>=1.24.3 in c:\\users\\renee garrett\\anaconda3\\lib\\site-packages (from tensorflow-intel==2.15.0->tensorflow) (1.59.2)\n",
      "Requirement already satisfied: tensorboard<2.16,>=2.15 in c:\\users\\renee garrett\\anaconda3\\lib\\site-packages (from tensorflow-intel==2.15.0->tensorflow) (2.15.1)\n",
      "Requirement already satisfied: tensorflow-estimator<2.16,>=2.15.0 in c:\\users\\renee garrett\\anaconda3\\lib\\site-packages (from tensorflow-intel==2.15.0->tensorflow) (2.15.0)\n",
      "Requirement already satisfied: keras<2.16,>=2.15.0 in c:\\users\\renee garrett\\anaconda3\\lib\\site-packages (from tensorflow-intel==2.15.0->tensorflow) (2.15.0)\n",
      "Requirement already satisfied: wheel<1.0,>=0.23.0 in c:\\users\\renee garrett\\anaconda3\\lib\\site-packages (from astunparse>=1.6.0->tensorflow-intel==2.15.0->tensorflow) (0.38.4)\n",
      "Requirement already satisfied: google-auth<3,>=1.6.3 in c:\\users\\renee garrett\\anaconda3\\lib\\site-packages (from tensorboard<2.16,>=2.15->tensorflow-intel==2.15.0->tensorflow) (2.23.4)\n",
      "Requirement already satisfied: google-auth-oauthlib<2,>=0.5 in c:\\users\\renee garrett\\anaconda3\\lib\\site-packages (from tensorboard<2.16,>=2.15->tensorflow-intel==2.15.0->tensorflow) (1.2.0)\n",
      "Requirement already satisfied: markdown>=2.6.8 in c:\\users\\renee garrett\\anaconda3\\lib\\site-packages (from tensorboard<2.16,>=2.15->tensorflow-intel==2.15.0->tensorflow) (3.4.1)\n",
      "Requirement already satisfied: requests<3,>=2.21.0 in c:\\users\\renee garrett\\anaconda3\\lib\\site-packages (from tensorboard<2.16,>=2.15->tensorflow-intel==2.15.0->tensorflow) (2.31.0)\n",
      "Requirement already satisfied: tensorboard-data-server<0.8.0,>=0.7.0 in c:\\users\\renee garrett\\anaconda3\\lib\\site-packages (from tensorboard<2.16,>=2.15->tensorflow-intel==2.15.0->tensorflow) (0.7.2)\n",
      "Requirement already satisfied: werkzeug>=1.0.1 in c:\\users\\renee garrett\\anaconda3\\lib\\site-packages (from tensorboard<2.16,>=2.15->tensorflow-intel==2.15.0->tensorflow) (2.2.3)\n",
      "Requirement already satisfied: cachetools<6.0,>=2.0.0 in c:\\users\\renee garrett\\anaconda3\\lib\\site-packages (from google-auth<3,>=1.6.3->tensorboard<2.16,>=2.15->tensorflow-intel==2.15.0->tensorflow) (5.3.2)\n",
      "Requirement already satisfied: pyasn1-modules>=0.2.1 in c:\\users\\renee garrett\\anaconda3\\lib\\site-packages (from google-auth<3,>=1.6.3->tensorboard<2.16,>=2.15->tensorflow-intel==2.15.0->tensorflow) (0.2.8)\n",
      "Requirement already satisfied: rsa<5,>=3.1.4 in c:\\users\\renee garrett\\anaconda3\\lib\\site-packages (from google-auth<3,>=1.6.3->tensorboard<2.16,>=2.15->tensorflow-intel==2.15.0->tensorflow) (4.9)\n",
      "Requirement already satisfied: requests-oauthlib>=0.7.0 in c:\\users\\renee garrett\\anaconda3\\lib\\site-packages (from google-auth-oauthlib<2,>=0.5->tensorboard<2.16,>=2.15->tensorflow-intel==2.15.0->tensorflow) (1.3.1)\n",
      "Requirement already satisfied: charset-normalizer<4,>=2 in c:\\users\\renee garrett\\anaconda3\\lib\\site-packages (from requests<3,>=2.21.0->tensorboard<2.16,>=2.15->tensorflow-intel==2.15.0->tensorflow) (2.0.4)\n",
      "Requirement already satisfied: idna<4,>=2.5 in c:\\users\\renee garrett\\anaconda3\\lib\\site-packages (from requests<3,>=2.21.0->tensorboard<2.16,>=2.15->tensorflow-intel==2.15.0->tensorflow) (3.4)\n",
      "Requirement already satisfied: urllib3<3,>=1.21.1 in c:\\users\\renee garrett\\anaconda3\\lib\\site-packages (from requests<3,>=2.21.0->tensorboard<2.16,>=2.15->tensorflow-intel==2.15.0->tensorflow) (1.26.16)\n",
      "Requirement already satisfied: certifi>=2017.4.17 in c:\\users\\renee garrett\\anaconda3\\lib\\site-packages (from requests<3,>=2.21.0->tensorboard<2.16,>=2.15->tensorflow-intel==2.15.0->tensorflow) (2023.7.22)\n",
      "Requirement already satisfied: MarkupSafe>=2.1.1 in c:\\users\\renee garrett\\anaconda3\\lib\\site-packages (from werkzeug>=1.0.1->tensorboard<2.16,>=2.15->tensorflow-intel==2.15.0->tensorflow) (2.1.1)\n",
      "Requirement already satisfied: pyasn1<0.5.0,>=0.4.6 in c:\\users\\renee garrett\\anaconda3\\lib\\site-packages (from pyasn1-modules>=0.2.1->google-auth<3,>=1.6.3->tensorboard<2.16,>=2.15->tensorflow-intel==2.15.0->tensorflow) (0.4.8)\n",
      "Requirement already satisfied: oauthlib>=3.0.0 in c:\\users\\renee garrett\\anaconda3\\lib\\site-packages (from requests-oauthlib>=0.7.0->google-auth-oauthlib<2,>=0.5->tensorboard<2.16,>=2.15->tensorflow-intel==2.15.0->tensorflow) (3.2.2)\n"
     ]
    }
   ],
   "source": [
    "!pip install tensorflow"
   ]
  },
  {
   "cell_type": "code",
   "execution_count": 17,
   "metadata": {
    "id": "Z9H465X-1Kde"
   },
   "outputs": [],
   "source": [
    "# insert code here\n",
    "\n",
    "import tensorflow as tf\n",
    "from tensorflow import keras\n",
    "\n",
    "import numpy as np\n",
    "\n",
    "%matplotlib inline\n",
    "import matplotlib.pyplot as plt\n",
    "\n",
    "from sklearn.datasets import load_diabetes\n",
    "from sklearn.metrics import confusion_matrix\n",
    "from sklearn.model_selection import train_test_split\n",
    "\n",
    "# import keras\n",
    "from keras.models import Sequential\n",
    "from keras.layers import Dense\n",
    "from tensorflow.keras.utils import to_categorical"
   ]
  },
  {
   "cell_type": "code",
   "execution_count": 18,
   "metadata": {},
   "outputs": [
    {
     "name": "stdout",
     "output_type": "stream",
     "text": [
      "Tensorflow version:  2.15.0\n"
     ]
    }
   ],
   "source": [
    "print(\"Tensorflow version: \", tf.__version__)"
   ]
  },
  {
   "cell_type": "code",
   "execution_count": 19,
   "metadata": {},
   "outputs": [],
   "source": [
    "from tensorflow.keras.models import Sequential"
   ]
  },
  {
   "cell_type": "code",
   "execution_count": 16,
   "metadata": {},
   "outputs": [],
   "source": [
    "model = Sequential()"
   ]
  },
  {
   "cell_type": "markdown",
   "metadata": {
    "id": "5FHh910J1Kdm"
   },
   "source": [
    "### Load data\n",
    "Load the Diabetes dataset from **SciKit-Learn**."
   ]
  },
  {
   "cell_type": "code",
   "execution_count": 20,
   "metadata": {
    "id": "MWu8SlQF1Kdo"
   },
   "outputs": [],
   "source": [
    "# insert code here\n",
    "diabetes = load_diabetes()"
   ]
  },
  {
   "cell_type": "markdown",
   "metadata": {
    "id": "xR_yLpR01Kdr"
   },
   "source": [
    "### Prepare input data"
   ]
  },
  {
   "cell_type": "code",
   "execution_count": 21,
   "metadata": {
    "id": "Sp2mf2bB1Kds"
   },
   "outputs": [
    {
     "name": "stdout",
     "output_type": "stream",
     "text": [
      ".. _diabetes_dataset:\n",
      "\n",
      "Diabetes dataset\n",
      "----------------\n",
      "\n",
      "Ten baseline variables, age, sex, body mass index, average blood\n",
      "pressure, and six blood serum measurements were obtained for each of n =\n",
      "442 diabetes patients, as well as the response of interest, a\n",
      "quantitative measure of disease progression one year after baseline.\n",
      "\n",
      "**Data Set Characteristics:**\n",
      "\n",
      "  :Number of Instances: 442\n",
      "\n",
      "  :Number of Attributes: First 10 columns are numeric predictive values\n",
      "\n",
      "  :Target: Column 11 is a quantitative measure of disease progression one year after baseline\n",
      "\n",
      "  :Attribute Information:\n",
      "      - age     age in years\n",
      "      - sex\n",
      "      - bmi     body mass index\n",
      "      - bp      average blood pressure\n",
      "      - s1      tc, total serum cholesterol\n",
      "      - s2      ldl, low-density lipoproteins\n",
      "      - s3      hdl, high-density lipoproteins\n",
      "      - s4      tch, total cholesterol / HDL\n",
      "      - s5      ltg, possibly log of serum triglycerides level\n",
      "      - s6      glu, blood sugar level\n",
      "\n",
      "Note: Each of these 10 feature variables have been mean centered and scaled by the standard deviation times the square root of `n_samples` (i.e. the sum of squares of each column totals 1).\n",
      "\n",
      "Source URL:\n",
      "https://www4.stat.ncsu.edu/~boos/var.select/diabetes.html\n",
      "\n",
      "For more information see:\n",
      "Bradley Efron, Trevor Hastie, Iain Johnstone and Robert Tibshirani (2004) \"Least Angle Regression,\" Annals of Statistics (with discussion), 407-499.\n",
      "(https://web.stanford.edu/~hastie/Papers/LARS/LeastAngle_2002.pdf)\n",
      "\n"
     ]
    }
   ],
   "source": [
    "# insert code here\n",
    "print(diabetes.DESCR)"
   ]
  },
  {
   "cell_type": "markdown",
   "metadata": {
    "id": "j1Vsh6cm1Kdv"
   },
   "source": [
    "### Split the data (training/test)"
   ]
  },
  {
   "cell_type": "code",
   "execution_count": 23,
   "metadata": {
    "id": "O341llJz1Kdw"
   },
   "outputs": [
    {
     "data": {
      "text/plain": [
       "array([151.,  75., 141., 206., 135.,  97., 138.,  63., 110., 310., 101.,\n",
       "        69., 179., 185., 118., 171., 166., 144.,  97., 168.,  68.,  49.,\n",
       "        68., 245., 184., 202., 137.,  85., 131., 283., 129.,  59., 341.,\n",
       "        87.,  65., 102., 265., 276., 252.,  90., 100.,  55.,  61.,  92.,\n",
       "       259.,  53., 190., 142.,  75., 142., 155., 225.,  59., 104., 182.,\n",
       "       128.,  52.,  37., 170., 170.,  61., 144.,  52., 128.,  71., 163.,\n",
       "       150.,  97., 160., 178.,  48., 270., 202., 111.,  85.,  42., 170.,\n",
       "       200., 252., 113., 143.,  51.,  52., 210.,  65., 141.,  55., 134.,\n",
       "        42., 111.,  98., 164.,  48.,  96.,  90., 162., 150., 279.,  92.,\n",
       "        83., 128., 102., 302., 198.,  95.,  53., 134., 144., 232.,  81.,\n",
       "       104.,  59., 246., 297., 258., 229., 275., 281., 179., 200., 200.,\n",
       "       173., 180.,  84., 121., 161.,  99., 109., 115., 268., 274., 158.,\n",
       "       107.,  83., 103., 272.,  85., 280., 336., 281., 118., 317., 235.,\n",
       "        60., 174., 259., 178., 128.,  96., 126., 288.,  88., 292.,  71.,\n",
       "       197., 186.,  25.,  84.,  96., 195.,  53., 217., 172., 131., 214.,\n",
       "        59.,  70., 220., 268., 152.,  47.,  74., 295., 101., 151., 127.,\n",
       "       237., 225.,  81., 151., 107.,  64., 138., 185., 265., 101., 137.,\n",
       "       143., 141.,  79., 292., 178.,  91., 116.,  86., 122.,  72., 129.,\n",
       "       142.,  90., 158.,  39., 196., 222., 277.,  99., 196., 202., 155.,\n",
       "        77., 191.,  70.,  73.,  49.,  65., 263., 248., 296., 214., 185.,\n",
       "        78.,  93., 252., 150.,  77., 208.,  77., 108., 160.,  53., 220.,\n",
       "       154., 259.,  90., 246., 124.,  67.,  72., 257., 262., 275., 177.,\n",
       "        71.,  47., 187., 125.,  78.,  51., 258., 215., 303., 243.,  91.,\n",
       "       150., 310., 153., 346.,  63.,  89.,  50.,  39., 103., 308., 116.,\n",
       "       145.,  74.,  45., 115., 264.,  87., 202., 127., 182., 241.,  66.,\n",
       "        94., 283.,  64., 102., 200., 265.,  94., 230., 181., 156., 233.,\n",
       "        60., 219.,  80.,  68., 332., 248.,  84., 200.,  55.,  85.,  89.,\n",
       "        31., 129.,  83., 275.,  65., 198., 236., 253., 124.,  44., 172.,\n",
       "       114., 142., 109., 180., 144., 163., 147.,  97., 220., 190., 109.,\n",
       "       191., 122., 230., 242., 248., 249., 192., 131., 237.,  78., 135.,\n",
       "       244., 199., 270., 164.,  72.,  96., 306.,  91., 214.,  95., 216.,\n",
       "       263., 178., 113., 200., 139., 139.,  88., 148.,  88., 243.,  71.,\n",
       "        77., 109., 272.,  60.,  54., 221.,  90., 311., 281., 182., 321.,\n",
       "        58., 262., 206., 233., 242., 123., 167.,  63., 197.,  71., 168.,\n",
       "       140., 217., 121., 235., 245.,  40.,  52., 104., 132.,  88.,  69.,\n",
       "       219.,  72., 201., 110.,  51., 277.,  63., 118.,  69., 273., 258.,\n",
       "        43., 198., 242., 232., 175.,  93., 168., 275., 293., 281.,  72.,\n",
       "       140., 189., 181., 209., 136., 261., 113., 131., 174., 257.,  55.,\n",
       "        84.,  42., 146., 212., 233.,  91., 111., 152., 120.,  67., 310.,\n",
       "        94., 183.,  66., 173.,  72.,  49.,  64.,  48., 178., 104., 132.,\n",
       "       220.,  57.])"
      ]
     },
     "execution_count": 23,
     "metadata": {},
     "output_type": "execute_result"
    }
   ],
   "source": [
    "# insert code here\n",
    "X = diabetes.data\n",
    "X\n",
    "# Convert the target to categorical #multi class classification one row 1 and other 0 out of 10 cols\n",
    "y = diabetes.target\n",
    "y\n"
   ]
  },
  {
   "cell_type": "code",
   "execution_count": 25,
   "metadata": {},
   "outputs": [],
   "source": [
    "X_train, X_test, y_train, y_test = train_test_split(\n",
    "    X, y, \n",
    "    test_size = 0.3,\n",
    "    random_state = 65)"
   ]
  },
  {
   "cell_type": "markdown",
   "metadata": {
    "id": "o4dJViJD1Kd0"
   },
   "source": [
    "### Create the model's architecture"
   ]
  },
  {
   "cell_type": "code",
   "execution_count": 26,
   "metadata": {
    "id": "Tkgf_BLl1Kd1"
   },
   "outputs": [],
   "source": [
    "# insert code here\n",
    "model = Sequential()"
   ]
  },
  {
   "cell_type": "code",
   "execution_count": 27,
   "metadata": {},
   "outputs": [],
   "source": [
    "# Add the first hidden layer\n",
    "n_cols = X.shape[1]\n",
    "\n",
    "\n",
    "model.add(Dense(15, activation = 'relu', input_shape = (n_cols, )))\n",
    "# Add the second hidden layer\n",
    "model.add(Dense(10, activation = 'relu'))\n",
    "\n",
    "# Add the output layer\n",
    "model.add(Dense(1, activation = 'linear'))"
   ]
  },
  {
   "cell_type": "code",
   "execution_count": 28,
   "metadata": {},
   "outputs": [
    {
     "name": "stdout",
     "output_type": "stream",
     "text": [
      "Model: \"sequential_3\"\n",
      "_________________________________________________________________\n",
      " Layer (type)                Output Shape              Param #   \n",
      "=================================================================\n",
      " dense (Dense)               (None, 15)                165       \n",
      "                                                                 \n",
      " dense_1 (Dense)             (None, 10)                160       \n",
      "                                                                 \n",
      " dense_2 (Dense)             (None, 1)                 11        \n",
      "                                                                 \n",
      "=================================================================\n",
      "Total params: 336 (1.31 KB)\n",
      "Trainable params: 336 (1.31 KB)\n",
      "Non-trainable params: 0 (0.00 Byte)\n",
      "_________________________________________________________________\n",
      "None\n"
     ]
    }
   ],
   "source": [
    "print(model.summary())"
   ]
  },
  {
   "cell_type": "markdown",
   "metadata": {
    "id": "5hQTS42V1Kd4"
   },
   "source": [
    "### Compile the model"
   ]
  },
  {
   "cell_type": "code",
   "execution_count": 29,
   "metadata": {
    "id": "BvLsoanF1Kd5"
   },
   "outputs": [
    {
     "name": "stdout",
     "output_type": "stream",
     "text": [
      "WARNING:tensorflow:From C:\\Users\\Renee Garrett\\anaconda3\\Lib\\site-packages\\keras\\src\\optimizers\\__init__.py:309: The name tf.train.Optimizer is deprecated. Please use tf.compat.v1.train.Optimizer instead.\n",
      "\n"
     ]
    }
   ],
   "source": [
    "# insert code here\n",
    "model.compile(\n",
    "    optimizer = 'adam',\n",
    "    loss = 'mse', #mean square error\n",
    "    metrics = ['mse'])"
   ]
  },
  {
   "cell_type": "markdown",
   "metadata": {
    "id": "6KPQbnEj1Kd7"
   },
   "source": [
    "### Fit the training data"
   ]
  },
  {
   "cell_type": "code",
   "execution_count": 30,
   "metadata": {
    "id": "-oiuHjEj1Kd8"
   },
   "outputs": [
    {
     "name": "stdout",
     "output_type": "stream",
     "text": [
      "Epoch 1/100\n",
      "WARNING:tensorflow:From C:\\Users\\Renee Garrett\\anaconda3\\Lib\\site-packages\\keras\\src\\utils\\tf_utils.py:492: The name tf.ragged.RaggedTensorValue is deprecated. Please use tf.compat.v1.ragged.RaggedTensorValue instead.\n",
      "\n",
      "WARNING:tensorflow:From C:\\Users\\Renee Garrett\\anaconda3\\Lib\\site-packages\\keras\\src\\engine\\base_layer_utils.py:384: The name tf.executing_eagerly_outside_functions is deprecated. Please use tf.compat.v1.executing_eagerly_outside_functions instead.\n",
      "\n",
      "24/24 [==============================] - 2s 15ms/step - loss: 27796.5117 - mse: 27796.5117 - val_loss: 30886.7207 - val_mse: 30886.7207\n",
      "Epoch 2/100\n",
      "24/24 [==============================] - 0s 5ms/step - loss: 27765.6914 - mse: 27765.6914 - val_loss: 30849.5801 - val_mse: 30849.5801\n",
      "Epoch 3/100\n",
      "24/24 [==============================] - 0s 5ms/step - loss: 27725.7559 - mse: 27725.7578 - val_loss: 30796.0059 - val_mse: 30796.0059\n",
      "Epoch 4/100\n",
      "24/24 [==============================] - 0s 5ms/step - loss: 27666.2520 - mse: 27666.2520 - val_loss: 30718.2598 - val_mse: 30718.2598\n",
      "Epoch 5/100\n",
      "24/24 [==============================] - 0s 5ms/step - loss: 27576.0879 - mse: 27576.0859 - val_loss: 30600.1855 - val_mse: 30600.1855\n",
      "Epoch 6/100\n",
      "24/24 [==============================] - 0s 5ms/step - loss: 27440.1191 - mse: 27440.1191 - val_loss: 30420.7793 - val_mse: 30420.7793\n",
      "Epoch 7/100\n",
      "24/24 [==============================] - 0s 5ms/step - loss: 27238.5449 - mse: 27238.5469 - val_loss: 30164.5898 - val_mse: 30164.5898\n",
      "Epoch 8/100\n",
      "24/24 [==============================] - 0s 5ms/step - loss: 26963.3965 - mse: 26963.3965 - val_loss: 29815.2598 - val_mse: 29815.2598\n",
      "Epoch 9/100\n",
      "24/24 [==============================] - 0s 6ms/step - loss: 26583.0195 - mse: 26583.0195 - val_loss: 29355.5859 - val_mse: 29355.5898\n",
      "Epoch 10/100\n",
      "24/24 [==============================] - 0s 5ms/step - loss: 26106.9590 - mse: 26106.9590 - val_loss: 28779.3496 - val_mse: 28779.3496\n",
      "Epoch 11/100\n",
      "24/24 [==============================] - 0s 5ms/step - loss: 25504.7812 - mse: 25504.7812 - val_loss: 28073.0508 - val_mse: 28073.0508\n",
      "Epoch 12/100\n",
      "24/24 [==============================] - 0s 5ms/step - loss: 24775.6973 - mse: 24775.6973 - val_loss: 27222.1992 - val_mse: 27222.1992\n",
      "Epoch 13/100\n",
      "24/24 [==============================] - 0s 5ms/step - loss: 23941.9727 - mse: 23941.9727 - val_loss: 26265.4004 - val_mse: 26265.4004\n",
      "Epoch 14/100\n",
      "24/24 [==============================] - 0s 5ms/step - loss: 22981.8438 - mse: 22981.8457 - val_loss: 25150.9414 - val_mse: 25150.9414\n",
      "Epoch 15/100\n",
      "24/24 [==============================] - 0s 5ms/step - loss: 21894.0332 - mse: 21894.0332 - val_loss: 23924.7188 - val_mse: 23924.7188\n",
      "Epoch 16/100\n",
      "24/24 [==============================] - 0s 6ms/step - loss: 20672.0117 - mse: 20672.0117 - val_loss: 22542.4648 - val_mse: 22542.4648\n",
      "Epoch 17/100\n",
      "24/24 [==============================] - 0s 5ms/step - loss: 19370.1914 - mse: 19370.1914 - val_loss: 21071.9160 - val_mse: 21071.9160\n",
      "Epoch 18/100\n",
      "24/24 [==============================] - 0s 5ms/step - loss: 17953.4707 - mse: 17953.4707 - val_loss: 19490.8008 - val_mse: 19490.8008\n",
      "Epoch 19/100\n",
      "24/24 [==============================] - 0s 5ms/step - loss: 16523.1055 - mse: 16523.1055 - val_loss: 17972.5703 - val_mse: 17972.5703\n",
      "Epoch 20/100\n",
      "24/24 [==============================] - 0s 5ms/step - loss: 15100.7100 - mse: 15100.7100 - val_loss: 16363.4648 - val_mse: 16363.4648\n",
      "Epoch 21/100\n",
      "24/24 [==============================] - 0s 5ms/step - loss: 13677.6641 - mse: 13677.6641 - val_loss: 14827.0029 - val_mse: 14827.0029\n",
      "Epoch 22/100\n",
      "24/24 [==============================] - 0s 5ms/step - loss: 12310.6572 - mse: 12310.6572 - val_loss: 13339.6846 - val_mse: 13339.6846\n",
      "Epoch 23/100\n",
      "24/24 [==============================] - 0s 5ms/step - loss: 10969.3408 - mse: 10969.3418 - val_loss: 11888.7334 - val_mse: 11888.7334\n",
      "Epoch 24/100\n",
      "24/24 [==============================] - 0s 5ms/step - loss: 9723.7715 - mse: 9723.7715 - val_loss: 10510.4219 - val_mse: 10510.4219\n",
      "Epoch 25/100\n",
      "24/24 [==============================] - 0s 5ms/step - loss: 8570.2080 - mse: 8570.2080 - val_loss: 9364.6885 - val_mse: 9364.6885\n",
      "Epoch 26/100\n",
      "24/24 [==============================] - 0s 5ms/step - loss: 7623.5190 - mse: 7623.5190 - val_loss: 8366.7607 - val_mse: 8366.7607\n",
      "Epoch 27/100\n",
      "24/24 [==============================] - 0s 6ms/step - loss: 6824.5684 - mse: 6824.5684 - val_loss: 7492.0664 - val_mse: 7492.0664\n",
      "Epoch 28/100\n",
      "24/24 [==============================] - 0s 6ms/step - loss: 6149.4453 - mse: 6149.4453 - val_loss: 6694.3403 - val_mse: 6694.3403\n",
      "Epoch 29/100\n",
      "24/24 [==============================] - 0s 6ms/step - loss: 5622.8354 - mse: 5622.8354 - val_loss: 6188.2153 - val_mse: 6188.2153\n",
      "Epoch 30/100\n",
      "24/24 [==============================] - 0s 5ms/step - loss: 5226.7109 - mse: 5226.7109 - val_loss: 5749.5225 - val_mse: 5749.5225\n",
      "Epoch 31/100\n",
      "24/24 [==============================] - 0s 5ms/step - loss: 4963.1958 - mse: 4963.1958 - val_loss: 5469.2622 - val_mse: 5469.2622\n",
      "Epoch 32/100\n",
      "24/24 [==============================] - 0s 6ms/step - loss: 4781.2378 - mse: 4781.2378 - val_loss: 5245.1294 - val_mse: 5245.1294\n",
      "Epoch 33/100\n",
      "24/24 [==============================] - 0s 6ms/step - loss: 4629.5005 - mse: 4629.5005 - val_loss: 5105.7773 - val_mse: 5105.7773\n",
      "Epoch 34/100\n",
      "24/24 [==============================] - 0s 4ms/step - loss: 4521.8032 - mse: 4521.8032 - val_loss: 4933.9541 - val_mse: 4933.9541\n",
      "Epoch 35/100\n",
      "24/24 [==============================] - 0s 6ms/step - loss: 4441.4766 - mse: 4441.4771 - val_loss: 4842.7017 - val_mse: 4842.7021\n",
      "Epoch 36/100\n",
      "24/24 [==============================] - 0s 5ms/step - loss: 4380.5112 - mse: 4380.5112 - val_loss: 4762.9692 - val_mse: 4762.9692\n",
      "Epoch 37/100\n",
      "24/24 [==============================] - 0s 5ms/step - loss: 4321.4629 - mse: 4321.4629 - val_loss: 4657.8330 - val_mse: 4657.8330\n",
      "Epoch 38/100\n",
      "24/24 [==============================] - 0s 5ms/step - loss: 4260.2456 - mse: 4260.2456 - val_loss: 4597.6577 - val_mse: 4597.6577\n",
      "Epoch 39/100\n",
      "24/24 [==============================] - 0s 5ms/step - loss: 4224.4233 - mse: 4224.4233 - val_loss: 4546.6353 - val_mse: 4546.6353\n",
      "Epoch 40/100\n",
      "24/24 [==============================] - 0s 5ms/step - loss: 4179.5703 - mse: 4179.5703 - val_loss: 4505.0791 - val_mse: 4505.0791\n",
      "Epoch 41/100\n",
      "24/24 [==============================] - 0s 5ms/step - loss: 4151.3193 - mse: 4151.3193 - val_loss: 4481.4849 - val_mse: 4481.4849\n",
      "Epoch 42/100\n",
      "24/24 [==============================] - 0s 5ms/step - loss: 4107.7822 - mse: 4107.7822 - val_loss: 4413.0557 - val_mse: 4413.0557\n",
      "Epoch 43/100\n",
      "24/24 [==============================] - 0s 5ms/step - loss: 4069.6335 - mse: 4069.6335 - val_loss: 4382.9463 - val_mse: 4382.9463\n",
      "Epoch 44/100\n",
      "24/24 [==============================] - 0s 5ms/step - loss: 4033.8584 - mse: 4033.8584 - val_loss: 4351.4282 - val_mse: 4351.4282\n",
      "Epoch 45/100\n",
      "24/24 [==============================] - 0s 6ms/step - loss: 4000.8064 - mse: 4000.8064 - val_loss: 4314.2769 - val_mse: 4314.2769\n",
      "Epoch 46/100\n",
      "24/24 [==============================] - 0s 6ms/step - loss: 3965.7656 - mse: 3965.7656 - val_loss: 4269.0991 - val_mse: 4269.0991\n",
      "Epoch 47/100\n",
      "24/24 [==============================] - 0s 5ms/step - loss: 3932.4746 - mse: 3932.4746 - val_loss: 4251.1230 - val_mse: 4251.1230\n",
      "Epoch 48/100\n",
      "24/24 [==============================] - 0s 5ms/step - loss: 3905.5222 - mse: 3905.5222 - val_loss: 4221.7524 - val_mse: 4221.7524\n",
      "Epoch 49/100\n",
      "24/24 [==============================] - 0s 5ms/step - loss: 3874.7678 - mse: 3874.7678 - val_loss: 4166.2251 - val_mse: 4166.2251\n",
      "Epoch 50/100\n",
      "24/24 [==============================] - 0s 5ms/step - loss: 3839.3206 - mse: 3839.3206 - val_loss: 4129.7241 - val_mse: 4129.7241\n",
      "Epoch 51/100\n",
      "24/24 [==============================] - 0s 5ms/step - loss: 3812.8259 - mse: 3812.8259 - val_loss: 4103.5259 - val_mse: 4103.5259\n",
      "Epoch 52/100\n",
      "24/24 [==============================] - 0s 5ms/step - loss: 3785.9856 - mse: 3785.9856 - val_loss: 4076.9683 - val_mse: 4076.9683\n",
      "Epoch 53/100\n",
      "24/24 [==============================] - 0s 6ms/step - loss: 3762.1533 - mse: 3762.1533 - val_loss: 4052.1499 - val_mse: 4052.1499\n",
      "Epoch 54/100\n"
     ]
    },
    {
     "name": "stdout",
     "output_type": "stream",
     "text": [
      "24/24 [==============================] - 0s 4ms/step - loss: 3753.5547 - mse: 3753.5547 - val_loss: 4016.4114 - val_mse: 4016.4114\n",
      "Epoch 55/100\n",
      "24/24 [==============================] - 0s 5ms/step - loss: 3720.6311 - mse: 3720.6309 - val_loss: 3988.3208 - val_mse: 3988.3208\n",
      "Epoch 56/100\n",
      "24/24 [==============================] - 0s 5ms/step - loss: 3692.1873 - mse: 3692.1873 - val_loss: 3979.5386 - val_mse: 3979.5386\n",
      "Epoch 57/100\n",
      "24/24 [==============================] - 0s 6ms/step - loss: 3671.4824 - mse: 3671.4824 - val_loss: 3963.6111 - val_mse: 3963.6111\n",
      "Epoch 58/100\n",
      "24/24 [==============================] - 0s 5ms/step - loss: 3648.4451 - mse: 3648.4451 - val_loss: 3942.2432 - val_mse: 3942.2432\n",
      "Epoch 59/100\n",
      "24/24 [==============================] - 0s 6ms/step - loss: 3626.1021 - mse: 3626.1021 - val_loss: 3935.4287 - val_mse: 3935.4287\n",
      "Epoch 60/100\n",
      "24/24 [==============================] - 0s 5ms/step - loss: 3606.9482 - mse: 3606.9482 - val_loss: 3923.6531 - val_mse: 3923.6531\n",
      "Epoch 61/100\n",
      "24/24 [==============================] - 0s 6ms/step - loss: 3586.4146 - mse: 3586.4146 - val_loss: 3897.1021 - val_mse: 3897.1021\n",
      "Epoch 62/100\n",
      "24/24 [==============================] - 0s 6ms/step - loss: 3565.0764 - mse: 3565.0764 - val_loss: 3869.0193 - val_mse: 3869.0193\n",
      "Epoch 63/100\n",
      "24/24 [==============================] - 0s 5ms/step - loss: 3545.0317 - mse: 3545.0317 - val_loss: 3856.9614 - val_mse: 3856.9614\n",
      "Epoch 64/100\n",
      "24/24 [==============================] - 0s 5ms/step - loss: 3531.7898 - mse: 3531.7898 - val_loss: 3828.1968 - val_mse: 3828.1968\n",
      "Epoch 65/100\n",
      "24/24 [==============================] - 0s 4ms/step - loss: 3508.9336 - mse: 3508.9336 - val_loss: 3821.8818 - val_mse: 3821.8818\n",
      "Epoch 66/100\n",
      "24/24 [==============================] - 0s 5ms/step - loss: 3489.6294 - mse: 3489.6294 - val_loss: 3798.1892 - val_mse: 3798.1892\n",
      "Epoch 67/100\n",
      "24/24 [==============================] - 0s 5ms/step - loss: 3471.3569 - mse: 3471.3569 - val_loss: 3786.2876 - val_mse: 3786.2876\n",
      "Epoch 68/100\n",
      "24/24 [==============================] - 0s 5ms/step - loss: 3454.9634 - mse: 3454.9634 - val_loss: 3768.5344 - val_mse: 3768.5344\n",
      "Epoch 69/100\n",
      "24/24 [==============================] - 0s 5ms/step - loss: 3439.4248 - mse: 3439.4248 - val_loss: 3749.9888 - val_mse: 3749.9888\n",
      "Epoch 70/100\n",
      "24/24 [==============================] - 0s 5ms/step - loss: 3424.0222 - mse: 3424.0222 - val_loss: 3728.1799 - val_mse: 3728.1799\n",
      "Epoch 71/100\n",
      "24/24 [==============================] - 0s 5ms/step - loss: 3411.5964 - mse: 3411.5964 - val_loss: 3730.1018 - val_mse: 3730.1018\n",
      "Epoch 72/100\n",
      "24/24 [==============================] - 0s 5ms/step - loss: 3392.0208 - mse: 3392.0208 - val_loss: 3710.4944 - val_mse: 3710.4944\n",
      "Epoch 73/100\n",
      "24/24 [==============================] - 0s 5ms/step - loss: 3379.0364 - mse: 3379.0364 - val_loss: 3703.0693 - val_mse: 3703.0693\n",
      "Epoch 74/100\n",
      "24/24 [==============================] - 0s 5ms/step - loss: 3359.3230 - mse: 3359.3228 - val_loss: 3682.1819 - val_mse: 3682.1819\n",
      "Epoch 75/100\n",
      "24/24 [==============================] - 0s 5ms/step - loss: 3345.5796 - mse: 3345.5796 - val_loss: 3671.8430 - val_mse: 3671.8430\n",
      "Epoch 76/100\n",
      "24/24 [==============================] - 0s 5ms/step - loss: 3330.0579 - mse: 3330.0579 - val_loss: 3654.1802 - val_mse: 3654.1802\n",
      "Epoch 77/100\n",
      "24/24 [==============================] - 0s 5ms/step - loss: 3314.2451 - mse: 3314.2451 - val_loss: 3644.9102 - val_mse: 3644.9102\n",
      "Epoch 78/100\n",
      "24/24 [==============================] - 0s 4ms/step - loss: 3301.2554 - mse: 3301.2554 - val_loss: 3636.2944 - val_mse: 3636.2944\n",
      "Epoch 79/100\n",
      "24/24 [==============================] - 0s 5ms/step - loss: 3290.8840 - mse: 3290.8840 - val_loss: 3627.1458 - val_mse: 3627.1458\n",
      "Epoch 80/100\n",
      "24/24 [==============================] - 0s 4ms/step - loss: 3278.8767 - mse: 3278.8767 - val_loss: 3604.8186 - val_mse: 3604.8186\n",
      "Epoch 81/100\n",
      "24/24 [==============================] - 0s 5ms/step - loss: 3263.9990 - mse: 3263.9990 - val_loss: 3602.0417 - val_mse: 3602.0417\n",
      "Epoch 82/100\n",
      "24/24 [==============================] - 0s 5ms/step - loss: 3250.8860 - mse: 3250.8860 - val_loss: 3584.4805 - val_mse: 3584.4805\n",
      "Epoch 83/100\n",
      "24/24 [==============================] - 0s 5ms/step - loss: 3239.2957 - mse: 3239.2957 - val_loss: 3570.7092 - val_mse: 3570.7092\n",
      "Epoch 84/100\n",
      "24/24 [==============================] - 0s 5ms/step - loss: 3225.6069 - mse: 3225.6069 - val_loss: 3564.8237 - val_mse: 3564.8237\n",
      "Epoch 85/100\n",
      "24/24 [==============================] - 0s 5ms/step - loss: 3209.9751 - mse: 3209.9751 - val_loss: 3546.1318 - val_mse: 3546.1318\n",
      "Epoch 86/100\n",
      "24/24 [==============================] - 0s 5ms/step - loss: 3203.8528 - mse: 3203.8528 - val_loss: 3530.7576 - val_mse: 3530.7576\n",
      "Epoch 87/100\n",
      "24/24 [==============================] - 0s 5ms/step - loss: 3189.0823 - mse: 3189.0823 - val_loss: 3529.8501 - val_mse: 3529.8501\n",
      "Epoch 88/100\n",
      "24/24 [==============================] - 0s 5ms/step - loss: 3172.4875 - mse: 3172.4875 - val_loss: 3526.2705 - val_mse: 3526.2705\n",
      "Epoch 89/100\n",
      "24/24 [==============================] - 0s 5ms/step - loss: 3165.5996 - mse: 3165.5996 - val_loss: 3516.7595 - val_mse: 3516.7595\n",
      "Epoch 90/100\n",
      "24/24 [==============================] - 0s 4ms/step - loss: 3149.2007 - mse: 3149.2007 - val_loss: 3512.8142 - val_mse: 3512.8142\n",
      "Epoch 91/100\n",
      "24/24 [==============================] - 0s 4ms/step - loss: 3141.3809 - mse: 3141.3809 - val_loss: 3510.3789 - val_mse: 3510.3789\n",
      "Epoch 92/100\n",
      "24/24 [==============================] - 0s 5ms/step - loss: 3127.7927 - mse: 3127.7927 - val_loss: 3494.0413 - val_mse: 3494.0413\n",
      "Epoch 93/100\n",
      "24/24 [==============================] - 0s 5ms/step - loss: 3114.1450 - mse: 3114.1450 - val_loss: 3469.6570 - val_mse: 3469.6570\n",
      "Epoch 94/100\n",
      "24/24 [==============================] - 0s 5ms/step - loss: 3105.2817 - mse: 3105.2817 - val_loss: 3459.6375 - val_mse: 3459.6375\n",
      "Epoch 95/100\n",
      "24/24 [==============================] - 0s 5ms/step - loss: 3095.1155 - mse: 3095.1155 - val_loss: 3448.5388 - val_mse: 3448.5388\n",
      "Epoch 96/100\n",
      "24/24 [==============================] - 0s 5ms/step - loss: 3089.5154 - mse: 3089.5154 - val_loss: 3450.5432 - val_mse: 3450.5432\n",
      "Epoch 97/100\n",
      "24/24 [==============================] - 0s 5ms/step - loss: 3075.6453 - mse: 3075.6453 - val_loss: 3442.3301 - val_mse: 3442.3301\n",
      "Epoch 98/100\n",
      "24/24 [==============================] - 0s 5ms/step - loss: 3064.3157 - mse: 3064.3157 - val_loss: 3430.1375 - val_mse: 3430.1375\n",
      "Epoch 99/100\n",
      "24/24 [==============================] - 0s 5ms/step - loss: 3056.1121 - mse: 3056.1121 - val_loss: 3411.3867 - val_mse: 3411.3862\n",
      "Epoch 100/100\n",
      "24/24 [==============================] - 0s 5ms/step - loss: 3049.8228 - mse: 3049.8228 - val_loss: 3407.8899 - val_mse: 3407.8899\n",
      "CPU times: total: 15.7 s\n",
      "Wall time: 14.2 s\n"
     ]
    }
   ],
   "source": [
    "%%time\n",
    "# insert code here\n",
    "# Fit the model\n",
    "history = model.fit(\n",
    "    X_train,\n",
    "    y_train,\n",
    "    validation_split = 0.25,\n",
    "    batch_size = 10,\n",
    "    epochs = 100,\n",
    "    verbose = 1)"
   ]
  },
  {
   "cell_type": "code",
   "execution_count": 31,
   "metadata": {},
   "outputs": [
    {
     "data": {
      "text/plain": [
       "['__class__',\n",
       " '__delattr__',\n",
       " '__dict__',\n",
       " '__dir__',\n",
       " '__doc__',\n",
       " '__eq__',\n",
       " '__format__',\n",
       " '__ge__',\n",
       " '__getattribute__',\n",
       " '__getstate__',\n",
       " '__gt__',\n",
       " '__hash__',\n",
       " '__init__',\n",
       " '__init_subclass__',\n",
       " '__le__',\n",
       " '__lt__',\n",
       " '__module__',\n",
       " '__ne__',\n",
       " '__new__',\n",
       " '__reduce__',\n",
       " '__reduce_ex__',\n",
       " '__repr__',\n",
       " '__setattr__',\n",
       " '__sizeof__',\n",
       " '__str__',\n",
       " '__subclasshook__',\n",
       " '__weakref__',\n",
       " '_chief_worker_only',\n",
       " '_implements_predict_batch_hooks',\n",
       " '_implements_test_batch_hooks',\n",
       " '_implements_train_batch_hooks',\n",
       " '_keras_api_names',\n",
       " '_keras_api_names_v1',\n",
       " '_supports_tf_logs',\n",
       " 'epoch',\n",
       " 'history',\n",
       " 'model',\n",
       " 'on_batch_begin',\n",
       " 'on_batch_end',\n",
       " 'on_epoch_begin',\n",
       " 'on_epoch_end',\n",
       " 'on_predict_batch_begin',\n",
       " 'on_predict_batch_end',\n",
       " 'on_predict_begin',\n",
       " 'on_predict_end',\n",
       " 'on_test_batch_begin',\n",
       " 'on_test_batch_end',\n",
       " 'on_test_begin',\n",
       " 'on_test_end',\n",
       " 'on_train_batch_begin',\n",
       " 'on_train_batch_end',\n",
       " 'on_train_begin',\n",
       " 'on_train_end',\n",
       " 'params',\n",
       " 'set_model',\n",
       " 'set_params',\n",
       " 'validation_data']"
      ]
     },
     "execution_count": 31,
     "metadata": {},
     "output_type": "execute_result"
    }
   ],
   "source": [
    "dir(history)"
   ]
  },
  {
   "cell_type": "markdown",
   "metadata": {
    "id": "CR-kCu3c1Kd-"
   },
   "source": [
    "### Create predictions"
   ]
  },
  {
   "cell_type": "code",
   "execution_count": 32,
   "metadata": {
    "id": "wkywKqPg1Kd-"
   },
   "outputs": [
    {
     "name": "stdout",
     "output_type": "stream",
     "text": [
      "5/5 [==============================] - 0s 3ms/step\n"
     ]
    }
   ],
   "source": [
    "# insert code here\n",
    "predictions = model.predict(X_test)\n",
    "#for every training data will have a probility score"
   ]
  },
  {
   "cell_type": "code",
   "execution_count": 33,
   "metadata": {},
   "outputs": [
    {
     "data": {
      "text/plain": [
       "array([[179.92624 ],\n",
       "       [197.04143 ],\n",
       "       [182.14603 ],\n",
       "       [235.45712 ],\n",
       "       [180.5267  ],\n",
       "       [236.75548 ],\n",
       "       [166.55923 ],\n",
       "       [ 90.721634],\n",
       "       [144.09447 ],\n",
       "       [168.62805 ],\n",
       "       [213.75201 ],\n",
       "       [201.91127 ],\n",
       "       [110.94133 ],\n",
       "       [211.42555 ],\n",
       "       [123.37435 ],\n",
       "       [204.49414 ],\n",
       "       [ 90.595795],\n",
       "       [141.70981 ],\n",
       "       [138.86491 ],\n",
       "       [139.6539  ],\n",
       "       [ 80.684235],\n",
       "       [ 90.47922 ],\n",
       "       [165.94424 ],\n",
       "       [150.31094 ],\n",
       "       [203.32037 ],\n",
       "       [172.29953 ],\n",
       "       [127.2429  ],\n",
       "       [103.89561 ],\n",
       "       [157.01611 ],\n",
       "       [207.85797 ],\n",
       "       [233.40457 ],\n",
       "       [228.17055 ],\n",
       "       [169.45938 ],\n",
       "       [147.07518 ],\n",
       "       [131.15186 ],\n",
       "       [164.79143 ],\n",
       "       [117.733604],\n",
       "       [198.27042 ],\n",
       "       [179.54573 ],\n",
       "       [125.72566 ],\n",
       "       [126.200264],\n",
       "       [124.4126  ],\n",
       "       [192.97267 ],\n",
       "       [202.67946 ],\n",
       "       [152.0197  ],\n",
       "       [224.65697 ],\n",
       "       [163.42119 ],\n",
       "       [190.2651  ],\n",
       "       [165.92894 ],\n",
       "       [126.87085 ],\n",
       "       [134.94064 ],\n",
       "       [202.76727 ],\n",
       "       [182.82823 ],\n",
       "       [154.85928 ],\n",
       "       [171.8201  ],\n",
       "       [ 93.59659 ],\n",
       "       [166.88583 ],\n",
       "       [141.66193 ],\n",
       "       [169.06465 ],\n",
       "       [ 95.41117 ],\n",
       "       [140.91129 ],\n",
       "       [152.05325 ],\n",
       "       [189.84814 ],\n",
       "       [226.78879 ],\n",
       "       [176.64783 ],\n",
       "       [161.87624 ],\n",
       "       [121.841705],\n",
       "       [197.68245 ],\n",
       "       [201.06885 ],\n",
       "       [104.9029  ],\n",
       "       [171.87996 ],\n",
       "       [179.80238 ],\n",
       "       [101.7469  ],\n",
       "       [ 94.7354  ],\n",
       "       [ 79.364876],\n",
       "       [139.49988 ],\n",
       "       [187.31195 ],\n",
       "       [ 89.43033 ],\n",
       "       [232.67921 ],\n",
       "       [136.45775 ],\n",
       "       [187.6661  ],\n",
       "       [215.2659  ],\n",
       "       [136.67569 ],\n",
       "       [ 94.22652 ],\n",
       "       [172.15514 ],\n",
       "       [178.32915 ],\n",
       "       [104.42861 ],\n",
       "       [157.17038 ],\n",
       "       [208.45995 ],\n",
       "       [199.50957 ],\n",
       "       [ 92.48205 ],\n",
       "       [173.22974 ],\n",
       "       [181.72781 ],\n",
       "       [145.90378 ],\n",
       "       [202.68414 ],\n",
       "       [106.58009 ],\n",
       "       [135.72107 ],\n",
       "       [133.15921 ],\n",
       "       [ 99.460144],\n",
       "       [164.23447 ],\n",
       "       [188.20003 ],\n",
       "       [141.84497 ],\n",
       "       [160.5607  ],\n",
       "       [186.73357 ],\n",
       "       [188.55652 ],\n",
       "       [ 93.37013 ],\n",
       "       [168.20065 ],\n",
       "       [223.90454 ],\n",
       "       [ 96.88106 ],\n",
       "       [202.4572  ],\n",
       "       [185.10695 ],\n",
       "       [162.05264 ],\n",
       "       [276.92764 ],\n",
       "       [128.84058 ],\n",
       "       [266.0074  ],\n",
       "       [137.54848 ],\n",
       "       [104.80376 ],\n",
       "       [207.82173 ],\n",
       "       [163.05876 ],\n",
       "       [148.87996 ],\n",
       "       [232.4424  ],\n",
       "       [137.19983 ],\n",
       "       [171.09166 ],\n",
       "       [166.55992 ],\n",
       "       [117.72197 ],\n",
       "       [244.45358 ],\n",
       "       [150.81905 ],\n",
       "       [131.24002 ],\n",
       "       [143.5889  ],\n",
       "       [ 69.0165  ],\n",
       "       [128.6077  ],\n",
       "       [154.48868 ],\n",
       "       [232.79448 ]], dtype=float32)"
      ]
     },
     "execution_count": 33,
     "metadata": {},
     "output_type": "execute_result"
    }
   ],
   "source": [
    "predictions"
   ]
  },
  {
   "cell_type": "markdown",
   "metadata": {
    "id": "-unEmrGo1KeA"
   },
   "source": [
    "### Evaluate the model"
   ]
  },
  {
   "cell_type": "code",
   "execution_count": 34,
   "metadata": {
    "id": "QCIVpVrG1KeB"
   },
   "outputs": [
    {
     "name": "stdout",
     "output_type": "stream",
     "text": [
      "5/5 [==============================] - 0s 3ms/step - loss: 3430.6831 - mse: 3430.6831\n",
      "\n",
      "Test loss: 3430.683105, Test accuracy: 3430.683105\n"
     ]
    }
   ],
   "source": [
    "# insert code here\n",
    "score = model.evaluate(X_test, y_test)\n",
    "print('\\nTest loss: %.6f, Test accuracy: %.6f' % tuple(score))\n",
    "\n",
    "#or \n",
    "#print(\\nTest loss: %.6f % score[0])"
   ]
  },
  {
   "cell_type": "markdown",
   "metadata": {
    "id": "sSlqjs7e1KeD"
   },
   "source": [
    "### Visualization of cost"
   ]
  },
  {
   "cell_type": "code",
   "execution_count": 37,
   "metadata": {
    "id": "1F6hYpNh1KeE",
    "scrolled": true
   },
   "outputs": [
    {
     "data": {
      "image/png": "[encoded data removed]",
      "text/plain": [
       "<Figure size 1800x600 with 2 Axes>"
      ]
     },
     "metadata": {},
     "output_type": "display_data"
    }
   ],
   "source": [
    "# insert code here *R SQUARE VALUE & MSE\n",
    "\n",
    "fig, ax = plt.subplots(1, 2, figsize = (18, 6))\n",
    "fig.subplots_adjust(left = 0.02, right = 0.98, wspace = 0.2)\n",
    "\n",
    "plt.rcParams.update({'font.size': 18})\n",
    "\n",
    "# Plot training & validation accuracy values\n",
    "ax[0].plot(history.history['mse'], label = 'Training')\n",
    "ax[0].plot(history.history['val_mse'], label = 'Validation')\n",
    "ax[0].set_title('Model MSE')\n",
    "ax[0].set_ylabel('MSE')\n",
    "ax[0].set_xlabel('Epoch')\n",
    "ax[0].legend()\n",
    "\n",
    "# Plot training & validation loss values\n",
    "ax[1].plot(history.history['loss'], label = 'Training')\n",
    "ax[1].plot(history.history['val_loss'], label = 'Validation')\n",
    "ax[1].set_title('Model loss')\n",
    "ax[1].set_ylabel('Loss')\n",
    "ax[1].set_xlabel('Epoch')\n",
    "ax[1].legend()\n",
    "\n",
    "plt.show()"
   ]
  },
  {
   "cell_type": "markdown",
   "metadata": {
    "id": "vQLzMZTM1KeG"
   },
   "source": [
    "### Visualization of residuals"
   ]
  },
  {
   "cell_type": "code",
   "execution_count": 40,
   "metadata": {
    "id": "opIulVSw1KeH"
   },
   "outputs": [
    {
     "data": {
      "text/plain": [
       "0.43261216266959024"
      ]
     },
     "execution_count": 40,
     "metadata": {},
     "output_type": "execute_result"
    }
   ],
   "source": [
    "# insert code here\n",
    "\n",
    "from sklearn.metrics import r2_score \n",
    "\n",
    "r2 = r2_score(y_test,predictions)\n",
    "r2"
   ]
  },
  {
   "cell_type": "markdown",
   "metadata": {
    "id": "RERADKgNFq9T"
   },
   "source": [
    "\n",
    "\n",
    "---\n",
    "\n",
    "\n",
    "\n",
    "---\n",
    "\n",
    "\n",
    "\n",
    "> > > > > > > > > © 2023 Institute of Data\n",
    "\n",
    "\n",
    "---\n",
    "\n",
    "\n",
    "\n",
    "---\n",
    "\n",
    "\n",
    "\n"
   ]
  }
 ],
 "metadata": {
  "colab": {
   "provenance": []
  },
  "kernelspec": {
   "display_name": "Python 3 (ipykernel)",
   "language": "python",
   "name": "python3"
  },
  "language_info": {
   "codemirror_mode": {
    "name": "ipython",
    "version": 3
   },
   "file_extension": ".py",
   "mimetype": "text/x-python",
   "name": "python",
   "nbconvert_exporter": "python",
   "pygments_lexer": "ipython3",
   "version": "3.11.4"
  }
 },
 "nbformat": 4,
 "nbformat_minor": 1
}
